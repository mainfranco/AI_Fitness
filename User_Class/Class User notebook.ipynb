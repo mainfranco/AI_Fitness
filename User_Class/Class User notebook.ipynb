{
 "cells": [
  {
   "cell_type": "code",
   "execution_count": 1,
   "id": "c978b084",
   "metadata": {},
   "outputs": [],
   "source": [
    "from class_user_1 import User\n",
    "import pickle"
   ]
  },
  {
   "cell_type": "code",
   "execution_count": 2,
   "id": "c28b9e3e",
   "metadata": {},
   "outputs": [],
   "source": [
    "mark = User('Mark', '001')"
   ]
  },
  {
   "cell_type": "code",
   "execution_count": 3,
   "id": "ff930102",
   "metadata": {},
   "outputs": [
    {
     "name": "stdout",
     "output_type": "stream",
     "text": [
      "('00001', 'Mark', b'\\x80\\x04\\x95S\\x00\\x00\\x00\\x00\\x00\\x00\\x00\\x8c\\x08__main__\\x94\\x8c\\x04User\\x94\\x93\\x94)\\x81\\x94}\\x94(\\x8c\\x04name\\x94\\x8c\\x04Mark\\x94\\x8c\\x02id\\x94\\x8c\\x0500001\\x94\\x8c\\x07db_path\\x94\\x8c\\x0efitness_app.db\\x94ub.')\n",
      "('001', 'Mark', b'\\x80\\x04\\x95U\\x00\\x00\\x00\\x00\\x00\\x00\\x00\\x8c\\x0cclass_user_1\\x94\\x8c\\x04User\\x94\\x93\\x94)\\x81\\x94}\\x94(\\x8c\\x04name\\x94\\x8c\\x04Mark\\x94\\x8c\\x02id\\x94\\x8c\\x03001\\x94\\x8c\\x07db_path\\x94\\x8c\\x0efitness_app.db\\x94ub.')\n"
     ]
    }
   ],
   "source": [
    "mark.pull_data('users')"
   ]
  },
  {
   "cell_type": "code",
   "execution_count": 5,
   "id": "2a093959",
   "metadata": {},
   "outputs": [
    {
     "name": "stdout",
     "output_type": "stream",
     "text": [
      "option: 1\n",
      "Bibigo Cooked Sticky White Rice Medium Grain Rice\n",
      "tag id: 6571a6d0d0015e0009ec4bb6\n",
      "serving unit: bowl\n",
      "serving quantity: 1\n",
      "calories per serving: 310\n",
      "-----------------------\n",
      "-----------------------\n",
      "option: 2\n",
      "Quaker Rice Cakes, Chocolate\n",
      "tag id: 51d2fe4bcc9bff111580f020\n",
      "serving unit: cake\n",
      "serving quantity: 1\n",
      "calories per serving: 60\n",
      "-----------------------\n",
      "-----------------------\n",
      "option: 3\n",
      "Quaker Rice Cakes, Caramel\n",
      "tag id: 51d2fe46cc9bff111580f002\n",
      "serving unit: cake\n",
      "serving quantity: 1\n",
      "calories per serving: 50\n",
      "-----------------------\n",
      "-----------------------\n",
      "option: 4\n",
      "Quaker Rice Cakes, Lightly Salted\n",
      "tag id: 51d2fe46cc9bff111580efff\n",
      "serving unit: cake\n",
      "serving quantity: 1\n",
      "calories per serving: 35\n",
      "-----------------------\n",
      "-----------------------\n",
      "option: 5\n",
      "Lundberg Organic Rice Cakes, Brown Rice, Lightly Salted\n",
      "tag id: 51c3bf3397c3e6d8d3b4852e\n",
      "serving unit: cake\n",
      "serving quantity: 1\n",
      "calories per serving: 70\n",
      "-----------------------\n",
      "-----------------------\n",
      "option: 6\n",
      "Ben's Original Rice, Jasmine\n",
      "tag id: 60f826de51d3f000081469de\n",
      "serving unit: pouch\n",
      "serving quantity: 1\n",
      "calories per serving: 420\n",
      "-----------------------\n",
      "-----------------------\n",
      "option: 7\n",
      "Kellogg's Rice Krispies Treats, Original\n",
      "tag id: 53737621bb4e43da390c84b9\n",
      "serving unit: bar\n",
      "serving quantity: 1\n",
      "calories per serving: 90\n",
      "-----------------------\n",
      "-----------------------\n",
      "option: 8\n",
      "Minute Brown Rice\n",
      "tag id: 51c53d0f97c3e6efadd59ce2\n",
      "serving unit: cup\n",
      "serving quantity: 1\n",
      "calories per serving: 210\n",
      "-----------------------\n",
      "-----------------------\n",
      "option: 9\n",
      "RiceSelect Rice Blend, Royal Blend\n",
      "tag id: 51c53d1497c3e6efadd59d0f\n",
      "serving unit: cup\n",
      "serving quantity: 0.33\n",
      "calories per serving: 140\n",
      "-----------------------\n",
      "-----------------------\n",
      "option: 10\n",
      "Rice-A-Roni Rice, Chicken Flavor\n",
      "tag id: 51d2fbabcc9bff111580de1c\n",
      "serving unit: oz\n",
      "serving quantity: 2\n",
      "calories per serving: 190\n",
      "-----------------------\n",
      "-----------------------\n",
      "option: 11\n",
      "rice\n",
      "tag id: 784\n",
      "serving unit: cup\n",
      "serving quantity: 1\n",
      "calories per serving: None\n",
      "-----------------------\n",
      "-----------------------\n",
      "option: 12\n",
      "red rice\n",
      "tag id: 9174\n",
      "serving unit: cup\n",
      "serving quantity: 0.5\n",
      "calories per serving: None\n",
      "-----------------------\n",
      "-----------------------\n",
      "option: 13\n",
      "dal rice\n",
      "tag id: 4186\n",
      "serving unit: cup\n",
      "serving quantity: 1\n",
      "calories per serving: None\n",
      "-----------------------\n",
      "-----------------------\n",
      "option: 14\n",
      "wild rice\n",
      "tag id: 1192\n",
      "serving unit: cup\n",
      "serving quantity: 1\n",
      "calories per serving: None\n",
      "-----------------------\n",
      "-----------------------\n",
      "option: 15\n",
      "white rice\n",
      "tag id: 85\n",
      "serving unit: cup\n",
      "serving quantity: 1\n",
      "calories per serving: None\n",
      "-----------------------\n",
      "-----------------------\n",
      "option: 16\n",
      "rice cakes\n",
      "tag id: 1686\n",
      "serving unit: cake\n",
      "serving quantity: 1\n",
      "calories per serving: None\n",
      "-----------------------\n",
      "-----------------------\n",
      "option: 17\n",
      "brown rice\n",
      "tag id: 37\n",
      "serving unit: cup\n",
      "serving quantity: 0.5\n",
      "calories per serving: None\n",
      "-----------------------\n",
      "-----------------------\n",
      "option: 18\n",
      "fried rice\n",
      "tag id: 1348\n",
      "serving unit: cup\n",
      "serving quantity: 1\n",
      "calories per serving: None\n",
      "-----------------------\n",
      "-----------------------\n",
      "option: 19\n",
      "rice white\n",
      "tag id: 85\n",
      "serving unit: cup\n",
      "serving quantity: 1\n",
      "calories per serving: None\n",
      "-----------------------\n",
      "-----------------------\n",
      "option: 20\n",
      "cooked rice\n",
      "tag id: 85\n",
      "serving unit: cup\n",
      "serving quantity: 1\n",
      "calories per serving: None\n",
      "-----------------------\n",
      "-----------------------\n",
      "Choice #: or press q to exit 2\n",
      "----------------------------\n",
      "----------------------------\n",
      "Your selection:  Rice Cakes, Chocolate\n",
      "Calories:  60\n",
      "Protein:  1\n",
      "Carbs:  12\n",
      "Fats:  1\n",
      "Serving grams:  15\n",
      "Serving unit:  cake\n",
      "------------------------------\n",
      "------------------------------\n",
      "1 for grams | 2 for serving units:  1\n",
      "How many grams?: 100\n",
      "-----------------------\n",
      "-----------------------\n",
      "Entry Log\n",
      "-------------------------\n",
      "food_name: Rice Cakes, Chocolate\n",
      "entry_date: 2024-02-29 17:53:43.898666\n",
      "img: https://assets.syndigo.com/c392d111-304a-4179-b968-9561a5a4fbb1\n",
      "calories: 400.0\n",
      "fat: 6.67\n",
      "carbs: 80.0\n",
      "protein: 6.67\n",
      "cholesterol: 0.0\n",
      "sodium: 233.33\n",
      "sugars: 26.67\n",
      "potassium: 266.67\n",
      "-------------------------\n",
      "Food logged successfully\n",
      "-------------------------\n",
      "Do you want to log another item: Y or N: n\n",
      "exited program\n"
     ]
    }
   ],
   "source": [
    "mark.log_food_entry('rice')"
   ]
  },
  {
   "cell_type": "code",
   "execution_count": 6,
   "id": "a51c8b2a",
   "metadata": {},
   "outputs": [
    {
     "name": "stdout",
     "output_type": "stream",
     "text": [
      "(1, 'Rice Cakes, Chocolate', 400, 6.67, 80, 6.67, 0, 233.33, 266.67, 26.67, '2024-02-29 17:53:43.898666', 'https://assets.syndigo.com/c392d111-304a-4179-b968-9561a5a4fbb1', '001')\n"
     ]
    }
   ],
   "source": [
    "mark.pull_data('food_log_001')"
   ]
  },
  {
   "cell_type": "code",
   "execution_count": 18,
   "id": "fb868558",
   "metadata": {},
   "outputs": [
    {
     "name": "stdout",
     "output_type": "stream",
     "text": [
      "[1] Palms-down wrist curl over bench\n",
      "[2] Palms-up wrist curl over bench\n",
      "[3] Dumbbell Bench Press\n",
      "[4] Close-grip bench press\n",
      "[5] Incline dumbbell bench press\n",
      "[6] Weighted bench dip\n",
      "[7] Barbell Bench Press - Medium Grip\n",
      "[8] Decline barbell bench press\n",
      "[9] Wide-grip bench press\n",
      "[10] Wide-Grip Decline Barbell Bench Press\n",
      "choose exercise: 6\n",
      "Weighted bench dip\n",
      "weight: 100\n",
      "reps: 5\n",
      "stop, y or ny\n",
      "['Weighted bench dip', {'set_1_weight': '100', 'reps_1': '5'}, '2024-02-29']\n"
     ]
    }
   ],
   "source": [
    "mark.log_exercise('Bench')"
   ]
  },
  {
   "cell_type": "code",
   "execution_count": 8,
   "id": "2cee35d7",
   "metadata": {},
   "outputs": [
    {
     "name": "stdout",
     "output_type": "stream",
     "text": [
      "Visit this URL in your web browser to authorize: https://www.fitbit.com/oauth2/authorize?client_id=23RQZC&response_type=code&scope=heartrate+sleep+weight+respiratory_rate+activity+oxygen_saturation+temperature&redirect_uri=https%3A%2F%2Flocalhost%3A3000%2Fcallback&code_challenge=UH7BlZufb4foWkHoGa9jQ-RCR9b7dKKxSK20fKc3ahY&code_challenge_method=S256\n",
      "Paste Request Token: f8bb9645d992c7dfc252377df274102e13ebaf07\n",
      "code_verifier, code_challenge and request token saved succesfully\n"
     ]
    }
   ],
   "source": [
    "mark.get_request_token_fitbit()"
   ]
  },
  {
   "cell_type": "code",
   "execution_count": 9,
   "id": "23f26558",
   "metadata": {},
   "outputs": [
    {
     "name": "stdout",
     "output_type": "stream",
     "text": [
      "Succesfull\n"
     ]
    }
   ],
   "source": [
    "mark.access_refresh_tokens_fitbit()"
   ]
  },
  {
   "cell_type": "code",
   "execution_count": 10,
   "id": "3a358a4d",
   "metadata": {},
   "outputs": [
    {
     "name": "stdout",
     "output_type": "stream",
     "text": [
      "('00001', 'Mark', b'\\x80\\x04\\x95S\\x00\\x00\\x00\\x00\\x00\\x00\\x00\\x8c\\x08__main__\\x94\\x8c\\x04User\\x94\\x93\\x94)\\x81\\x94}\\x94(\\x8c\\x04name\\x94\\x8c\\x04Mark\\x94\\x8c\\x02id\\x94\\x8c\\x0500001\\x94\\x8c\\x07db_path\\x94\\x8c\\x0efitness_app.db\\x94ub.')\n",
      "('001', 'Mark', b'\\x80\\x04\\x95\\xe1\\x02\\x00\\x00\\x00\\x00\\x00\\x00\\x8c\\x0cclass_user_1\\x94\\x8c\\x04User\\x94\\x93\\x94)\\x81\\x94}\\x94(\\x8c\\x04name\\x94\\x8c\\x04Mark\\x94\\x8c\\x02id\\x94\\x8c\\x03001\\x94\\x8c\\x07db_path\\x94\\x8c\\x0efitness_app.db\\x94\\x8c\\x14fitbit_request_token\\x94\\x8c(f8bb9645d992c7dfc252377df274102e13ebaf07\\x94\\x8c\\x14fitbit_code_verifier\\x94\\x8cViVkCmH96EZZiNQbdwmGkLN_SlMLs58H6bW2IeYUDeiJwou7CaEgYSroEub27eNB14tbavVaQ8maa3vQx65T1Bg\\x94\\x8c\\x15fitbit_code_challenge\\x94\\x8c+UH7BlZufb4foWkHoGa9jQ-RCR9b7dKKxSK20fKc3ahY\\x94\\x8c\\x13access_token_fitbit\\x94X\\x04\\x01\\x00\\x00eyJhbGciOiJIUzI1NiJ9.eyJhdWQiOiIyM1JRWkMiLCJzdWIiOiJCWUI3U0siLCJpc3MiOiJGaXRiaXQiLCJ0eXAiOiJhY2Nlc3NfdG9rZW4iLCJzY29wZXMiOiJyYWN0IHJyZXMgcm94eSByd2VpIHJociByc2xlIHJ0ZW0iLCJleHAiOjE3MDkyNzk2OTQsImlhdCI6MTcwOTI1MDg5NH0.A8spwX1tE1LFKxU6T39mSYosOcqK144On_Np3XR0y9E\\x94\\x8c\\x14refresh_token_fitbit\\x94\\x8c@a04ca6f2585c01659d287b51172159dd3161f41e1fb99a238e6cec72108b813f\\x94\\x8c\\x0euser_id_fitbit\\x94\\x8c\\x06BYB7SK\\x94ub.')\n"
     ]
    }
   ],
   "source": [
    "mark.pull_data('users')"
   ]
  },
  {
   "cell_type": "code",
   "execution_count": 9,
   "id": "0bbdf0b4",
   "metadata": {},
   "outputs": [
    {
     "name": "stdout",
     "output_type": "stream",
     "text": [
      "Need request token and or code verifier\n"
     ]
    }
   ],
   "source": [
    "mark.access_refresh_tokens_fitbit()"
   ]
  },
  {
   "cell_type": "code",
   "execution_count": 12,
   "id": "5b51134f",
   "metadata": {},
   "outputs": [
    {
     "name": "stdout",
     "output_type": "stream",
     "text": [
      "Good request\n"
     ]
    },
    {
     "data": {
      "text/plain": [
       "{'pagination': {'afterDate': '2024-02-10',\n",
       "  'limit': 100,\n",
       "  'next': '',\n",
       "  'offset': 0,\n",
       "  'previous': '',\n",
       "  'sort': 'asc'},\n",
       " 'sleep': []}"
      ]
     },
     "execution_count": 12,
     "metadata": {},
     "output_type": "execute_result"
    }
   ],
   "source": [
    "mark.get_sleep_data('2024-02-10')"
   ]
  },
  {
   "cell_type": "code",
   "execution_count": 6,
   "id": "cec72a2c",
   "metadata": {},
   "outputs": [
    {
     "name": "stdout",
     "output_type": "stream",
     "text": [
      "Mark\n"
     ]
    }
   ],
   "source": [
    "with open(f'users/user_{mark.id}.pkl', 'wb') as file:\n",
    "    pickle.dump(mark, file)\n",
    "    \n",
    "with open('users/user_001.pkl', 'rb') as file:\n",
    "    loaded_user = pickle.load(file)\n",
    "\n",
    "print(loaded_user.name)"
   ]
  },
  {
   "cell_type": "code",
   "execution_count": null,
   "id": "36f1bd91",
   "metadata": {},
   "outputs": [],
   "source": []
  }
 ],
 "metadata": {
  "kernelspec": {
   "display_name": "Python 3 (ipykernel)",
   "language": "python",
   "name": "python3"
  },
  "language_info": {
   "codemirror_mode": {
    "name": "ipython",
    "version": 3
   },
   "file_extension": ".py",
   "mimetype": "text/x-python",
   "name": "python",
   "nbconvert_exporter": "python",
   "pygments_lexer": "ipython3",
   "version": "3.11.4"
  }
 },
 "nbformat": 4,
 "nbformat_minor": 5
}
