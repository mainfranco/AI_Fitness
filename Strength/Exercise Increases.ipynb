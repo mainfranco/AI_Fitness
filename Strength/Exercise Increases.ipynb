{
 "cells": [
  {
   "cell_type": "code",
   "execution_count": 1,
   "id": "73d0a948",
   "metadata": {},
   "outputs": [],
   "source": [
    "import pandas as pd"
   ]
  },
  {
   "cell_type": "code",
   "execution_count": 23,
   "id": "b1014730",
   "metadata": {},
   "outputs": [],
   "source": [
    "df = pd.DataFrame()"
   ]
  },
  {
   "cell_type": "code",
   "execution_count": 26,
   "id": "f268dd6d",
   "metadata": {},
   "outputs": [],
   "source": [
    "df['date'] = 0\n",
    "df['muscle_pump'] = 0\n",
    "df['exercise'] = 0\n",
    "df['soreness'] = 0\n",
    "df['Number of sets'] = 0\n",
    "df['set1_reps/weight/intesity'] = 0\n",
    "df['set2_reps/weight/intesity'] = 0\n",
    "df['set3_reps/weight/intesity'] = 0\n",
    "df['set4_reps/weight/intesity'] = 0\n",
    "df['Rep increase from Previous Week'] = 0\n",
    "df['Weight increase from Previous Week'] = 0\n",
    "df['Calories'] = 0\n",
    "df['Sleep Score'] = 0\n",
    "df['Suggested weight/rep increase for next week'] = 0\n",
    "df['Weaker or stronger from last week?'] = 0"
   ]
  },
  {
   "cell_type": "code",
   "execution_count": 27,
   "id": "ef036ccd",
   "metadata": {},
   "outputs": [
    {
     "data": {
      "text/html": [
       "<div>\n",
       "<style scoped>\n",
       "    .dataframe tbody tr th:only-of-type {\n",
       "        vertical-align: middle;\n",
       "    }\n",
       "\n",
       "    .dataframe tbody tr th {\n",
       "        vertical-align: top;\n",
       "    }\n",
       "\n",
       "    .dataframe thead th {\n",
       "        text-align: right;\n",
       "    }\n",
       "</style>\n",
       "<table border=\"1\" class=\"dataframe\">\n",
       "  <thead>\n",
       "    <tr style=\"text-align: right;\">\n",
       "      <th></th>\n",
       "      <th>date</th>\n",
       "      <th>muscle_pump</th>\n",
       "      <th>exercise</th>\n",
       "      <th>soreness</th>\n",
       "      <th>Number of sets</th>\n",
       "      <th>set1_reps/weight/intesity</th>\n",
       "      <th>set2_reps/weight/intesity</th>\n",
       "      <th>set3_reps/weight/intesity</th>\n",
       "      <th>set4_reps/weight/intesity</th>\n",
       "      <th>Rep increase from Previous Week</th>\n",
       "      <th>Weight increase from Previous Week</th>\n",
       "      <th>Calories</th>\n",
       "      <th>Sleep Score</th>\n",
       "      <th>Suggested weight/rep increase for next week</th>\n",
       "      <th>Weaker or stronger from last week?</th>\n",
       "    </tr>\n",
       "  </thead>\n",
       "  <tbody>\n",
       "  </tbody>\n",
       "</table>\n",
       "</div>"
      ],
      "text/plain": [
       "Empty DataFrame\n",
       "Columns: [date, muscle_pump, exercise, soreness, Number of sets, set1_reps/weight/intesity, set2_reps/weight/intesity, set3_reps/weight/intesity, set4_reps/weight/intesity, Rep increase from Previous Week, Weight increase from Previous Week, Calories, Sleep Score, Suggested weight/rep increase for next week, Weaker or stronger from last week?]\n",
       "Index: []"
      ]
     },
     "execution_count": 27,
     "metadata": {},
     "output_type": "execute_result"
    }
   ],
   "source": [
    "df.head()"
   ]
  },
  {
   "cell_type": "code",
   "execution_count": 31,
   "id": "76dd073c",
   "metadata": {},
   "outputs": [],
   "source": [
    "df.to_csv('strength_&_muscle_gains.csv',index=False)"
   ]
  },
  {
   "cell_type": "code",
   "execution_count": null,
   "id": "f801b880",
   "metadata": {},
   "outputs": [],
   "source": []
  }
 ],
 "metadata": {
  "kernelspec": {
   "display_name": "Python 3 (ipykernel)",
   "language": "python",
   "name": "python3"
  },
  "language_info": {
   "codemirror_mode": {
    "name": "ipython",
    "version": 3
   },
   "file_extension": ".py",
   "mimetype": "text/x-python",
   "name": "python",
   "nbconvert_exporter": "python",
   "pygments_lexer": "ipython3",
   "version": "3.11.4"
  }
 },
 "nbformat": 4,
 "nbformat_minor": 5
}
