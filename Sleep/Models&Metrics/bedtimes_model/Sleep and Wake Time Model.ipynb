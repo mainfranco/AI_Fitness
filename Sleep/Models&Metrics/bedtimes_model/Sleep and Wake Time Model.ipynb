{
 "cells": [
  {
   "cell_type": "code",
   "execution_count": 19,
   "id": "374283ed",
   "metadata": {},
   "outputs": [],
   "source": [
    "import pandas as pd\n",
    "from joblib import load, dump\n",
    "import numpy as np\n",
    "from sklearn.preprocessing import MinMaxScaler\n",
    "from sklearn.model_selection import train_test_split\n",
    "from sklearn.metrics import mean_squared_error\n",
    "from sklearn.metrics import mean_absolute_error\n",
    "from sklearn.metrics import r2_score\n",
    "from sklearn.model_selection import cross_val_score\n",
    "from sklearn.model_selection import KFold\n",
    "from sklearn.ensemble import GradientBoostingClassifier, GradientBoostingRegressor, RandomForestClassifier, RandomForestRegressor\n",
    "from sklearn.linear_model import LinearRegression\n",
    "from scipy.stats import randint as sp_randint\n",
    "from scipy.stats import uniform\n",
    "from sklearn.model_selection import RandomizedSearchCV\n",
    "from sklearn.pipeline import Pipeline\n",
    "from sklearn.model_selection import GridSearchCV\n",
    "# Import Support Vector Regressor\n",
    "from sklearn.svm import SVR\n",
    "\n",
    "# Import Ridge Regression\n",
    "from sklearn.linear_model import Ridge"
   ]
  },
  {
   "cell_type": "markdown",
   "id": "c555165b",
   "metadata": {},
   "source": [
    "# Bedtimes Model"
   ]
  },
  {
   "cell_type": "markdown",
   "id": "86de6b2f",
   "metadata": {},
   "source": [
    "### This model also predicts for sleep score but the goal here is to find the ideal sleep and wake time to maximize sleep score "
   ]
  },
  {
   "cell_type": "code",
   "execution_count": 20,
   "id": "d8069a95",
   "metadata": {},
   "outputs": [],
   "source": [
    "bedtime_model = load(\"bedtimes_model.joblib\")\n",
    "bedtime_df = load(\"DataFrame\")\n",
    "bedtime_model_performance = load(\"bedtimes_model_performance.joblib\")\n",
    "bedtime_best_params = load(\"bedtimes_model_best_params.joblib\")\n",
    "\n",
    "X_train_bedtime = load(\"X_train_data.joblib\")\n",
    "X_test_bedtime = load(\"X_test_data.joblib\")\n",
    "y_train_bedtime = load(\"y_train_data.joblib\")\n",
    "y_test_bedtime = load(\"y_test_data.joblib\")"
   ]
  },
  {
   "cell_type": "code",
   "execution_count": 21,
   "id": "c4e4c870",
   "metadata": {},
   "outputs": [
    {
     "data": {
      "text/html": [
       "<div>\n",
       "<style scoped>\n",
       "    .dataframe tbody tr th:only-of-type {\n",
       "        vertical-align: middle;\n",
       "    }\n",
       "\n",
       "    .dataframe tbody tr th {\n",
       "        vertical-align: top;\n",
       "    }\n",
       "\n",
       "    .dataframe thead th {\n",
       "        text-align: right;\n",
       "    }\n",
       "</style>\n",
       "<table border=\"1\" class=\"dataframe\">\n",
       "  <thead>\n",
       "    <tr style=\"text-align: right;\">\n",
       "      <th></th>\n",
       "      <th>Start</th>\n",
       "      <th>End</th>\n",
       "      <th>Sleep quality</th>\n",
       "      <th>Time in bed</th>\n",
       "      <th>Activity (steps)</th>\n",
       "      <th>None</th>\n",
       "      <th>Stressful day</th>\n",
       "      <th>Drank coffee</th>\n",
       "      <th>Drank tea</th>\n",
       "      <th>Ate late</th>\n",
       "      <th>Worked out</th>\n",
       "    </tr>\n",
       "  </thead>\n",
       "  <tbody>\n",
       "    <tr>\n",
       "      <th>0</th>\n",
       "      <td>1377</td>\n",
       "      <td>450</td>\n",
       "      <td>100</td>\n",
       "      <td>512</td>\n",
       "      <td>0</td>\n",
       "      <td>1</td>\n",
       "      <td>0</td>\n",
       "      <td>0</td>\n",
       "      <td>0</td>\n",
       "      <td>0</td>\n",
       "      <td>0</td>\n",
       "    </tr>\n",
       "    <tr>\n",
       "      <th>1</th>\n",
       "      <td>1277</td>\n",
       "      <td>1293</td>\n",
       "      <td>3</td>\n",
       "      <td>16</td>\n",
       "      <td>0</td>\n",
       "      <td>0</td>\n",
       "      <td>1</td>\n",
       "      <td>0</td>\n",
       "      <td>0</td>\n",
       "      <td>0</td>\n",
       "      <td>0</td>\n",
       "    </tr>\n",
       "    <tr>\n",
       "      <th>2</th>\n",
       "      <td>1362</td>\n",
       "      <td>433</td>\n",
       "      <td>98</td>\n",
       "      <td>510</td>\n",
       "      <td>0</td>\n",
       "      <td>1</td>\n",
       "      <td>0</td>\n",
       "      <td>0</td>\n",
       "      <td>0</td>\n",
       "      <td>0</td>\n",
       "      <td>0</td>\n",
       "    </tr>\n",
       "    <tr>\n",
       "      <th>3</th>\n",
       "      <td>1351</td>\n",
       "      <td>363</td>\n",
       "      <td>65</td>\n",
       "      <td>452</td>\n",
       "      <td>0</td>\n",
       "      <td>1</td>\n",
       "      <td>0</td>\n",
       "      <td>0</td>\n",
       "      <td>0</td>\n",
       "      <td>0</td>\n",
       "      <td>0</td>\n",
       "    </tr>\n",
       "    <tr>\n",
       "      <th>4</th>\n",
       "      <td>1332</td>\n",
       "      <td>296</td>\n",
       "      <td>72</td>\n",
       "      <td>404</td>\n",
       "      <td>0</td>\n",
       "      <td>0</td>\n",
       "      <td>0</td>\n",
       "      <td>1</td>\n",
       "      <td>1</td>\n",
       "      <td>0</td>\n",
       "      <td>0</td>\n",
       "    </tr>\n",
       "    <tr>\n",
       "      <th>...</th>\n",
       "      <td>...</td>\n",
       "      <td>...</td>\n",
       "      <td>...</td>\n",
       "      <td>...</td>\n",
       "      <td>...</td>\n",
       "      <td>...</td>\n",
       "      <td>...</td>\n",
       "      <td>...</td>\n",
       "      <td>...</td>\n",
       "      <td>...</td>\n",
       "      <td>...</td>\n",
       "    </tr>\n",
       "    <tr>\n",
       "      <th>882</th>\n",
       "      <td>1314</td>\n",
       "      <td>422</td>\n",
       "      <td>91</td>\n",
       "      <td>548</td>\n",
       "      <td>56</td>\n",
       "      <td>1</td>\n",
       "      <td>0</td>\n",
       "      <td>0</td>\n",
       "      <td>0</td>\n",
       "      <td>0</td>\n",
       "      <td>0</td>\n",
       "    </tr>\n",
       "    <tr>\n",
       "      <th>883</th>\n",
       "      <td>1429</td>\n",
       "      <td>420</td>\n",
       "      <td>81</td>\n",
       "      <td>431</td>\n",
       "      <td>64</td>\n",
       "      <td>1</td>\n",
       "      <td>0</td>\n",
       "      <td>0</td>\n",
       "      <td>0</td>\n",
       "      <td>0</td>\n",
       "      <td>0</td>\n",
       "    </tr>\n",
       "    <tr>\n",
       "      <th>884</th>\n",
       "      <td>1284</td>\n",
       "      <td>380</td>\n",
       "      <td>71</td>\n",
       "      <td>536</td>\n",
       "      <td>3316</td>\n",
       "      <td>1</td>\n",
       "      <td>0</td>\n",
       "      <td>0</td>\n",
       "      <td>0</td>\n",
       "      <td>0</td>\n",
       "      <td>0</td>\n",
       "    </tr>\n",
       "    <tr>\n",
       "      <th>885</th>\n",
       "      <td>1296</td>\n",
       "      <td>410</td>\n",
       "      <td>80</td>\n",
       "      <td>553</td>\n",
       "      <td>6555</td>\n",
       "      <td>1</td>\n",
       "      <td>0</td>\n",
       "      <td>0</td>\n",
       "      <td>0</td>\n",
       "      <td>0</td>\n",
       "      <td>0</td>\n",
       "    </tr>\n",
       "    <tr>\n",
       "      <th>886</th>\n",
       "      <td>1372</td>\n",
       "      <td>468</td>\n",
       "      <td>91</td>\n",
       "      <td>535</td>\n",
       "      <td>2291</td>\n",
       "      <td>1</td>\n",
       "      <td>0</td>\n",
       "      <td>0</td>\n",
       "      <td>0</td>\n",
       "      <td>0</td>\n",
       "      <td>0</td>\n",
       "    </tr>\n",
       "  </tbody>\n",
       "</table>\n",
       "<p>887 rows × 11 columns</p>\n",
       "</div>"
      ],
      "text/plain": [
       "     Start   End  Sleep quality  Time in bed  Activity (steps)  None  \\\n",
       "0     1377   450            100          512                 0     1   \n",
       "1     1277  1293              3           16                 0     0   \n",
       "2     1362   433             98          510                 0     1   \n",
       "3     1351   363             65          452                 0     1   \n",
       "4     1332   296             72          404                 0     0   \n",
       "..     ...   ...            ...          ...               ...   ...   \n",
       "882   1314   422             91          548                56     1   \n",
       "883   1429   420             81          431                64     1   \n",
       "884   1284   380             71          536              3316     1   \n",
       "885   1296   410             80          553              6555     1   \n",
       "886   1372   468             91          535              2291     1   \n",
       "\n",
       "     Stressful day  Drank coffee  Drank tea  Ate late  Worked out  \n",
       "0                0             0          0         0           0  \n",
       "1                1             0          0         0           0  \n",
       "2                0             0          0         0           0  \n",
       "3                0             0          0         0           0  \n",
       "4                0             1          1         0           0  \n",
       "..             ...           ...        ...       ...         ...  \n",
       "882              0             0          0         0           0  \n",
       "883              0             0          0         0           0  \n",
       "884              0             0          0         0           0  \n",
       "885              0             0          0         0           0  \n",
       "886              0             0          0         0           0  \n",
       "\n",
       "[887 rows x 11 columns]"
      ]
     },
     "execution_count": 21,
     "metadata": {},
     "output_type": "execute_result"
    }
   ],
   "source": [
    "bedtime_df"
   ]
  },
  {
   "cell_type": "markdown",
   "id": "41d054a5",
   "metadata": {},
   "source": [
    "### Finding Feature Importance "
   ]
  },
  {
   "cell_type": "code",
   "execution_count": 22,
   "id": "d0c75fcf",
   "metadata": {},
   "outputs": [],
   "source": [
    "X = np.array(bedtime_df[['Start','End','Time in bed','Activity (steps)','Stressful day','Drank coffee','Drank tea','Worked out']])\n",
    "y = bedtime_df[['Sleep quality']].values"
   ]
  },
  {
   "cell_type": "code",
   "execution_count": 23,
   "id": "79211543",
   "metadata": {},
   "outputs": [],
   "source": [
    "kf = KFold(n_splits=10, shuffle=True, random_state=42)"
   ]
  },
  {
   "cell_type": "code",
   "execution_count": 24,
   "id": "c4ecc956",
   "metadata": {},
   "outputs": [
    {
     "name": "stderr",
     "output_type": "stream",
     "text": [
      "C:\\Users\\mainf\\anaconda3\\Lib\\site-packages\\sklearn\\ensemble\\_gb.py:424: DataConversionWarning: A column-vector y was passed when a 1d array was expected. Please change the shape of y to (n_samples, ), for example using ravel().\n",
      "  y = column_or_1d(y, warn=True)\n",
      "C:\\Users\\mainf\\anaconda3\\Lib\\site-packages\\sklearn\\ensemble\\_gb.py:424: DataConversionWarning: A column-vector y was passed when a 1d array was expected. Please change the shape of y to (n_samples, ), for example using ravel().\n",
      "  y = column_or_1d(y, warn=True)\n",
      "C:\\Users\\mainf\\anaconda3\\Lib\\site-packages\\sklearn\\ensemble\\_gb.py:424: DataConversionWarning: A column-vector y was passed when a 1d array was expected. Please change the shape of y to (n_samples, ), for example using ravel().\n",
      "  y = column_or_1d(y, warn=True)\n",
      "C:\\Users\\mainf\\anaconda3\\Lib\\site-packages\\sklearn\\ensemble\\_gb.py:424: DataConversionWarning: A column-vector y was passed when a 1d array was expected. Please change the shape of y to (n_samples, ), for example using ravel().\n",
      "  y = column_or_1d(y, warn=True)\n",
      "C:\\Users\\mainf\\anaconda3\\Lib\\site-packages\\sklearn\\ensemble\\_gb.py:424: DataConversionWarning: A column-vector y was passed when a 1d array was expected. Please change the shape of y to (n_samples, ), for example using ravel().\n",
      "  y = column_or_1d(y, warn=True)\n",
      "C:\\Users\\mainf\\anaconda3\\Lib\\site-packages\\sklearn\\ensemble\\_gb.py:424: DataConversionWarning: A column-vector y was passed when a 1d array was expected. Please change the shape of y to (n_samples, ), for example using ravel().\n",
      "  y = column_or_1d(y, warn=True)\n",
      "C:\\Users\\mainf\\anaconda3\\Lib\\site-packages\\sklearn\\ensemble\\_gb.py:424: DataConversionWarning: A column-vector y was passed when a 1d array was expected. Please change the shape of y to (n_samples, ), for example using ravel().\n",
      "  y = column_or_1d(y, warn=True)\n",
      "C:\\Users\\mainf\\anaconda3\\Lib\\site-packages\\sklearn\\ensemble\\_gb.py:424: DataConversionWarning: A column-vector y was passed when a 1d array was expected. Please change the shape of y to (n_samples, ), for example using ravel().\n",
      "  y = column_or_1d(y, warn=True)\n",
      "C:\\Users\\mainf\\anaconda3\\Lib\\site-packages\\sklearn\\ensemble\\_gb.py:424: DataConversionWarning: A column-vector y was passed when a 1d array was expected. Please change the shape of y to (n_samples, ), for example using ravel().\n",
      "  y = column_or_1d(y, warn=True)\n",
      "C:\\Users\\mainf\\anaconda3\\Lib\\site-packages\\sklearn\\ensemble\\_gb.py:424: DataConversionWarning: A column-vector y was passed when a 1d array was expected. Please change the shape of y to (n_samples, ), for example using ravel().\n",
      "  y = column_or_1d(y, warn=True)\n"
     ]
    },
    {
     "name": "stdout",
     "output_type": "stream",
     "text": [
      "Cross-validation scores: [0.63236525 0.66693158 0.37209605 0.40236447 0.6703828  0.70146142\n",
      " 0.40583301 0.59810265 0.62215107 0.59049595]\n",
      "Average score: 0.5662184239480268\n"
     ]
    }
   ],
   "source": [
    "model =  GradientBoostingRegressor()\n",
    "\n",
    "\n",
    "scores = cross_val_score(model, X, y, cv=kf, scoring='r2')\n",
    "\n",
    "print(\"Cross-validation scores:\", scores)\n",
    "print(\"Average score:\",np.mean(scores))"
   ]
  },
  {
   "cell_type": "code",
   "execution_count": 25,
   "id": "1706d573",
   "metadata": {},
   "outputs": [
    {
     "name": "stderr",
     "output_type": "stream",
     "text": [
      "C:\\Users\\mainf\\anaconda3\\Lib\\site-packages\\sklearn\\ensemble\\_gb.py:424: DataConversionWarning: A column-vector y was passed when a 1d array was expected. Please change the shape of y to (n_samples, ), for example using ravel().\n",
      "  y = column_or_1d(y, warn=True)\n",
      "C:\\Users\\mainf\\anaconda3\\Lib\\site-packages\\sklearn\\ensemble\\_gb.py:424: DataConversionWarning: A column-vector y was passed when a 1d array was expected. Please change the shape of y to (n_samples, ), for example using ravel().\n",
      "  y = column_or_1d(y, warn=True)\n",
      "C:\\Users\\mainf\\anaconda3\\Lib\\site-packages\\sklearn\\ensemble\\_gb.py:424: DataConversionWarning: A column-vector y was passed when a 1d array was expected. Please change the shape of y to (n_samples, ), for example using ravel().\n",
      "  y = column_or_1d(y, warn=True)\n",
      "C:\\Users\\mainf\\anaconda3\\Lib\\site-packages\\sklearn\\ensemble\\_gb.py:424: DataConversionWarning: A column-vector y was passed when a 1d array was expected. Please change the shape of y to (n_samples, ), for example using ravel().\n",
      "  y = column_or_1d(y, warn=True)\n",
      "C:\\Users\\mainf\\anaconda3\\Lib\\site-packages\\sklearn\\ensemble\\_gb.py:424: DataConversionWarning: A column-vector y was passed when a 1d array was expected. Please change the shape of y to (n_samples, ), for example using ravel().\n",
      "  y = column_or_1d(y, warn=True)\n",
      "C:\\Users\\mainf\\anaconda3\\Lib\\site-packages\\sklearn\\ensemble\\_gb.py:424: DataConversionWarning: A column-vector y was passed when a 1d array was expected. Please change the shape of y to (n_samples, ), for example using ravel().\n",
      "  y = column_or_1d(y, warn=True)\n",
      "C:\\Users\\mainf\\anaconda3\\Lib\\site-packages\\sklearn\\ensemble\\_gb.py:424: DataConversionWarning: A column-vector y was passed when a 1d array was expected. Please change the shape of y to (n_samples, ), for example using ravel().\n",
      "  y = column_or_1d(y, warn=True)\n",
      "C:\\Users\\mainf\\anaconda3\\Lib\\site-packages\\sklearn\\ensemble\\_gb.py:424: DataConversionWarning: A column-vector y was passed when a 1d array was expected. Please change the shape of y to (n_samples, ), for example using ravel().\n",
      "  y = column_or_1d(y, warn=True)\n",
      "C:\\Users\\mainf\\anaconda3\\Lib\\site-packages\\sklearn\\ensemble\\_gb.py:424: DataConversionWarning: A column-vector y was passed when a 1d array was expected. Please change the shape of y to (n_samples, ), for example using ravel().\n",
      "  y = column_or_1d(y, warn=True)\n",
      "C:\\Users\\mainf\\anaconda3\\Lib\\site-packages\\sklearn\\ensemble\\_gb.py:424: DataConversionWarning: A column-vector y was passed when a 1d array was expected. Please change the shape of y to (n_samples, ), for example using ravel().\n",
      "  y = column_or_1d(y, warn=True)\n"
     ]
    },
    {
     "name": "stdout",
     "output_type": "stream",
     "text": [
      "Cross-validation scores: [0.581641015831584, 0.6931580063954037, 0.5074119334983229, 0.5316749439292472, 0.028378919326938923, 0.46979642345518424, 0.6473202778882989, 0.641936360079205, 0.4489609635661548, 0.6092627789746317]\n",
      "Average score: 0.5159541622944971\n",
      "Average feature importances: [0.04794731 0.07151819 0.73683561 0.11192906 0.00168548 0.00953563\n",
      " 0.01108312 0.00946559]\n"
     ]
    }
   ],
   "source": [
    "kf = KFold(n_splits=10) \n",
    "scores = []\n",
    "feature_importances = np.zeros(X.shape[1])\n",
    "\n",
    "for train_index, test_index in kf.split(X):\n",
    "    X_train, X_test = X[train_index], X[test_index]\n",
    "    y_train, y_test = y[train_index], y[test_index]\n",
    "\n",
    "    model = GradientBoostingRegressor()\n",
    "    model.fit(X_train, y_train)\n",
    "\n",
    "    scores.append(model.score(X_test, y_test))\n",
    "    feature_importances += model.feature_importances_\n",
    "\n",
    "# Averaging feature importances over all folds\n",
    "feature_importances /= kf.get_n_splits()\n",
    "\n",
    "print(\"Cross-validation scores:\", scores)\n",
    "print(\"Average score:\", np.mean(scores))\n",
    "print(\"Average feature importances:\", feature_importances)"
   ]
  },
  {
   "cell_type": "code",
   "execution_count": 26,
   "id": "fb483b4d",
   "metadata": {},
   "outputs": [],
   "source": [
    "feature_names = bedtime_df[['Start','End','Time in bed','Activity (steps)','Stressful day','Drank coffee','Drank tea','Worked out']].columns"
   ]
  },
  {
   "cell_type": "code",
   "execution_count": 27,
   "id": "b1609697",
   "metadata": {},
   "outputs": [],
   "source": [
    "features_zip = list(zip(feature_importances, feature_names))"
   ]
  },
  {
   "cell_type": "code",
   "execution_count": 28,
   "id": "1121583f",
   "metadata": {},
   "outputs": [
    {
     "name": "stdout",
     "output_type": "stream",
     "text": [
      "[(0.047947311942103533, 'Start'), (0.07151818973563392, 'End'), (0.736835612252958, 'Time in bed'), (0.11192905555072934, 'Activity (steps)'), (0.0016854846044626012, 'Stressful day'), (0.009535631512190498, 'Drank coffee'), (0.011083124322942752, 'Drank tea'), (0.00946559007897937, 'Worked out')]\n"
     ]
    }
   ],
   "source": [
    "print(features_zip)"
   ]
  },
  {
   "cell_type": "code",
   "execution_count": 29,
   "id": "8dda8de6",
   "metadata": {},
   "outputs": [
    {
     "name": "stdout",
     "output_type": "stream",
     "text": [
      "0.736835612252958, Time in bed\n",
      "0.11192905555072934, Activity (steps)\n",
      "0.07151818973563392, End\n",
      "0.047947311942103533, Start\n",
      "0.011083124322942752, Drank tea\n",
      "0.009535631512190498, Drank coffee\n",
      "0.00946559007897937, Worked out\n",
      "0.0016854846044626012, Stressful day\n"
     ]
    }
   ],
   "source": [
    "sorted_importances = sorted(features_zip, key=lambda x: x[0], reverse=True)\n",
    "features_ordered = []\n",
    "# Print the sorted list\n",
    "for importance, feature in sorted_importances:\n",
    "    print(f\"{importance}, {feature}\")\n",
    "    features_ordered.append(feature)"
   ]
  },
  {
   "cell_type": "code",
   "execution_count": 30,
   "id": "ec2339c0",
   "metadata": {},
   "outputs": [
    {
     "name": "stdout",
     "output_type": "stream",
     "text": [
      "['Time in bed', 'Activity (steps)', 'End', 'Start', 'Drank tea', 'Drank coffee', 'Worked out', 'Stressful day']\n"
     ]
    }
   ],
   "source": [
    "print(features_ordered)"
   ]
  },
  {
   "cell_type": "code",
   "execution_count": 31,
   "id": "e5291843",
   "metadata": {},
   "outputs": [],
   "source": [
    "main_features = features_ordered[:4]"
   ]
  },
  {
   "cell_type": "code",
   "execution_count": 32,
   "id": "cb1732ca",
   "metadata": {},
   "outputs": [
    {
     "data": {
      "text/plain": [
       "['Time in bed', 'Activity (steps)', 'End', 'Start']"
      ]
     },
     "execution_count": 32,
     "metadata": {},
     "output_type": "execute_result"
    }
   ],
   "source": [
    "main_features"
   ]
  },
  {
   "cell_type": "code",
   "execution_count": 33,
   "id": "e54dea4f",
   "metadata": {},
   "outputs": [],
   "source": [
    "X_reduced = np.array(bedtime_df[main_features])\n"
   ]
  },
  {
   "cell_type": "code",
   "execution_count": 34,
   "id": "2280e8d0",
   "metadata": {},
   "outputs": [
    {
     "name": "stderr",
     "output_type": "stream",
     "text": [
      "C:\\Users\\mainf\\anaconda3\\Lib\\site-packages\\sklearn\\ensemble\\_gb.py:424: DataConversionWarning: A column-vector y was passed when a 1d array was expected. Please change the shape of y to (n_samples, ), for example using ravel().\n",
      "  y = column_or_1d(y, warn=True)\n",
      "C:\\Users\\mainf\\anaconda3\\Lib\\site-packages\\sklearn\\ensemble\\_gb.py:424: DataConversionWarning: A column-vector y was passed when a 1d array was expected. Please change the shape of y to (n_samples, ), for example using ravel().\n",
      "  y = column_or_1d(y, warn=True)\n",
      "C:\\Users\\mainf\\anaconda3\\Lib\\site-packages\\sklearn\\ensemble\\_gb.py:424: DataConversionWarning: A column-vector y was passed when a 1d array was expected. Please change the shape of y to (n_samples, ), for example using ravel().\n",
      "  y = column_or_1d(y, warn=True)\n",
      "C:\\Users\\mainf\\anaconda3\\Lib\\site-packages\\sklearn\\ensemble\\_gb.py:424: DataConversionWarning: A column-vector y was passed when a 1d array was expected. Please change the shape of y to (n_samples, ), for example using ravel().\n",
      "  y = column_or_1d(y, warn=True)\n",
      "C:\\Users\\mainf\\anaconda3\\Lib\\site-packages\\sklearn\\ensemble\\_gb.py:424: DataConversionWarning: A column-vector y was passed when a 1d array was expected. Please change the shape of y to (n_samples, ), for example using ravel().\n",
      "  y = column_or_1d(y, warn=True)\n",
      "C:\\Users\\mainf\\anaconda3\\Lib\\site-packages\\sklearn\\ensemble\\_gb.py:424: DataConversionWarning: A column-vector y was passed when a 1d array was expected. Please change the shape of y to (n_samples, ), for example using ravel().\n",
      "  y = column_or_1d(y, warn=True)\n",
      "C:\\Users\\mainf\\anaconda3\\Lib\\site-packages\\sklearn\\ensemble\\_gb.py:424: DataConversionWarning: A column-vector y was passed when a 1d array was expected. Please change the shape of y to (n_samples, ), for example using ravel().\n",
      "  y = column_or_1d(y, warn=True)\n",
      "C:\\Users\\mainf\\anaconda3\\Lib\\site-packages\\sklearn\\ensemble\\_gb.py:424: DataConversionWarning: A column-vector y was passed when a 1d array was expected. Please change the shape of y to (n_samples, ), for example using ravel().\n",
      "  y = column_or_1d(y, warn=True)\n",
      "C:\\Users\\mainf\\anaconda3\\Lib\\site-packages\\sklearn\\ensemble\\_gb.py:424: DataConversionWarning: A column-vector y was passed when a 1d array was expected. Please change the shape of y to (n_samples, ), for example using ravel().\n",
      "  y = column_or_1d(y, warn=True)\n",
      "C:\\Users\\mainf\\anaconda3\\Lib\\site-packages\\sklearn\\ensemble\\_gb.py:424: DataConversionWarning: A column-vector y was passed when a 1d array was expected. Please change the shape of y to (n_samples, ), for example using ravel().\n",
      "  y = column_or_1d(y, warn=True)\n"
     ]
    },
    {
     "name": "stdout",
     "output_type": "stream",
     "text": [
      "Cross-validation scores: [0.59788444 0.70555012 0.49179861 0.50571841 0.02635601 0.42481695\n",
      " 0.60196577 0.68039823 0.43937431 0.62664898]\n",
      "Average score: 0.5100511846075154\n"
     ]
    }
   ],
   "source": [
    "model =  GradientBoostingRegressor()\n",
    "\n",
    "\n",
    "scores = cross_val_score(model, X_reduced, y, cv=kf, scoring='r2')\n",
    "\n",
    "print(\"Cross-validation scores:\", scores)\n",
    "print(\"Average score:\",np.mean(scores))"
   ]
  },
  {
   "cell_type": "code",
   "execution_count": 41,
   "id": "937ee685",
   "metadata": {},
   "outputs": [
    {
     "name": "stdout",
     "output_type": "stream",
     "text": [
      "Best Parameters: {'subsample': 0.9, 'n_estimators': 60, 'min_samples_split': 5, 'min_samples_leaf': 2, 'max_features': 'sqrt', 'max_depth': 3, 'learning_rate': 0.12}\n",
      "Best Score: 0.532601257730672\n"
     ]
    },
    {
     "name": "stderr",
     "output_type": "stream",
     "text": [
      "C:\\Users\\mainf\\anaconda3\\Lib\\site-packages\\sklearn\\ensemble\\_gb.py:424: DataConversionWarning: A column-vector y was passed when a 1d array was expected. Please change the shape of y to (n_samples, ), for example using ravel().\n",
      "  y = column_or_1d(y, warn=True)\n"
     ]
    }
   ],
   "source": [
    "param_grid_gb = {\n",
    "    'n_estimators': [50, 60, 70, 80, 90, 100, 110, 120, 130, 140, 150], \n",
    "    'learning_rate': [0.05, 0.06, 0.07, 0.08, 0.09, 0.1, 0.11, 0.12, 0.13, 0.14, 0.15],  # Finer steps around 0.1\n",
    "    'max_depth': [2, 3, 4, 5, 6, 7],  # Expanded range with small increments\n",
    "    'min_samples_split': [2, 3, 4, 5, 6, 7, 8, 9, 10],  # Finer steps starting from 2\n",
    "    'min_samples_leaf': [1, 2, 3, 4, 5, 6, 7, 8, 9, 10],  # Finer steps starting from 1\n",
    "    'subsample': [0.8, 0.85, 0.9, 0.95, 1.0],  # Finer steps around 1.0\n",
    "    'max_features': [None, 'sqrt', 'log2']\n",
    "}\n",
    "\n",
    "random_search = RandomizedSearchCV(model, param_distributions=param_grid_gb, \n",
    "                                   n_iter=300, cv=10, scoring='r2', \n",
    "                                   random_state=42, n_jobs=-1)\n",
    "random_search.fit(X_reduced, y)\n",
    "\n",
    "print(f\"Best Parameters:\", random_search.best_params_)\n",
    "print(f\"Best Score:\", random_search.best_score_)"
   ]
  },
  {
   "cell_type": "code",
   "execution_count": 42,
   "id": "c317cf8e",
   "metadata": {},
   "outputs": [
    {
     "name": "stdout",
     "output_type": "stream",
     "text": [
      "Best Parameters: {'subsample': 0.9, 'n_estimators': 70, 'min_samples_split': 3, 'min_samples_leaf': 5, 'max_features': 'sqrt', 'max_depth': 3, 'learning_rate': 0.12}\n",
      "Best Score: 0.5329784734476043\n"
     ]
    },
    {
     "name": "stderr",
     "output_type": "stream",
     "text": [
      "C:\\Users\\mainf\\anaconda3\\Lib\\site-packages\\sklearn\\ensemble\\_gb.py:424: DataConversionWarning: A column-vector y was passed when a 1d array was expected. Please change the shape of y to (n_samples, ), for example using ravel().\n",
      "  y = column_or_1d(y, warn=True)\n"
     ]
    }
   ],
   "source": [
    "param_grid_gb = {\n",
    "    'n_estimators': [60, 65, 70, 75, 80],               # Centered around 70\n",
    "    'learning_rate': [0.08, 0.09, 0.1, 0.11, 0.12],     # Centered around 0.1\n",
    "    'max_depth': [1, 2, 3, 4],                          # Centered around 2\n",
    "    'min_samples_split': [2, 3, 4, 5, 6],               # Centered around 4\n",
    "    'min_samples_leaf': [3, 4, 5, 6, 7],                # Centered around 5\n",
    "    'max_features': [None, 'sqrt', 'log2'],             # Centered around None with additional options\n",
    "    'subsample': [0.75, 0.8, 0.85, 0.9, 0.95]           # Centered around 0.8\n",
    "}\n",
    "\n",
    "random_search = RandomizedSearchCV(model, param_distributions=param_grid_gb, \n",
    "                                   n_iter=300, cv=10, scoring='r2', \n",
    "                                   random_state=42, n_jobs=-1)\n",
    "random_search.fit(X_reduced, y)\n",
    "\n",
    "print(f\"Best Parameters:\", random_search.best_params_)\n",
    "print(f\"Best Score:\", random_search.best_score_)"
   ]
  },
  {
   "cell_type": "code",
   "execution_count": 43,
   "id": "d4461683",
   "metadata": {},
   "outputs": [
    {
     "name": "stdout",
     "output_type": "stream",
     "text": [
      "Best Parameters: {'subsample': 0.75, 'n_estimators': 75, 'min_samples_split': 2, 'min_samples_leaf': 4, 'max_features': 'sqrt', 'max_depth': 4, 'learning_rate': 0.06}\n",
      "Best Score: 0.5317795957859224\n"
     ]
    },
    {
     "name": "stderr",
     "output_type": "stream",
     "text": [
      "C:\\Users\\mainf\\anaconda3\\Lib\\site-packages\\sklearn\\ensemble\\_gb.py:424: DataConversionWarning: A column-vector y was passed when a 1d array was expected. Please change the shape of y to (n_samples, ), for example using ravel().\n",
      "  y = column_or_1d(y, warn=True)\n"
     ]
    }
   ],
   "source": [
    "param_grid_gb = {\n",
    "    'n_estimators': [70, 75, 80, 85, 90],               # Centered around 80\n",
    "    'learning_rate': [0.06, 0.07, 0.08, 0.09, 0.1],     # Centered around 0.08\n",
    "    'max_depth': [3, 4, 5, 6],                          # Centered around 4\n",
    "    'min_samples_split': [2, 3, 4, 5],                  # Centered around 3\n",
    "    'min_samples_leaf': [4, 5, 6, 7],                   # Centered around 5\n",
    "    'max_features': ['sqrt'],                           # Specific to 'sqrt'\n",
    "    'subsample': [0.75, 0.8, 0.85, 0.9]                 # Centered around 0.8\n",
    "}\n",
    "\n",
    "\n",
    "random_search = RandomizedSearchCV(model, param_distributions=param_grid_gb, \n",
    "                                   n_iter=300, cv=10, scoring='r2', \n",
    "                                   random_state=42, n_jobs=-1)\n",
    "random_search.fit(X_reduced, y)\n",
    "\n",
    "print(f\"Best Parameters:\", random_search.best_params_)\n",
    "print(f\"Best Score:\", random_search.best_score_)"
   ]
  },
  {
   "cell_type": "code",
   "execution_count": 35,
   "id": "ae8c37e7",
   "metadata": {},
   "outputs": [
    {
     "name": "stdout",
     "output_type": "stream",
     "text": [
      "Fitting 10 folds for each of 648 candidates, totalling 6480 fits\n",
      "Best Parameters: {'learning_rate': 0.1, 'max_depth': 2, 'max_features': None, 'min_samples_leaf': 6, 'min_samples_split': 6, 'n_estimators': 60, 'subsample': 0.75}\n",
      "Best Score: 0.5344340155965726\n"
     ]
    },
    {
     "name": "stderr",
     "output_type": "stream",
     "text": [
      "C:\\Users\\mainf\\anaconda3\\Lib\\site-packages\\sklearn\\ensemble\\_gb.py:424: DataConversionWarning: A column-vector y was passed when a 1d array was expected. Please change the shape of y to (n_samples, ), for example using ravel().\n",
      "  y = column_or_1d(y, warn=True)\n"
     ]
    }
   ],
   "source": [
    "param_grid_gb = {\n",
    "    'n_estimators': [60, 70, 80],                    # Reduced range\n",
    "    'learning_rate': [0.08, 0.1, 0.12],              # Reduced range\n",
    "    'max_depth': [2, 4, 6],                          # Reduced range\n",
    "    'min_samples_split': [4, 6],                     # Reduced range\n",
    "    'min_samples_leaf': [4, 6],                      # Reduced range\n",
    "    'max_features': ['sqrt', None],                  # Reduced options\n",
    "    'subsample': [0.75, 0.85, 0.95]                  # Reduced range\n",
    "}\n",
    "\n",
    "\n",
    "\n",
    "grid_search = GridSearchCV(model, param_grid=param_grid_gb, \n",
    "                           cv=10, scoring='r2', \n",
    "                           verbose=2, n_jobs=-1)\n",
    "\n",
    "grid_search.fit(X_reduced, y)\n",
    "\n",
    "print(\"Best Parameters:\", grid_search.best_params_)\n",
    "print(\"Best Score:\", grid_search.best_score_)"
   ]
  },
  {
   "cell_type": "code",
   "execution_count": 36,
   "id": "1a83fa81",
   "metadata": {},
   "outputs": [],
   "source": [
    "best_params = grid_search.best_params_"
   ]
  },
  {
   "cell_type": "code",
   "execution_count": 51,
   "id": "c3f4d545",
   "metadata": {},
   "outputs": [],
   "source": [
    "model =  GradientBoostingRegressor(**best_params)\n"
   ]
  },
  {
   "cell_type": "markdown",
   "id": "8e1f8ec1",
   "metadata": {},
   "source": [
    "### Model Training\n"
   ]
  },
  {
   "cell_type": "code",
   "execution_count": 74,
   "id": "78666559",
   "metadata": {},
   "outputs": [],
   "source": [
    "X_train, X_test, y_train, y_test = train_test_split(X_reduced, y, test_size=.2,random_state=1)\n",
    "y_train = y_train.ravel()\n",
    "model.fit(X_train, y_train)\n",
    "\n",
    "y_preds = model.predict(X_test)\n",
    "\n",
    "r2 = r2_score(y_test,y_preds)"
   ]
  },
  {
   "cell_type": "code",
   "execution_count": 75,
   "id": "dd1bfaea",
   "metadata": {},
   "outputs": [
    {
     "name": "stdout",
     "output_type": "stream",
     "text": [
      "0.44954619449143995\n"
     ]
    }
   ],
   "source": [
    "print(r2)"
   ]
  },
  {
   "cell_type": "code",
   "execution_count": null,
   "id": "ad842102",
   "metadata": {},
   "outputs": [],
   "source": []
  }
 ],
 "metadata": {
  "kernelspec": {
   "display_name": "Python 3 (ipykernel)",
   "language": "python",
   "name": "python3"
  },
  "language_info": {
   "codemirror_mode": {
    "name": "ipython",
    "version": 3
   },
   "file_extension": ".py",
   "mimetype": "text/x-python",
   "name": "python",
   "nbconvert_exporter": "python",
   "pygments_lexer": "ipython3",
   "version": "3.11.4"
  }
 },
 "nbformat": 4,
 "nbformat_minor": 5
}
