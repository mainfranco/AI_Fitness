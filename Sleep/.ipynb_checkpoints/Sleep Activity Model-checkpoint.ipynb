{
 "cells": [
  {
   "cell_type": "code",
   "execution_count": 183,
   "id": "c67c9430",
   "metadata": {},
   "outputs": [],
   "source": [
    "import pandas as pd\n",
    "from joblib import load, dump\n",
    "import numpy as np\n",
    "from sklearn.preprocessing import MinMaxScaler\n",
    "from sklearn.model_selection import train_test_split\n",
    "from sklearn.metrics import mean_squared_error\n",
    "from sklearn.metrics import mean_absolute_error\n",
    "from sklearn.metrics import r2_score\n",
    "from sklearn.model_selection import cross_val_score\n",
    "from sklearn.model_selection import KFold\n",
    "from sklearn.ensemble import GradientBoostingClassifier, GradientBoostingRegressor, RandomForestClassifier, RandomForestRegressor\n",
    "from sklearn.linear_model import LinearRegression\n",
    "from scipy.stats import randint as sp_randint\n",
    "from scipy.stats import uniform\n",
    "from sklearn.model_selection import RandomizedSearchCV\n",
    "from sklearn.pipeline import Pipeline\n",
    "from sklearn.model_selection import GridSearchCV\n",
    "# Import Support Vector Regressor\n",
    "from sklearn.svm import SVR\n",
    "from sklearn.svm import SVC\n",
    "\n",
    "\n",
    "# Import Ridge Regression\n",
    "from sklearn.linear_model import Ridge\n",
    "from imblearn.over_sampling import SMOTE\n",
    "\n",
    "from sklearn.metrics import accuracy_score\n",
    "from sklearn.metrics import precision_score\n",
    "from sklearn.metrics import recall_score\n",
    "from sklearn.metrics import f1_score\n",
    "from sklearn.metrics import roc_auc_score\n",
    "from sklearn.metrics import confusion_matrix\n",
    "from sklearn.metrics import classification_report\n"
   ]
  },
  {
   "cell_type": "markdown",
   "id": "63abd6b7",
   "metadata": {},
   "source": [
    "# Activity Level Model"
   ]
  },
  {
   "cell_type": "markdown",
   "id": "d01c62d7",
   "metadata": {},
   "source": [
    "### Model predicts total time in bed which was shown to highly correlate with sleep quality scores from other dataframes. The goal is to offer tailored suggestions to help maximize sleep time based on a few features that influence time in bed the most"
   ]
  },
  {
   "cell_type": "code",
   "execution_count": 2,
   "id": "941186e1",
   "metadata": {},
   "outputs": [],
   "source": [
    "activity_level_model = load(\"Models&Metrics/Activity_level_model/Activity_level_model.joblib\")\n",
    "activity_level_df = load(\"Models&Metrics/Activity_level_model/DataFrame.joblib\")\n",
    "activity_level_model_performance = load(\"Models&Metrics/Activity_level_model/model_performance_metrics.joblib\")\n",
    "activity_level_best_params = load(\"Models&Metrics/Activity_level_model/best_params.joblib\")\n",
    "\n",
    "X_train_activity = load(\"Models&Metrics/Activity_level_model/X_train_data.joblib\")\n",
    "X_test_activity = load(\"Models&Metrics/Activity_level_model/X_test_data.joblib\")\n",
    "y_train_activity = load(\"Models&Metrics/Activity_level_model/y_train_data.joblib\")\n",
    "y_test_activity = load(\"Models&Metrics/Activity_level_model/y_test_data.joblib\")\n"
   ]
  },
  {
   "cell_type": "code",
   "execution_count": 3,
   "id": "6d192320",
   "metadata": {},
   "outputs": [
    {
     "data": {
      "text/plain": [
       "{'r2': 0.5310757695984683, 'mse': 5621.473239782222}"
      ]
     },
     "execution_count": 3,
     "metadata": {},
     "output_type": "execute_result"
    }
   ],
   "source": [
    "activity_level_model_performance"
   ]
  },
  {
   "cell_type": "code",
   "execution_count": 4,
   "id": "970b02ca",
   "metadata": {},
   "outputs": [
    {
     "data": {
      "text/plain": [
       "Index(['Id', 'TotalSteps', 'TotalDistance', 'LoggedActivitiesDistance',\n",
       "       'ModeratelyActiveDistance', 'LightActiveDistance',\n",
       "       'SedentaryActiveDistance', 'VeryActiveMinutes', 'FairlyActiveMinutes',\n",
       "       'LightlyActiveMinutes', 'SedentaryMinutes', 'Calories',\n",
       "       'TotalSleepRecords', 'TotalMinutesAsleep', 'TotalTimeInBed', 'Date',\n",
       "       'WeekStartDate', 'TotalSteps_Weekly', 'TotalDistance_Weekly',\n",
       "       'LoggedActivitiesDistance_Weekly', 'ModeratelyActiveDistance_Weekly',\n",
       "       'LightActiveDistance_Weekly', 'SedentaryActiveDistance_Weekly',\n",
       "       'VeryActiveMinutes_Weekly', 'FairlyActiveMinutes_Weekly',\n",
       "       'LightlyActiveMinutes_Weekly', 'SedentaryMinutes_Weekly',\n",
       "       'Calories_Weekly', 'TotalSleepRecords_Weekly',\n",
       "       'TotalMinutesAsleep_Weekly', 'TotalTimeInBed_Weekly', 'Date_Weekly'],\n",
       "      dtype='object')"
      ]
     },
     "execution_count": 4,
     "metadata": {},
     "output_type": "execute_result"
    }
   ],
   "source": [
    "activity_level_df.columns"
   ]
  },
  {
   "cell_type": "code",
   "execution_count": 5,
   "id": "1d1d32b4",
   "metadata": {},
   "outputs": [],
   "source": [
    "poor_sleep = activity_level_df[activity_level_df['TotalMinutesAsleep'] < 420]"
   ]
  },
  {
   "cell_type": "code",
   "execution_count": 6,
   "id": "6cfb4186",
   "metadata": {},
   "outputs": [],
   "source": [
    "poor_sleep = poor_sleep[['SedentaryMinutes', 'TotalTimeInBed_Weekly', 'LightActiveDistance', 'LightlyActiveMinutes', 'TotalSteps', 'TotalDistance', 'TotalMinutesAsleep_Weekly', 'Calories','TotalMinutesAsleep']]"
   ]
  },
  {
   "cell_type": "code",
   "execution_count": 7,
   "id": "ff5c353f",
   "metadata": {},
   "outputs": [
    {
     "data": {
      "text/html": [
       "<div>\n",
       "<style scoped>\n",
       "    .dataframe tbody tr th:only-of-type {\n",
       "        vertical-align: middle;\n",
       "    }\n",
       "\n",
       "    .dataframe tbody tr th {\n",
       "        vertical-align: top;\n",
       "    }\n",
       "\n",
       "    .dataframe thead th {\n",
       "        text-align: right;\n",
       "    }\n",
       "</style>\n",
       "<table border=\"1\" class=\"dataframe\">\n",
       "  <thead>\n",
       "    <tr style=\"text-align: right;\">\n",
       "      <th></th>\n",
       "      <th>SedentaryMinutes</th>\n",
       "      <th>TotalTimeInBed_Weekly</th>\n",
       "      <th>LightActiveDistance</th>\n",
       "      <th>LightlyActiveMinutes</th>\n",
       "      <th>TotalSteps</th>\n",
       "      <th>TotalDistance</th>\n",
       "      <th>TotalMinutesAsleep_Weekly</th>\n",
       "      <th>Calories</th>\n",
       "      <th>TotalMinutesAsleep</th>\n",
       "    </tr>\n",
       "  </thead>\n",
       "  <tbody>\n",
       "    <tr>\n",
       "      <th>5</th>\n",
       "      <td>775</td>\n",
       "      <td>454.8</td>\n",
       "      <td>5.03</td>\n",
       "      <td>264</td>\n",
       "      <td>15506</td>\n",
       "      <td>9.88</td>\n",
       "      <td>432.6</td>\n",
       "      <td>2035</td>\n",
       "      <td>304</td>\n",
       "    </tr>\n",
       "    <tr>\n",
       "      <th>6</th>\n",
       "      <td>818</td>\n",
       "      <td>454.8</td>\n",
       "      <td>4.24</td>\n",
       "      <td>205</td>\n",
       "      <td>10544</td>\n",
       "      <td>6.68</td>\n",
       "      <td>432.6</td>\n",
       "      <td>1786</td>\n",
       "      <td>360</td>\n",
       "    </tr>\n",
       "    <tr>\n",
       "      <th>7</th>\n",
       "      <td>838</td>\n",
       "      <td>454.8</td>\n",
       "      <td>4.65</td>\n",
       "      <td>211</td>\n",
       "      <td>9819</td>\n",
       "      <td>6.34</td>\n",
       "      <td>432.6</td>\n",
       "      <td>1775</td>\n",
       "      <td>325</td>\n",
       "    </tr>\n",
       "    <tr>\n",
       "      <th>8</th>\n",
       "      <td>732</td>\n",
       "      <td>454.8</td>\n",
       "      <td>5.36</td>\n",
       "      <td>262</td>\n",
       "      <td>14371</td>\n",
       "      <td>9.04</td>\n",
       "      <td>432.6</td>\n",
       "      <td>1949</td>\n",
       "      <td>361</td>\n",
       "    </tr>\n",
       "    <tr>\n",
       "      <th>10</th>\n",
       "      <td>814</td>\n",
       "      <td>378.8</td>\n",
       "      <td>3.94</td>\n",
       "      <td>216</td>\n",
       "      <td>15355</td>\n",
       "      <td>9.80</td>\n",
       "      <td>356.0</td>\n",
       "      <td>2013</td>\n",
       "      <td>277</td>\n",
       "    </tr>\n",
       "  </tbody>\n",
       "</table>\n",
       "</div>"
      ],
      "text/plain": [
       "    SedentaryMinutes  TotalTimeInBed_Weekly  LightActiveDistance  \\\n",
       "5                775                  454.8                 5.03   \n",
       "6                818                  454.8                 4.24   \n",
       "7                838                  454.8                 4.65   \n",
       "8                732                  454.8                 5.36   \n",
       "10               814                  378.8                 3.94   \n",
       "\n",
       "    LightlyActiveMinutes  TotalSteps  TotalDistance  \\\n",
       "5                    264       15506           9.88   \n",
       "6                    205       10544           6.68   \n",
       "7                    211        9819           6.34   \n",
       "8                    262       14371           9.04   \n",
       "10                   216       15355           9.80   \n",
       "\n",
       "    TotalMinutesAsleep_Weekly  Calories  TotalMinutesAsleep  \n",
       "5                       432.6      2035                 304  \n",
       "6                       432.6      1786                 360  \n",
       "7                       432.6      1775                 325  \n",
       "8                       432.6      1949                 361  \n",
       "10                      356.0      2013                 277  "
      ]
     },
     "execution_count": 7,
     "metadata": {},
     "output_type": "execute_result"
    }
   ],
   "source": [
    "poor_sleep.head()"
   ]
  },
  {
   "cell_type": "code",
   "execution_count": 8,
   "id": "fcfd0fd8",
   "metadata": {},
   "outputs": [
    {
     "data": {
      "text/plain": [
       "{'learning_rate': 0.1,\n",
       " 'max_depth': 3,\n",
       " 'max_features': 'sqrt',\n",
       " 'min_samples_leaf': 1,\n",
       " 'min_samples_split': 2,\n",
       " 'n_estimators': 100,\n",
       " 'subsample': 1.0}"
      ]
     },
     "execution_count": 8,
     "metadata": {},
     "output_type": "execute_result"
    }
   ],
   "source": [
    "activity_level_best_params"
   ]
  },
  {
   "cell_type": "code",
   "execution_count": 9,
   "id": "b5414c90",
   "metadata": {},
   "outputs": [
    {
     "data": {
      "text/html": [
       "<style>#sk-container-id-1 {color: black;}#sk-container-id-1 pre{padding: 0;}#sk-container-id-1 div.sk-toggleable {background-color: white;}#sk-container-id-1 label.sk-toggleable__label {cursor: pointer;display: block;width: 100%;margin-bottom: 0;padding: 0.3em;box-sizing: border-box;text-align: center;}#sk-container-id-1 label.sk-toggleable__label-arrow:before {content: \"▸\";float: left;margin-right: 0.25em;color: #696969;}#sk-container-id-1 label.sk-toggleable__label-arrow:hover:before {color: black;}#sk-container-id-1 div.sk-estimator:hover label.sk-toggleable__label-arrow:before {color: black;}#sk-container-id-1 div.sk-toggleable__content {max-height: 0;max-width: 0;overflow: hidden;text-align: left;background-color: #f0f8ff;}#sk-container-id-1 div.sk-toggleable__content pre {margin: 0.2em;color: black;border-radius: 0.25em;background-color: #f0f8ff;}#sk-container-id-1 input.sk-toggleable__control:checked~div.sk-toggleable__content {max-height: 200px;max-width: 100%;overflow: auto;}#sk-container-id-1 input.sk-toggleable__control:checked~label.sk-toggleable__label-arrow:before {content: \"▾\";}#sk-container-id-1 div.sk-estimator input.sk-toggleable__control:checked~label.sk-toggleable__label {background-color: #d4ebff;}#sk-container-id-1 div.sk-label input.sk-toggleable__control:checked~label.sk-toggleable__label {background-color: #d4ebff;}#sk-container-id-1 input.sk-hidden--visually {border: 0;clip: rect(1px 1px 1px 1px);clip: rect(1px, 1px, 1px, 1px);height: 1px;margin: -1px;overflow: hidden;padding: 0;position: absolute;width: 1px;}#sk-container-id-1 div.sk-estimator {font-family: monospace;background-color: #f0f8ff;border: 1px dotted black;border-radius: 0.25em;box-sizing: border-box;margin-bottom: 0.5em;}#sk-container-id-1 div.sk-estimator:hover {background-color: #d4ebff;}#sk-container-id-1 div.sk-parallel-item::after {content: \"\";width: 100%;border-bottom: 1px solid gray;flex-grow: 1;}#sk-container-id-1 div.sk-label:hover label.sk-toggleable__label {background-color: #d4ebff;}#sk-container-id-1 div.sk-serial::before {content: \"\";position: absolute;border-left: 1px solid gray;box-sizing: border-box;top: 0;bottom: 0;left: 50%;z-index: 0;}#sk-container-id-1 div.sk-serial {display: flex;flex-direction: column;align-items: center;background-color: white;padding-right: 0.2em;padding-left: 0.2em;position: relative;}#sk-container-id-1 div.sk-item {position: relative;z-index: 1;}#sk-container-id-1 div.sk-parallel {display: flex;align-items: stretch;justify-content: center;background-color: white;position: relative;}#sk-container-id-1 div.sk-item::before, #sk-container-id-1 div.sk-parallel-item::before {content: \"\";position: absolute;border-left: 1px solid gray;box-sizing: border-box;top: 0;bottom: 0;left: 50%;z-index: -1;}#sk-container-id-1 div.sk-parallel-item {display: flex;flex-direction: column;z-index: 1;position: relative;background-color: white;}#sk-container-id-1 div.sk-parallel-item:first-child::after {align-self: flex-end;width: 50%;}#sk-container-id-1 div.sk-parallel-item:last-child::after {align-self: flex-start;width: 50%;}#sk-container-id-1 div.sk-parallel-item:only-child::after {width: 0;}#sk-container-id-1 div.sk-dashed-wrapped {border: 1px dashed gray;margin: 0 0.4em 0.5em 0.4em;box-sizing: border-box;padding-bottom: 0.4em;background-color: white;}#sk-container-id-1 div.sk-label label {font-family: monospace;font-weight: bold;display: inline-block;line-height: 1.2em;}#sk-container-id-1 div.sk-label-container {text-align: center;}#sk-container-id-1 div.sk-container {/* jupyter's `normalize.less` sets `[hidden] { display: none; }` but bootstrap.min.css set `[hidden] { display: none !important; }` so we also need the `!important` here to be able to override the default hidden behavior on the sphinx rendered scikit-learn.org. See: https://github.com/scikit-learn/scikit-learn/issues/21755 */display: inline-block !important;position: relative;}#sk-container-id-1 div.sk-text-repr-fallback {display: none;}</style><div id=\"sk-container-id-1\" class=\"sk-top-container\"><div class=\"sk-text-repr-fallback\"><pre>GradientBoostingRegressor(max_features=&#x27;sqrt&#x27;)</pre><b>In a Jupyter environment, please rerun this cell to show the HTML representation or trust the notebook. <br />On GitHub, the HTML representation is unable to render, please try loading this page with nbviewer.org.</b></div><div class=\"sk-container\" hidden><div class=\"sk-item\"><div class=\"sk-estimator sk-toggleable\"><input class=\"sk-toggleable__control sk-hidden--visually\" id=\"sk-estimator-id-1\" type=\"checkbox\" checked><label for=\"sk-estimator-id-1\" class=\"sk-toggleable__label sk-toggleable__label-arrow\">GradientBoostingRegressor</label><div class=\"sk-toggleable__content\"><pre>GradientBoostingRegressor(max_features=&#x27;sqrt&#x27;)</pre></div></div></div></div></div>"
      ],
      "text/plain": [
       "GradientBoostingRegressor(max_features='sqrt')"
      ]
     },
     "execution_count": 9,
     "metadata": {},
     "output_type": "execute_result"
    }
   ],
   "source": [
    "activity_level_model"
   ]
  },
  {
   "cell_type": "markdown",
   "id": "d4d68dd4",
   "metadata": {},
   "source": [
    "### Activity Model Training"
   ]
  },
  {
   "cell_type": "code",
   "execution_count": 10,
   "id": "bf386ba9",
   "metadata": {},
   "outputs": [],
   "source": [
    "#New X and y data for the activity model\n",
    "X_activity = np.array(activity_level_df.drop(['Id','TotalTimeInBed','TotalMinutesAsleep','Date','Date_Weekly','TotalSleepRecords_Weekly','WeekStartDate','LoggedActivitiesDistance','SedentaryActiveDistance_Weekly'],axis=1))\n",
    "y_activity = activity_level_df['TotalMinutesAsleep'].values"
   ]
  },
  {
   "cell_type": "markdown",
   "id": "f5a787a1",
   "metadata": {},
   "source": [
    "### Checking Old Model for Overfitting "
   ]
  },
  {
   "cell_type": "code",
   "execution_count": 20,
   "id": "24f69104",
   "metadata": {},
   "outputs": [
    {
     "name": "stdout",
     "output_type": "stream",
     "text": [
      "Test Data Mean Squared Error: 5621.473239782222\n",
      "Test Data R-squared: 0.5310757695984683\n",
      "Test Data RMSE: 74.97648457871456\n",
      "\n",
      "Train Data Mean Squared Error: 595.0929144233256\n",
      "Train Data R-squared: 0.9411042890788174\n",
      "Train Data RMSE: 24.394526320945968\n"
     ]
    }
   ],
   "source": [
    "y_pred_activity = activity_level_model.predict(X_test_activity)\n",
    "\n",
    "mse = mean_squared_error(y_test_activity, y_pred_activity)\n",
    "print(f\"Test Data Mean Squared Error: {mse}\")\n",
    "\n",
    "\n",
    "r2 = r2_score(y_test_activity, y_pred_activity)\n",
    "print(f\"Test Data R-squared: {r2}\")\n",
    "\n",
    "rmse = np.sqrt(mean_squared_error(y_test_activity, y_pred_activity))\n",
    "print(f\"Test Data RMSE: {rmse}\")\n",
    "\n",
    "\n",
    "print('')\n",
    "\n",
    "#Predicting on Train data to check for overfitting. \n",
    "y_pred_activity_train = activity_level_model.predict(X_train_activity)\n",
    "\n",
    "mse = mean_squared_error(y_train_activity, y_pred_activity_train)\n",
    "print(f\"Train Data Mean Squared Error: {mse}\")\n",
    "\n",
    "\n",
    "r2 = r2_score(y_train_activity, y_pred_activity_train)\n",
    "print(f\"Train Data R-squared: {r2}\")\n",
    "\n",
    "rmse = np.sqrt(mean_squared_error(y_train_activity, y_pred_activity_train))\n",
    "print(f\"Train Data RMSE: {rmse}\")"
   ]
  },
  {
   "cell_type": "code",
   "execution_count": 21,
   "id": "6f54cc55",
   "metadata": {},
   "outputs": [],
   "source": [
    "#The model is overfitting. I will make some changes to account for this"
   ]
  },
  {
   "cell_type": "code",
   "execution_count": 22,
   "id": "204dceb7",
   "metadata": {},
   "outputs": [],
   "source": [
    "#For cross validating my data to see how model predicts on new data\n",
    "kf = KFold(n_splits=10, shuffle=True, random_state=42)"
   ]
  },
  {
   "cell_type": "code",
   "execution_count": 26,
   "id": "89133835",
   "metadata": {},
   "outputs": [
    {
     "name": "stdout",
     "output_type": "stream",
     "text": [
      "Cross-validation scores: [0.6044385  0.48578804 0.6296541  0.70226014 0.18991523 0.68556999\n",
      " 0.49381983 0.60668744 0.52311998 0.65200823]\n",
      "Average score: 0.5573261471833686\n"
     ]
    }
   ],
   "source": [
    "#The regressor seems to perform better\n",
    "\n",
    "model =  GradientBoostingRegressor()\n",
    "\n",
    "\n",
    "scores = cross_val_score(model, X_activity, y_activity, cv=kf, scoring='r2')\n",
    "\n",
    "print(\"Cross-validation scores:\", scores)\n",
    "print(\"Average score:\",np.mean(scores))"
   ]
  },
  {
   "cell_type": "code",
   "execution_count": 32,
   "id": "dada646a",
   "metadata": {},
   "outputs": [],
   "source": [
    "activity_features = activity_level_df.drop(['Id','TotalTimeInBed','TotalMinutesAsleep','Date','Date_Weekly','TotalSleepRecords_Weekly','WeekStartDate','LoggedActivitiesDistance','SedentaryActiveDistance_Weekly'],axis=1).columns"
   ]
  },
  {
   "cell_type": "code",
   "execution_count": 33,
   "id": "bc6010fc",
   "metadata": {},
   "outputs": [
    {
     "data": {
      "text/plain": [
       "Index(['TotalSteps', 'TotalDistance', 'ModeratelyActiveDistance',\n",
       "       'LightActiveDistance', 'SedentaryActiveDistance', 'VeryActiveMinutes',\n",
       "       'FairlyActiveMinutes', 'LightlyActiveMinutes', 'SedentaryMinutes',\n",
       "       'Calories', 'TotalSleepRecords', 'TotalSteps_Weekly',\n",
       "       'TotalDistance_Weekly', 'LoggedActivitiesDistance_Weekly',\n",
       "       'ModeratelyActiveDistance_Weekly', 'LightActiveDistance_Weekly',\n",
       "       'VeryActiveMinutes_Weekly', 'FairlyActiveMinutes_Weekly',\n",
       "       'LightlyActiveMinutes_Weekly', 'SedentaryMinutes_Weekly',\n",
       "       'Calories_Weekly', 'TotalMinutesAsleep_Weekly',\n",
       "       'TotalTimeInBed_Weekly'],\n",
       "      dtype='object')"
      ]
     },
     "execution_count": 33,
     "metadata": {},
     "output_type": "execute_result"
    }
   ],
   "source": [
    "activity_features"
   ]
  },
  {
   "cell_type": "markdown",
   "id": "8d78a199",
   "metadata": {},
   "source": [
    "### Extracting Feature Importance "
   ]
  },
  {
   "cell_type": "code",
   "execution_count": 34,
   "id": "eced5337",
   "metadata": {},
   "outputs": [],
   "source": [
    "# I will use the base gbregressor model to give me an idea of feature importance since the model performs relatively well\n",
    "gbregressor = GradientBoostingRegressor()\n",
    "\n",
    "#This is the train test data from my old model. It is already scaled\n",
    "gbregressor.fit(X_train_activity,y_train_activity)\n",
    "\n",
    "y_pred_activity = gbregressor.predict(X_test_activity)"
   ]
  },
  {
   "cell_type": "code",
   "execution_count": 35,
   "id": "9b86887e",
   "metadata": {},
   "outputs": [
    {
     "name": "stdout",
     "output_type": "stream",
     "text": [
      "Test Data Mean Squared Error: 4573.258818926183\n",
      "Test Data R-squared: 0.618514261187685\n",
      "Test Data RMSE: 67.62587388659892\n",
      "\n",
      "Train Data Mean Squared Error: 595.0929144233256\n",
      "Train Data R-squared: 0.9411042890788174\n",
      "Train Data RMSE: 24.394526320945968\n"
     ]
    }
   ],
   "source": [
    "mse = mean_squared_error(y_test_activity, y_pred_activity)\n",
    "print(f\"Test Data Mean Squared Error: {mse}\")\n",
    "\n",
    "\n",
    "r2 = r2_score(y_test_activity, y_pred_activity)\n",
    "print(f\"Test Data R-squared: {r2}\")\n",
    "\n",
    "rmse = np.sqrt(mean_squared_error(y_test_activity, y_pred_activity))\n",
    "print(f\"Test Data RMSE: {rmse}\")\n",
    "\n",
    "\n",
    "print('')\n",
    "\n",
    "#Predicting on Train data to check for overfitting. \n",
    "y_pred_activity_train = activity_level_model.predict(X_train_activity)\n",
    "\n",
    "mse = mean_squared_error(y_train_activity, y_pred_activity_train)\n",
    "print(f\"Train Data Mean Squared Error: {mse}\")\n",
    "\n",
    "\n",
    "r2 = r2_score(y_train_activity, y_pred_activity_train)\n",
    "print(f\"Train Data R-squared: {r2}\")\n",
    "\n",
    "rmse = np.sqrt(mean_squared_error(y_train_activity, y_pred_activity_train))\n",
    "print(f\"Train Data RMSE: {rmse}\")"
   ]
  },
  {
   "cell_type": "code",
   "execution_count": 36,
   "id": "87a83d5e",
   "metadata": {},
   "outputs": [],
   "source": [
    "#The baseline gradient boosting regressor model is also overfitting on the data as shown by the results\n",
    "#First I will try reducing the amount of features to see if this helps."
   ]
  },
  {
   "cell_type": "code",
   "execution_count": 37,
   "id": "59c54ccb",
   "metadata": {},
   "outputs": [
    {
     "name": "stdout",
     "output_type": "stream",
     "text": [
      "[('TotalSteps', 0.03974584880419604), ('TotalDistance', 0.04489468853669897), ('ModeratelyActiveDistance', 0.005398056507289977), ('LightActiveDistance', 0.07635904558219059), ('SedentaryActiveDistance', 0.0), ('VeryActiveMinutes', 0.011578084684243567), ('FairlyActiveMinutes', 0.00976352084037276), ('LightlyActiveMinutes', 0.06454304715118885), ('SedentaryMinutes', 0.4543804385375964), ('Calories', 0.04394881556033692), ('TotalSleepRecords', 0.003365395251437999), ('TotalSteps_Weekly', 0.0071965242325510975), ('TotalDistance_Weekly', 0.0040083502017772155), ('LoggedActivitiesDistance_Weekly', 0.0002658305946024498), ('ModeratelyActiveDistance_Weekly', 0.02002240630615126), ('LightActiveDistance_Weekly', 0.02270139103316574), ('VeryActiveMinutes_Weekly', 0.0), ('FairlyActiveMinutes_Weekly', 0.0016258203957640763), ('LightlyActiveMinutes_Weekly', 0.0028233468081712942), ('SedentaryMinutes_Weekly', 0.0036844683550049367), ('Calories_Weekly', 0.0036137242171587034), ('TotalMinutesAsleep_Weekly', 0.028973059954559247), ('TotalTimeInBed_Weekly', 0.13841014641963856)]\n"
     ]
    }
   ],
   "source": [
    "#Extracting feature importance for each feature\n",
    "feature_importances = gbregressor.feature_importances_\n",
    "feature_importances_activity =list(zip(activity_features,feature_importances))\n",
    "print(feature_importances_activity)"
   ]
  },
  {
   "cell_type": "code",
   "execution_count": 38,
   "id": "673dade2",
   "metadata": {},
   "outputs": [
    {
     "name": "stdout",
     "output_type": "stream",
     "text": [
      "SedentaryMinutes: 0.4543804385375964\n",
      "TotalTimeInBed_Weekly: 0.13841014641963856\n",
      "LightActiveDistance: 0.07635904558219059\n",
      "LightlyActiveMinutes: 0.06454304715118885\n",
      "TotalDistance: 0.04489468853669897\n",
      "Calories: 0.04394881556033692\n",
      "TotalSteps: 0.03974584880419604\n",
      "TotalMinutesAsleep_Weekly: 0.028973059954559247\n",
      "LightActiveDistance_Weekly: 0.02270139103316574\n",
      "ModeratelyActiveDistance_Weekly: 0.02002240630615126\n",
      "VeryActiveMinutes: 0.011578084684243567\n",
      "FairlyActiveMinutes: 0.00976352084037276\n",
      "TotalSteps_Weekly: 0.0071965242325510975\n",
      "ModeratelyActiveDistance: 0.005398056507289977\n",
      "TotalDistance_Weekly: 0.0040083502017772155\n",
      "SedentaryMinutes_Weekly: 0.0036844683550049367\n",
      "Calories_Weekly: 0.0036137242171587034\n",
      "TotalSleepRecords: 0.003365395251437999\n",
      "LightlyActiveMinutes_Weekly: 0.0028233468081712942\n",
      "FairlyActiveMinutes_Weekly: 0.0016258203957640763\n",
      "LoggedActivitiesDistance_Weekly: 0.0002658305946024498\n",
      "SedentaryActiveDistance: 0.0\n",
      "VeryActiveMinutes_Weekly: 0.0\n"
     ]
    }
   ],
   "source": [
    "# Sort the list by the second element of each tuple\n",
    "sorted_feature_importances = sorted(feature_importances_activity, key=lambda x: x[1],reverse=True)\n",
    "features_list = []\n",
    "# Print the sorted list\n",
    "for feature, importance in sorted_feature_importances:\n",
    "    print(f\"{feature}: {importance}\")\n",
    "    features_list.append(feature)\n",
    "    \n",
    "#The most important features are in the beginning and the least important towards the end."
   ]
  },
  {
   "cell_type": "markdown",
   "id": "2be59f01",
   "metadata": {},
   "source": [
    "### Feature Reduction"
   ]
  },
  {
   "cell_type": "code",
   "execution_count": 40,
   "id": "e9a15977",
   "metadata": {},
   "outputs": [
    {
     "name": "stdout",
     "output_type": "stream",
     "text": [
      "Best R² score: 0.6172675440152335\n",
      "Features for best score: ['SedentaryMinutes', 'TotalTimeInBed_Weekly', 'LightActiveDistance', 'LightlyActiveMinutes', 'TotalDistance', 'Calories', 'TotalSteps', 'TotalMinutesAsleep_Weekly']\n"
     ]
    }
   ],
   "source": [
    "best_score = float('-inf')\n",
    "best_features = None\n",
    "\n",
    "for x in range(len(features_list)):\n",
    "    # Create a new numpy array with the selected features\n",
    "    X_subset = np.array(activity_level_df[features_list[:len(features_list) - x]])\n",
    "\n",
    "    model = GradientBoostingRegressor()\n",
    "\n",
    "    # Perform cross-validation\n",
    "    kf = KFold(n_splits=10, shuffle=True, random_state=42)\n",
    "    scores = cross_val_score(model, X_subset, y_activity, cv=kf, scoring='r2')\n",
    "    average_score = np.mean(scores)\n",
    "    # Perform cross-validation\n",
    "\n",
    "\n",
    "    # Update the best score and corresponding feature set\n",
    "    if average_score > best_score:\n",
    "        best_score = average_score\n",
    "        best_features = features_list[:len(features_list) - x]\n",
    "\n",
    "# Print the best score and corresponding features\n",
    "print(f\"Best R² score: {best_score}\")\n",
    "print(f\"Features for best score: {best_features}\")\n"
   ]
  },
  {
   "cell_type": "code",
   "execution_count": 42,
   "id": "796f8eb5",
   "metadata": {},
   "outputs": [
    {
     "data": {
      "text/plain": [
       "['SedentaryMinutes',\n",
       " 'TotalTimeInBed_Weekly',\n",
       " 'LightActiveDistance',\n",
       " 'LightlyActiveMinutes',\n",
       " 'TotalDistance',\n",
       " 'Calories',\n",
       " 'TotalSteps',\n",
       " 'TotalMinutesAsleep_Weekly']"
      ]
     },
     "execution_count": 42,
     "metadata": {},
     "output_type": "execute_result"
    }
   ],
   "source": [
    "best_features"
   ]
  },
  {
   "cell_type": "code",
   "execution_count": 43,
   "id": "f88f159a",
   "metadata": {},
   "outputs": [],
   "source": [
    "#Using the best features\n",
    "X_activity_reduced = np.array(activity_level_df[best_features])\n",
    "y_activity = activity_level_df['TotalMinutesAsleep'].values\n",
    "\n",
    "#Will take the first 7 most important features here\n",
    "X_activity_min_features = np.array(activity_level_df[best_features[:7]])"
   ]
  },
  {
   "cell_type": "code",
   "execution_count": 44,
   "id": "646887a2",
   "metadata": {},
   "outputs": [
    {
     "data": {
      "text/plain": [
       "318"
      ]
     },
     "execution_count": 44,
     "metadata": {},
     "output_type": "execute_result"
    }
   ],
   "source": [
    "len(X_activity_reduced)"
   ]
  },
  {
   "cell_type": "code",
   "execution_count": 45,
   "id": "e49bad54",
   "metadata": {},
   "outputs": [
    {
     "data": {
      "text/plain": [
       "318"
      ]
     },
     "execution_count": 45,
     "metadata": {},
     "output_type": "execute_result"
    }
   ],
   "source": [
    "len(y_activity)"
   ]
  },
  {
   "cell_type": "code",
   "execution_count": 46,
   "id": "4d246f87",
   "metadata": {},
   "outputs": [
    {
     "name": "stdout",
     "output_type": "stream",
     "text": [
      "Average r2 score: 0.6104821497035781\n",
      "\n",
      "All scores: [0.62771394 0.60727823 0.6455681  0.67703516 0.23491341 0.66833132\n",
      " 0.6717301  0.6395691  0.55492868 0.77775347]\n"
     ]
    }
   ],
   "source": [
    "#Model trained on reduced features\n",
    "gbregressor = GradientBoostingRegressor()\n",
    "scores = cross_val_score(gbregressor, X_activity_reduced, y_activity, cv=kf, scoring='r2')\n",
    "print(f\"Average r2 score: {np.mean(scores)}\")\n",
    "print('')\n",
    "print(f\"All scores: {scores}\")"
   ]
  },
  {
   "cell_type": "code",
   "execution_count": 47,
   "id": "1420f4ff",
   "metadata": {},
   "outputs": [
    {
     "name": "stdout",
     "output_type": "stream",
     "text": [
      "Average r2 score: 0.5611795862022932\n",
      "\n",
      "All scores: [0.53125788 0.64035675 0.53428122 0.53248881 0.27784083 0.69693004\n",
      " 0.6007861  0.59774612 0.46897614 0.73113197]\n"
     ]
    }
   ],
   "source": [
    "#Model trained on less features\n",
    "gbregressor = GradientBoostingRegressor()\n",
    "scores = cross_val_score(gbregressor, X_activity_min_features, y_activity, cv=kf, scoring='r2')\n",
    "print(f\"Average r2 score: {np.mean(scores)}\")\n",
    "print('')\n",
    "print(f\"All scores: {scores}\")"
   ]
  },
  {
   "cell_type": "code",
   "execution_count": null,
   "id": "f6f3db94",
   "metadata": {},
   "outputs": [],
   "source": [
    "#The model with 8 features performs better than the model with 7. I will continue with all 8 features"
   ]
  },
  {
   "cell_type": "code",
   "execution_count": 48,
   "id": "14e2b270",
   "metadata": {},
   "outputs": [
    {
     "name": "stdout",
     "output_type": "stream",
     "text": [
      "Average r2 score: 0.6046686687984602\n",
      "\n",
      "All scores: [0.38588559 0.65349095 0.48247528 0.56625685 0.65496515 0.64692165\n",
      " 0.50712806 0.71740838 0.68141283 0.75074195]\n"
     ]
    }
   ],
   "source": [
    "kf = KFold(n_splits=10, shuffle=True, random_state=123)\n",
    "scores = cross_val_score(gbregressor, X_activity_reduced, y_activity, cv=kf, scoring='r2')\n",
    "print(f\"Average r2 score: {np.mean(scores)}\")\n",
    "print('')\n",
    "print(f\"All scores: {scores}\")"
   ]
  },
  {
   "cell_type": "code",
   "execution_count": null,
   "id": "cfaa00d0",
   "metadata": {},
   "outputs": [],
   "source": [
    "#Scaling data seems to slightly hurt performance so I will work with the unscaled data from now on"
   ]
  },
  {
   "cell_type": "markdown",
   "id": "6532a91d",
   "metadata": {},
   "source": [
    "### Hyperparameter Tuning "
   ]
  },
  {
   "cell_type": "code",
   "execution_count": 50,
   "id": "d5ec770d",
   "metadata": {},
   "outputs": [
    {
     "name": "stdout",
     "output_type": "stream",
     "text": [
      "Best Parameters: {'subsample': 1.0, 'n_estimators': 140, 'min_samples_split': 4, 'min_samples_leaf': 5, 'max_features': 'log2', 'max_depth': 2, 'learning_rate': 0.13}\n",
      "Best Score: 0.5761432028670098\n"
     ]
    }
   ],
   "source": [
    "# First I will start with Random searches to get a general idea of good hyper parameters.\n",
    "\n",
    "param_grid_gb = {\n",
    "    'n_estimators': [50, 60, 70, 80, 90, 100, 110, 120, 130, 140, 150],  # Expanded range with finer steps\n",
    "    'learning_rate': [0.05, 0.06, 0.07, 0.08, 0.09, 0.1, 0.11, 0.12, 0.13, 0.14, 0.15],  # Finer steps around 0.1\n",
    "    'max_depth': [2, 3, 4, 5, 6, 7],  # Expanded range with small increments\n",
    "    'min_samples_split': [2, 3, 4, 5, 6, 7, 8, 9, 10],  # Finer steps starting from 2\n",
    "    'min_samples_leaf': [1, 2, 3, 4, 5, 6, 7, 8, 9, 10],  # Finer steps starting from 1\n",
    "    'subsample': [0.8, 0.85, 0.9, 0.95, 1.0],  # Finer steps around 1.0\n",
    "    'max_features': [None, 'sqrt', 'log2']\n",
    "}\n",
    "\n",
    "random_search = RandomizedSearchCV(gbregressor, param_distributions=param_grid_gb, \n",
    "                                   n_iter=300, cv=10, scoring='r2', \n",
    "                                   random_state=42, n_jobs=-1)\n",
    "random_search.fit(X_activity_reduced, y_activity)\n",
    "\n",
    "print(f\"Best Parameters:\", random_search.best_params_)\n",
    "print(f\"Best Score:\", random_search.best_score_)"
   ]
  },
  {
   "cell_type": "code",
   "execution_count": 51,
   "id": "9238e414",
   "metadata": {},
   "outputs": [
    {
     "name": "stdout",
     "output_type": "stream",
     "text": [
      "Best Parameters: {'subsample': 0.8, 'n_estimators': 130, 'min_samples_split': 9, 'min_samples_leaf': 5, 'max_features': 'log2', 'max_depth': 3, 'learning_rate': 0.065}\n",
      "Best Score: 0.5857642889906809\n"
     ]
    }
   ],
   "source": [
    "#This param grid is more tightly centered around the best params from the last random search\n",
    "\n",
    "param_grid_gb = {\n",
    "    'n_estimators': [115, 120, 125, 130, 135],         # Narrower range around 120\n",
    "    'learning_rate': [0.065, 0.07, 0.075, 0.08, 0.085], # Narrower range around 0.07\n",
    "    'max_depth': [3, 4, 5],                             # Closer values around 3\n",
    "    'min_samples_split': [5, 6, 7, 8, 9],               # Slightly broader range around 6\n",
    "    'min_samples_leaf': [4, 5, 6, 7, 8],                # Slightly broader range around 5\n",
    "    'max_features': ['sqrt', 'log2', None],                   # Focusing on sqrt and log2\n",
    "    'subsample': [0.75, 0.8, 0.85, 0.9, 0.95]           # Broader range around 0.8\n",
    "}\n",
    "\n",
    "\n",
    "\n",
    "random_search = RandomizedSearchCV(gbregressor, param_distributions=param_grid_gb, \n",
    "                                   n_iter=500, cv=10, scoring='r2', \n",
    "                                   random_state=42, n_jobs=-1)\n",
    "random_search.fit(X_activity_reduced, y_activity)\n",
    "\n",
    "print(\"Best Parameters:\", random_search.best_params_)\n",
    "print(\"Best Score:\", random_search.best_score_)"
   ]
  },
  {
   "cell_type": "code",
   "execution_count": 52,
   "id": "1fc2da52",
   "metadata": {},
   "outputs": [
    {
     "name": "stdout",
     "output_type": "stream",
     "text": [
      "Best Parameters: {'subsample': 0.975, 'n_estimators': 135, 'min_samples_split': 9, 'min_samples_leaf': 6, 'max_features': 'sqrt', 'max_depth': 4, 'learning_rate': 0.1}\n",
      "Best Score: 0.5753012786515808\n"
     ]
    }
   ],
   "source": [
    "#This param grid hones in even further on the new best params\n",
    "\n",
    "param_grid_gb = {\n",
    "    'n_estimators': [130, 135, 140, 145, 150],              # Centered around 135\n",
    "    'learning_rate': [0.08, 0.085, 0.09, 0.095, 0.1],       # Centered around 0.085\n",
    "    'max_depth': [3, 4, 5, 6, 7],                           # Centered around 4\n",
    "    'min_samples_split': [5, 6, 7, 8, 9],                   # Centered around 7\n",
    "    'min_samples_leaf': [4, 5, 6, 7, 8],                    # Centered around 5\n",
    "    'max_features': ['sqrt', 'log2', None],                 # Including 'sqrt' and other options\n",
    "    'subsample': [0.9, 0.925, 0.95, 0.975, 1.0]             # Centered around 0.95\n",
    "}\n",
    "\n",
    "random_search = RandomizedSearchCV(gbregressor, param_distributions=param_grid_gb, \n",
    "                                   n_iter=600, cv=10, scoring='r2', \n",
    "                                   random_state=42, n_jobs=-1)\n",
    "random_search.fit(X_activity_reduced, y_activity)\n",
    "\n",
    "print(\"Best Parameters:\", random_search.best_params_)\n",
    "print(\"Best Score:\", random_search.best_score_)"
   ]
  },
  {
   "cell_type": "code",
   "execution_count": null,
   "id": "3f11bf4f",
   "metadata": {},
   "outputs": [],
   "source": [
    "#Now I will use a grid search to explore values around the current best hyperparmeters"
   ]
  },
  {
   "cell_type": "code",
   "execution_count": 53,
   "id": "5b18b813",
   "metadata": {},
   "outputs": [
    {
     "name": "stdout",
     "output_type": "stream",
     "text": [
      "Fitting 10 folds for each of 729 candidates, totalling 7290 fits\n",
      "Best Parameters: {'learning_rate': 0.085, 'max_depth': 3, 'max_features': 'sqrt', 'min_samples_leaf': 5, 'min_samples_split': 6, 'n_estimators': 135, 'subsample': 0.925}\n",
      "Best Score: 0.5842148944925646\n"
     ]
    }
   ],
   "source": [
    "\n",
    "param_grid_gb = {\n",
    "    'n_estimators': [130, 135, 140],                    # Close to 135\n",
    "    'learning_rate': [0.08, 0.085, 0.09],               # Close to 0.085\n",
    "    'max_depth': [3, 4, 5],                             # Close to 4\n",
    "    'min_samples_split': [6, 7, 8],                     # Close to 7\n",
    "    'min_samples_leaf': [4, 5, 6],                      # Close to 5\n",
    "    'max_features': ['sqrt'],                           # Since 'sqrt' is specified\n",
    "    'subsample': [0.925, 0.95, 0.975]                   # Close to 0.95\n",
    "}\n",
    "\n",
    "grid_search = GridSearchCV(\n",
    "estimator=GradientBoostingRegressor(),\n",
    "param_grid=param_grid_gb,\n",
    "cv=10,  # Number of cross-validation folds (can be adjusted)\n",
    "scoring='r2',  # Scoring metric\n",
    "verbose=2,  # Controls verbosity: higher number for more detailed messages\n",
    "n_jobs=-1  # Number of jobs to run in parallel (-1 uses all processors)\n",
    ")\n",
    "\n",
    "grid_search.fit(X_activity_reduced, y_activity)\n",
    "\n",
    "print(\"Best Parameters:\", grid_search.best_params_)\n",
    "print(\"Best Score:\", grid_search.best_score_)\n",
    "\n"
   ]
  },
  {
   "cell_type": "markdown",
   "id": "419ecdcc",
   "metadata": {},
   "source": [
    "### Model Training & Evaluation"
   ]
  },
  {
   "cell_type": "code",
   "execution_count": 70,
   "id": "7678de42",
   "metadata": {},
   "outputs": [],
   "source": [
    "X_train, X_test, y_train, y_test = train_test_split(X_activity_reduced, y_activity, test_size=0.3, random_state=42)"
   ]
  },
  {
   "cell_type": "code",
   "execution_count": 71,
   "id": "606326a4",
   "metadata": {},
   "outputs": [],
   "source": [
    "best_params = grid_search.best_params_"
   ]
  },
  {
   "cell_type": "code",
   "execution_count": 72,
   "id": "a5461beb",
   "metadata": {},
   "outputs": [
    {
     "data": {
      "text/html": [
       "<style>#sk-container-id-5 {color: black;}#sk-container-id-5 pre{padding: 0;}#sk-container-id-5 div.sk-toggleable {background-color: white;}#sk-container-id-5 label.sk-toggleable__label {cursor: pointer;display: block;width: 100%;margin-bottom: 0;padding: 0.3em;box-sizing: border-box;text-align: center;}#sk-container-id-5 label.sk-toggleable__label-arrow:before {content: \"▸\";float: left;margin-right: 0.25em;color: #696969;}#sk-container-id-5 label.sk-toggleable__label-arrow:hover:before {color: black;}#sk-container-id-5 div.sk-estimator:hover label.sk-toggleable__label-arrow:before {color: black;}#sk-container-id-5 div.sk-toggleable__content {max-height: 0;max-width: 0;overflow: hidden;text-align: left;background-color: #f0f8ff;}#sk-container-id-5 div.sk-toggleable__content pre {margin: 0.2em;color: black;border-radius: 0.25em;background-color: #f0f8ff;}#sk-container-id-5 input.sk-toggleable__control:checked~div.sk-toggleable__content {max-height: 200px;max-width: 100%;overflow: auto;}#sk-container-id-5 input.sk-toggleable__control:checked~label.sk-toggleable__label-arrow:before {content: \"▾\";}#sk-container-id-5 div.sk-estimator input.sk-toggleable__control:checked~label.sk-toggleable__label {background-color: #d4ebff;}#sk-container-id-5 div.sk-label input.sk-toggleable__control:checked~label.sk-toggleable__label {background-color: #d4ebff;}#sk-container-id-5 input.sk-hidden--visually {border: 0;clip: rect(1px 1px 1px 1px);clip: rect(1px, 1px, 1px, 1px);height: 1px;margin: -1px;overflow: hidden;padding: 0;position: absolute;width: 1px;}#sk-container-id-5 div.sk-estimator {font-family: monospace;background-color: #f0f8ff;border: 1px dotted black;border-radius: 0.25em;box-sizing: border-box;margin-bottom: 0.5em;}#sk-container-id-5 div.sk-estimator:hover {background-color: #d4ebff;}#sk-container-id-5 div.sk-parallel-item::after {content: \"\";width: 100%;border-bottom: 1px solid gray;flex-grow: 1;}#sk-container-id-5 div.sk-label:hover label.sk-toggleable__label {background-color: #d4ebff;}#sk-container-id-5 div.sk-serial::before {content: \"\";position: absolute;border-left: 1px solid gray;box-sizing: border-box;top: 0;bottom: 0;left: 50%;z-index: 0;}#sk-container-id-5 div.sk-serial {display: flex;flex-direction: column;align-items: center;background-color: white;padding-right: 0.2em;padding-left: 0.2em;position: relative;}#sk-container-id-5 div.sk-item {position: relative;z-index: 1;}#sk-container-id-5 div.sk-parallel {display: flex;align-items: stretch;justify-content: center;background-color: white;position: relative;}#sk-container-id-5 div.sk-item::before, #sk-container-id-5 div.sk-parallel-item::before {content: \"\";position: absolute;border-left: 1px solid gray;box-sizing: border-box;top: 0;bottom: 0;left: 50%;z-index: -1;}#sk-container-id-5 div.sk-parallel-item {display: flex;flex-direction: column;z-index: 1;position: relative;background-color: white;}#sk-container-id-5 div.sk-parallel-item:first-child::after {align-self: flex-end;width: 50%;}#sk-container-id-5 div.sk-parallel-item:last-child::after {align-self: flex-start;width: 50%;}#sk-container-id-5 div.sk-parallel-item:only-child::after {width: 0;}#sk-container-id-5 div.sk-dashed-wrapped {border: 1px dashed gray;margin: 0 0.4em 0.5em 0.4em;box-sizing: border-box;padding-bottom: 0.4em;background-color: white;}#sk-container-id-5 div.sk-label label {font-family: monospace;font-weight: bold;display: inline-block;line-height: 1.2em;}#sk-container-id-5 div.sk-label-container {text-align: center;}#sk-container-id-5 div.sk-container {/* jupyter's `normalize.less` sets `[hidden] { display: none; }` but bootstrap.min.css set `[hidden] { display: none !important; }` so we also need the `!important` here to be able to override the default hidden behavior on the sphinx rendered scikit-learn.org. See: https://github.com/scikit-learn/scikit-learn/issues/21755 */display: inline-block !important;position: relative;}#sk-container-id-5 div.sk-text-repr-fallback {display: none;}</style><div id=\"sk-container-id-5\" class=\"sk-top-container\"><div class=\"sk-text-repr-fallback\"><pre>GradientBoostingRegressor(learning_rate=0.085, max_features=&#x27;sqrt&#x27;,\n",
       "                          min_samples_leaf=5, min_samples_split=6,\n",
       "                          n_estimators=135, subsample=0.925)</pre><b>In a Jupyter environment, please rerun this cell to show the HTML representation or trust the notebook. <br />On GitHub, the HTML representation is unable to render, please try loading this page with nbviewer.org.</b></div><div class=\"sk-container\" hidden><div class=\"sk-item\"><div class=\"sk-estimator sk-toggleable\"><input class=\"sk-toggleable__control sk-hidden--visually\" id=\"sk-estimator-id-5\" type=\"checkbox\" checked><label for=\"sk-estimator-id-5\" class=\"sk-toggleable__label sk-toggleable__label-arrow\">GradientBoostingRegressor</label><div class=\"sk-toggleable__content\"><pre>GradientBoostingRegressor(learning_rate=0.085, max_features=&#x27;sqrt&#x27;,\n",
       "                          min_samples_leaf=5, min_samples_split=6,\n",
       "                          n_estimators=135, subsample=0.925)</pre></div></div></div></div></div>"
      ],
      "text/plain": [
       "GradientBoostingRegressor(learning_rate=0.085, max_features='sqrt',\n",
       "                          min_samples_leaf=5, min_samples_split=6,\n",
       "                          n_estimators=135, subsample=0.925)"
      ]
     },
     "execution_count": 72,
     "metadata": {},
     "output_type": "execute_result"
    }
   ],
   "source": [
    "model = GradientBoostingRegressor(**best_params)\n",
    "model.fit(X_train, y_train)\n"
   ]
  },
  {
   "cell_type": "code",
   "execution_count": 73,
   "id": "98a87899",
   "metadata": {},
   "outputs": [
    {
     "name": "stdout",
     "output_type": "stream",
     "text": [
      "Training Set R² score: 0.9220936436013296\n",
      "Test Set R² score: 0.6044584783931162\n"
     ]
    }
   ],
   "source": [
    "# Predict on train set\n",
    "y_train_pred = model.predict(X_train)\n",
    "train_score = r2_score(y_train, y_train_pred)\n",
    "print(\"Training Set R² score:\", train_score)\n",
    "\n",
    "# Predict on test set\n",
    "y_test_pred = model.predict(X_test)\n",
    "test_score = r2_score(y_test, y_test_pred)\n",
    "print(\"Test Set R² score:\", test_score)\n",
    "\n"
   ]
  },
  {
   "cell_type": "code",
   "execution_count": 74,
   "id": "8a52914c",
   "metadata": {},
   "outputs": [
    {
     "name": "stdout",
     "output_type": "stream",
     "text": [
      "Cross-Validation R² scores on Training Set: [0.54134331 0.64811508 0.62809267 0.40641652 0.62450375]\n",
      "Average Cross-Validation R² score: 0.569694263938138\n",
      "Standard Deviation of Cross-Validation R² scores: 0.08947365597590856\n"
     ]
    }
   ],
   "source": [
    "cv_scores = cross_val_score(model, X_train, y_train, cv=5, scoring='r2')\n",
    "\n",
    "# Calculate the mean and standard deviation of the cross-validation scores\n",
    "print(\"Cross-Validation R² scores on Training Set:\", cv_scores)\n",
    "print(\"Average Cross-Validation R² score:\", cv_scores.mean())\n",
    "print(\"Standard Deviation of Cross-Validation R² scores:\", cv_scores.std())"
   ]
  },
  {
   "cell_type": "markdown",
   "id": "7777e4ed",
   "metadata": {},
   "source": [
    "### Dump best model "
   ]
  },
  {
   "cell_type": "code",
   "execution_count": 111,
   "id": "73e0dd64",
   "metadata": {},
   "outputs": [
    {
     "data": {
      "text/plain": [
       "['C:/Users/mainf/OneDrive/Desktop/Fitness Data Project/Sleep/Models&Metrics/Activity_level_model/BEST_MODEL.joblib']"
      ]
     },
     "execution_count": 111,
     "metadata": {},
     "output_type": "execute_result"
    }
   ],
   "source": [
    "dump(model,\"C:/Users/mainf/OneDrive/Desktop/Fitness Data Project/Sleep/Models&Metrics/Activity_level_model/BEST_MODEL.joblib\")"
   ]
  },
  {
   "cell_type": "code",
   "execution_count": 129,
   "id": "72f3215e",
   "metadata": {
    "scrolled": true
   },
   "outputs": [
    {
     "data": {
      "text/html": [
       "<div>\n",
       "<style scoped>\n",
       "    .dataframe tbody tr th:only-of-type {\n",
       "        vertical-align: middle;\n",
       "    }\n",
       "\n",
       "    .dataframe tbody tr th {\n",
       "        vertical-align: top;\n",
       "    }\n",
       "\n",
       "    .dataframe thead th {\n",
       "        text-align: right;\n",
       "    }\n",
       "</style>\n",
       "<table border=\"1\" class=\"dataframe\">\n",
       "  <thead>\n",
       "    <tr style=\"text-align: right;\">\n",
       "      <th></th>\n",
       "      <th>SedentaryMinutes</th>\n",
       "      <th>TotalTimeInBed_Weekly</th>\n",
       "      <th>LightActiveDistance</th>\n",
       "      <th>LightlyActiveMinutes</th>\n",
       "      <th>TotalSteps</th>\n",
       "      <th>TotalDistance</th>\n",
       "      <th>TotalMinutesAsleep_Weekly</th>\n",
       "      <th>Calories</th>\n",
       "      <th>TotalMinutesAsleep</th>\n",
       "    </tr>\n",
       "  </thead>\n",
       "  <tbody>\n",
       "    <tr>\n",
       "      <th>5</th>\n",
       "      <td>775</td>\n",
       "      <td>454.80</td>\n",
       "      <td>5.03</td>\n",
       "      <td>264</td>\n",
       "      <td>15506</td>\n",
       "      <td>9.88</td>\n",
       "      <td>432.600000</td>\n",
       "      <td>2035</td>\n",
       "      <td>304</td>\n",
       "    </tr>\n",
       "    <tr>\n",
       "      <th>6</th>\n",
       "      <td>818</td>\n",
       "      <td>454.80</td>\n",
       "      <td>4.24</td>\n",
       "      <td>205</td>\n",
       "      <td>10544</td>\n",
       "      <td>6.68</td>\n",
       "      <td>432.600000</td>\n",
       "      <td>1786</td>\n",
       "      <td>360</td>\n",
       "    </tr>\n",
       "    <tr>\n",
       "      <th>7</th>\n",
       "      <td>838</td>\n",
       "      <td>454.80</td>\n",
       "      <td>4.65</td>\n",
       "      <td>211</td>\n",
       "      <td>9819</td>\n",
       "      <td>6.34</td>\n",
       "      <td>432.600000</td>\n",
       "      <td>1775</td>\n",
       "      <td>325</td>\n",
       "    </tr>\n",
       "    <tr>\n",
       "      <th>8</th>\n",
       "      <td>732</td>\n",
       "      <td>454.80</td>\n",
       "      <td>5.36</td>\n",
       "      <td>262</td>\n",
       "      <td>14371</td>\n",
       "      <td>9.04</td>\n",
       "      <td>432.600000</td>\n",
       "      <td>1949</td>\n",
       "      <td>361</td>\n",
       "    </tr>\n",
       "    <tr>\n",
       "      <th>10</th>\n",
       "      <td>814</td>\n",
       "      <td>378.80</td>\n",
       "      <td>3.94</td>\n",
       "      <td>216</td>\n",
       "      <td>15355</td>\n",
       "      <td>9.80</td>\n",
       "      <td>356.000000</td>\n",
       "      <td>2013</td>\n",
       "      <td>277</td>\n",
       "    </tr>\n",
       "    <tr>\n",
       "      <th>...</th>\n",
       "      <td>...</td>\n",
       "      <td>...</td>\n",
       "      <td>...</td>\n",
       "      <td>...</td>\n",
       "      <td>...</td>\n",
       "      <td>...</td>\n",
       "      <td>...</td>\n",
       "      <td>...</td>\n",
       "      <td>...</td>\n",
       "    </tr>\n",
       "    <tr>\n",
       "      <th>370</th>\n",
       "      <td>795</td>\n",
       "      <td>481.25</td>\n",
       "      <td>2.75</td>\n",
       "      <td>232</td>\n",
       "      <td>5245</td>\n",
       "      <td>3.36</td>\n",
       "      <td>459.500000</td>\n",
       "      <td>2748</td>\n",
       "      <td>339</td>\n",
       "    </tr>\n",
       "    <tr>\n",
       "      <th>372</th>\n",
       "      <td>714</td>\n",
       "      <td>438.00</td>\n",
       "      <td>3.94</td>\n",
       "      <td>310</td>\n",
       "      <td>6157</td>\n",
       "      <td>3.94</td>\n",
       "      <td>419.333333</td>\n",
       "      <td>2780</td>\n",
       "      <td>402</td>\n",
       "    </tr>\n",
       "    <tr>\n",
       "      <th>373</th>\n",
       "      <td>634</td>\n",
       "      <td>438.00</td>\n",
       "      <td>4.93</td>\n",
       "      <td>380</td>\n",
       "      <td>8360</td>\n",
       "      <td>5.35</td>\n",
       "      <td>419.333333</td>\n",
       "      <td>3101</td>\n",
       "      <td>398</td>\n",
       "    </tr>\n",
       "    <tr>\n",
       "      <th>374</th>\n",
       "      <td>749</td>\n",
       "      <td>438.00</td>\n",
       "      <td>3.91</td>\n",
       "      <td>301</td>\n",
       "      <td>7174</td>\n",
       "      <td>4.59</td>\n",
       "      <td>419.333333</td>\n",
       "      <td>2896</td>\n",
       "      <td>343</td>\n",
       "    </tr>\n",
       "    <tr>\n",
       "      <th>376</th>\n",
       "      <td>916</td>\n",
       "      <td>427.40</td>\n",
       "      <td>1.17</td>\n",
       "      <td>101</td>\n",
       "      <td>1831</td>\n",
       "      <td>1.17</td>\n",
       "      <td>413.800000</td>\n",
       "      <td>2015</td>\n",
       "      <td>415</td>\n",
       "    </tr>\n",
       "  </tbody>\n",
       "</table>\n",
       "<p>133 rows × 9 columns</p>\n",
       "</div>"
      ],
      "text/plain": [
       "     SedentaryMinutes  TotalTimeInBed_Weekly  LightActiveDistance  \\\n",
       "5                 775                 454.80                 5.03   \n",
       "6                 818                 454.80                 4.24   \n",
       "7                 838                 454.80                 4.65   \n",
       "8                 732                 454.80                 5.36   \n",
       "10                814                 378.80                 3.94   \n",
       "..                ...                    ...                  ...   \n",
       "370               795                 481.25                 2.75   \n",
       "372               714                 438.00                 3.94   \n",
       "373               634                 438.00                 4.93   \n",
       "374               749                 438.00                 3.91   \n",
       "376               916                 427.40                 1.17   \n",
       "\n",
       "     LightlyActiveMinutes  TotalSteps  TotalDistance  \\\n",
       "5                     264       15506           9.88   \n",
       "6                     205       10544           6.68   \n",
       "7                     211        9819           6.34   \n",
       "8                     262       14371           9.04   \n",
       "10                    216       15355           9.80   \n",
       "..                    ...         ...            ...   \n",
       "370                   232        5245           3.36   \n",
       "372                   310        6157           3.94   \n",
       "373                   380        8360           5.35   \n",
       "374                   301        7174           4.59   \n",
       "376                   101        1831           1.17   \n",
       "\n",
       "     TotalMinutesAsleep_Weekly  Calories  TotalMinutesAsleep  \n",
       "5                   432.600000      2035                 304  \n",
       "6                   432.600000      1786                 360  \n",
       "7                   432.600000      1775                 325  \n",
       "8                   432.600000      1949                 361  \n",
       "10                  356.000000      2013                 277  \n",
       "..                         ...       ...                 ...  \n",
       "370                 459.500000      2748                 339  \n",
       "372                 419.333333      2780                 402  \n",
       "373                 419.333333      3101                 398  \n",
       "374                 419.333333      2896                 343  \n",
       "376                 413.800000      2015                 415  \n",
       "\n",
       "[133 rows x 9 columns]"
      ]
     },
     "execution_count": 129,
     "metadata": {},
     "output_type": "execute_result"
    }
   ],
   "source": [
    "poor_sleep"
   ]
  },
  {
   "cell_type": "code",
   "execution_count": 120,
   "id": "a142276a",
   "metadata": {},
   "outputs": [],
   "source": [
    "practice_data = np.array(poor_sleep.drop(columns=['TotalMinutesAsleep']))"
   ]
  },
  {
   "cell_type": "code",
   "execution_count": 128,
   "id": "2d8dd815",
   "metadata": {},
   "outputs": [
    {
     "data": {
      "text/plain": [
       "array([[ 775.          ,  454.8         ,    5.0300002098, ...,\n",
       "           9.8800001144,  432.6         , 2035.          ],\n",
       "       [ 818.          ,  454.8         ,    4.2399997711, ...,\n",
       "           6.6799998283,  432.6         , 1786.          ],\n",
       "       [ 838.          ,  454.8         ,    4.6500000954, ...,\n",
       "           6.3400001526,  432.6         , 1775.          ],\n",
       "       ...,\n",
       "       [ 634.          ,  438.          ,    4.9299998283, ...,\n",
       "           5.3499999046,  419.3333333333, 3101.          ],\n",
       "       [ 749.          ,  438.          ,    3.9100000858, ...,\n",
       "           4.5900001526,  419.3333333333, 2896.          ],\n",
       "       [ 916.          ,  427.4         ,    1.1699999571, ...,\n",
       "           1.1699999571,  413.8         , 2015.          ]])"
      ]
     },
     "execution_count": 128,
     "metadata": {},
     "output_type": "execute_result"
    }
   ],
   "source": [
    "practice_data"
   ]
  },
  {
   "cell_type": "code",
   "execution_count": 126,
   "id": "3145b22f",
   "metadata": {},
   "outputs": [
    {
     "data": {
      "text/plain": [
       "0      304\n",
       "1      360\n",
       "2      325\n",
       "3      361\n",
       "4      277\n",
       "      ... \n",
       "128    339\n",
       "129    402\n",
       "130    398\n",
       "131    343\n",
       "132    415\n",
       "Name: TotalMinutesAsleep, Length: 133, dtype: int64"
      ]
     },
     "execution_count": 126,
     "metadata": {},
     "output_type": "execute_result"
    }
   ],
   "source": [
    "poor_sleep['TotalMinutesAsleep'].reset_index(drop=True)"
   ]
  },
  {
   "cell_type": "markdown",
   "id": "1a0f39c8",
   "metadata": {},
   "source": [
    "# Classification Model "
   ]
  },
  {
   "cell_type": "code",
   "execution_count": 88,
   "id": "5c481b6f",
   "metadata": {},
   "outputs": [],
   "source": [
    "# Function assigns each entry of sleep time a score from 0 to 3\n",
    "def categorize_sleep(duration):\n",
    "    if duration < 240:\n",
    "        return 0  # Very Poor/Poor\n",
    "    elif 240 <= duration < 360:\n",
    "        return 1  # Fair\n",
    "    elif 360 <= duration < 480:\n",
    "        return 2  # Good\n",
    "    else:\n",
    "        return 3  # Very Good/Excellent\n",
    "\n",
    "# Apply to your dataset\n",
    "activity_level_df['sleep_category'] = activity_level_df['TotalMinutesAsleep'].apply(categorize_sleep)\n",
    "\n",
    "\n"
   ]
  },
  {
   "cell_type": "code",
   "execution_count": 89,
   "id": "3d497820",
   "metadata": {},
   "outputs": [
    {
     "data": {
      "text/html": [
       "<div>\n",
       "<style scoped>\n",
       "    .dataframe tbody tr th:only-of-type {\n",
       "        vertical-align: middle;\n",
       "    }\n",
       "\n",
       "    .dataframe tbody tr th {\n",
       "        vertical-align: top;\n",
       "    }\n",
       "\n",
       "    .dataframe thead th {\n",
       "        text-align: right;\n",
       "    }\n",
       "</style>\n",
       "<table border=\"1\" class=\"dataframe\">\n",
       "  <thead>\n",
       "    <tr style=\"text-align: right;\">\n",
       "      <th></th>\n",
       "      <th>Id</th>\n",
       "      <th>TotalSteps</th>\n",
       "      <th>TotalDistance</th>\n",
       "      <th>LoggedActivitiesDistance</th>\n",
       "      <th>ModeratelyActiveDistance</th>\n",
       "      <th>LightActiveDistance</th>\n",
       "      <th>SedentaryActiveDistance</th>\n",
       "      <th>VeryActiveMinutes</th>\n",
       "      <th>FairlyActiveMinutes</th>\n",
       "      <th>LightlyActiveMinutes</th>\n",
       "      <th>...</th>\n",
       "      <th>VeryActiveMinutes_Weekly</th>\n",
       "      <th>FairlyActiveMinutes_Weekly</th>\n",
       "      <th>LightlyActiveMinutes_Weekly</th>\n",
       "      <th>SedentaryMinutes_Weekly</th>\n",
       "      <th>Calories_Weekly</th>\n",
       "      <th>TotalSleepRecords_Weekly</th>\n",
       "      <th>TotalMinutesAsleep_Weekly</th>\n",
       "      <th>TotalTimeInBed_Weekly</th>\n",
       "      <th>Date_Weekly</th>\n",
       "      <th>sleep_category</th>\n",
       "    </tr>\n",
       "  </thead>\n",
       "  <tbody>\n",
       "    <tr>\n",
       "      <th>4</th>\n",
       "      <td>1</td>\n",
       "      <td>9705</td>\n",
       "      <td>6.48</td>\n",
       "      <td>0.0</td>\n",
       "      <td>0.78</td>\n",
       "      <td>2.51</td>\n",
       "      <td>0.0</td>\n",
       "      <td>38</td>\n",
       "      <td>20</td>\n",
       "      <td>164</td>\n",
       "      <td>...</td>\n",
       "      <td>29.8</td>\n",
       "      <td>19.2</td>\n",
       "      <td>227.8</td>\n",
       "      <td>708.4</td>\n",
       "      <td>1823.6</td>\n",
       "      <td>1.4</td>\n",
       "      <td>432.6</td>\n",
       "      <td>454.8</td>\n",
       "      <td>2016-04-17</td>\n",
       "      <td>3</td>\n",
       "    </tr>\n",
       "    <tr>\n",
       "      <th>5</th>\n",
       "      <td>1</td>\n",
       "      <td>15506</td>\n",
       "      <td>9.88</td>\n",
       "      <td>0.0</td>\n",
       "      <td>1.32</td>\n",
       "      <td>5.03</td>\n",
       "      <td>0.0</td>\n",
       "      <td>50</td>\n",
       "      <td>31</td>\n",
       "      <td>264</td>\n",
       "      <td>...</td>\n",
       "      <td>29.8</td>\n",
       "      <td>19.2</td>\n",
       "      <td>227.8</td>\n",
       "      <td>708.4</td>\n",
       "      <td>1823.6</td>\n",
       "      <td>1.4</td>\n",
       "      <td>432.6</td>\n",
       "      <td>454.8</td>\n",
       "      <td>2016-04-17</td>\n",
       "      <td>1</td>\n",
       "    </tr>\n",
       "    <tr>\n",
       "      <th>6</th>\n",
       "      <td>1</td>\n",
       "      <td>10544</td>\n",
       "      <td>6.68</td>\n",
       "      <td>0.0</td>\n",
       "      <td>0.48</td>\n",
       "      <td>4.24</td>\n",
       "      <td>0.0</td>\n",
       "      <td>28</td>\n",
       "      <td>12</td>\n",
       "      <td>205</td>\n",
       "      <td>...</td>\n",
       "      <td>29.8</td>\n",
       "      <td>19.2</td>\n",
       "      <td>227.8</td>\n",
       "      <td>708.4</td>\n",
       "      <td>1823.6</td>\n",
       "      <td>1.4</td>\n",
       "      <td>432.6</td>\n",
       "      <td>454.8</td>\n",
       "      <td>2016-04-17</td>\n",
       "      <td>2</td>\n",
       "    </tr>\n",
       "    <tr>\n",
       "      <th>7</th>\n",
       "      <td>1</td>\n",
       "      <td>9819</td>\n",
       "      <td>6.34</td>\n",
       "      <td>0.0</td>\n",
       "      <td>0.35</td>\n",
       "      <td>4.65</td>\n",
       "      <td>0.0</td>\n",
       "      <td>19</td>\n",
       "      <td>8</td>\n",
       "      <td>211</td>\n",
       "      <td>...</td>\n",
       "      <td>29.8</td>\n",
       "      <td>19.2</td>\n",
       "      <td>227.8</td>\n",
       "      <td>708.4</td>\n",
       "      <td>1823.6</td>\n",
       "      <td>1.4</td>\n",
       "      <td>432.6</td>\n",
       "      <td>454.8</td>\n",
       "      <td>2016-04-17</td>\n",
       "      <td>1</td>\n",
       "    </tr>\n",
       "    <tr>\n",
       "      <th>8</th>\n",
       "      <td>1</td>\n",
       "      <td>14371</td>\n",
       "      <td>9.04</td>\n",
       "      <td>0.0</td>\n",
       "      <td>0.87</td>\n",
       "      <td>5.36</td>\n",
       "      <td>0.0</td>\n",
       "      <td>41</td>\n",
       "      <td>21</td>\n",
       "      <td>262</td>\n",
       "      <td>...</td>\n",
       "      <td>29.8</td>\n",
       "      <td>19.2</td>\n",
       "      <td>227.8</td>\n",
       "      <td>708.4</td>\n",
       "      <td>1823.6</td>\n",
       "      <td>1.4</td>\n",
       "      <td>432.6</td>\n",
       "      <td>454.8</td>\n",
       "      <td>2016-04-17</td>\n",
       "      <td>2</td>\n",
       "    </tr>\n",
       "  </tbody>\n",
       "</table>\n",
       "<p>5 rows × 33 columns</p>\n",
       "</div>"
      ],
      "text/plain": [
       "   Id  TotalSteps  TotalDistance  LoggedActivitiesDistance  \\\n",
       "4   1        9705           6.48                       0.0   \n",
       "5   1       15506           9.88                       0.0   \n",
       "6   1       10544           6.68                       0.0   \n",
       "7   1        9819           6.34                       0.0   \n",
       "8   1       14371           9.04                       0.0   \n",
       "\n",
       "   ModeratelyActiveDistance  LightActiveDistance  SedentaryActiveDistance  \\\n",
       "4                      0.78                 2.51                      0.0   \n",
       "5                      1.32                 5.03                      0.0   \n",
       "6                      0.48                 4.24                      0.0   \n",
       "7                      0.35                 4.65                      0.0   \n",
       "8                      0.87                 5.36                      0.0   \n",
       "\n",
       "   VeryActiveMinutes  FairlyActiveMinutes  LightlyActiveMinutes  ...  \\\n",
       "4                 38                   20                   164  ...   \n",
       "5                 50                   31                   264  ...   \n",
       "6                 28                   12                   205  ...   \n",
       "7                 19                    8                   211  ...   \n",
       "8                 41                   21                   262  ...   \n",
       "\n",
       "   VeryActiveMinutes_Weekly  FairlyActiveMinutes_Weekly  \\\n",
       "4                      29.8                        19.2   \n",
       "5                      29.8                        19.2   \n",
       "6                      29.8                        19.2   \n",
       "7                      29.8                        19.2   \n",
       "8                      29.8                        19.2   \n",
       "\n",
       "   LightlyActiveMinutes_Weekly  SedentaryMinutes_Weekly  Calories_Weekly  \\\n",
       "4                        227.8                    708.4           1823.6   \n",
       "5                        227.8                    708.4           1823.6   \n",
       "6                        227.8                    708.4           1823.6   \n",
       "7                        227.8                    708.4           1823.6   \n",
       "8                        227.8                    708.4           1823.6   \n",
       "\n",
       "  TotalSleepRecords_Weekly TotalMinutesAsleep_Weekly  TotalTimeInBed_Weekly  \\\n",
       "4                      1.4                     432.6                  454.8   \n",
       "5                      1.4                     432.6                  454.8   \n",
       "6                      1.4                     432.6                  454.8   \n",
       "7                      1.4                     432.6                  454.8   \n",
       "8                      1.4                     432.6                  454.8   \n",
       "\n",
       "   Date_Weekly  sleep_category  \n",
       "4   2016-04-17               3  \n",
       "5   2016-04-17               1  \n",
       "6   2016-04-17               2  \n",
       "7   2016-04-17               1  \n",
       "8   2016-04-17               2  \n",
       "\n",
       "[5 rows x 33 columns]"
      ]
     },
     "execution_count": 89,
     "metadata": {},
     "output_type": "execute_result"
    }
   ],
   "source": [
    "activity_level_df.head()"
   ]
  },
  {
   "cell_type": "code",
   "execution_count": 90,
   "id": "fb443224",
   "metadata": {},
   "outputs": [
    {
     "data": {
      "text/plain": [
       "<Axes: >"
      ]
     },
     "execution_count": 90,
     "metadata": {},
     "output_type": "execute_result"
    },
    {
     "data": {
      "image/png": "[encoded data removed]",
      "text/plain": [
       "<Figure size 640x480 with 1 Axes>"
      ]
     },
     "metadata": {},
     "output_type": "display_data"
    }
   ],
   "source": [
    "activity_level_df['sleep_category'].hist()"
   ]
  },
  {
   "cell_type": "raw",
   "id": "ba1fd41a",
   "metadata": {},
   "source": [
    "The target class is imbalanced with the majority of occurances happening at score of 4, 5 and 6. Some rebalancing will be done using the SMOTE library."
   ]
  },
  {
   "cell_type": "code",
   "execution_count": 123,
   "id": "a889d06e",
   "metadata": {},
   "outputs": [],
   "source": [
    "#Creating X and y data and removing irrelvant features\n",
    "X_activity = np.array(activity_level_df.drop(columns=['Date_Weekly', 'TotalSleepRecords_Weekly', 'LoggedActivitiesDistance_Weekly', 'WeekStartDate', 'Date', 'TotalSleepRecords', 'SedentaryActiveDistance', 'Id', 'TotalTimeInBed_Weekly', 'TotalMinutesAsleep_Weekly', 'TotalMinutesAsleep','sleep_category','TotalTimeInBed']))\n",
    "y_activity = activity_level_df['sleep_category'].values\n"
   ]
  },
  {
   "cell_type": "markdown",
   "id": "1de62968",
   "metadata": {},
   "source": [
    "### Choosing the Best Model "
   ]
  },
  {
   "cell_type": "code",
   "execution_count": 124,
   "id": "f414751d",
   "metadata": {},
   "outputs": [],
   "source": [
    "rfclassifier = RandomForestClassifier()"
   ]
  },
  {
   "cell_type": "code",
   "execution_count": 125,
   "id": "e1f11a2b",
   "metadata": {},
   "outputs": [],
   "source": [
    "gbclassifier = GradientBoostingClassifier()"
   ]
  },
  {
   "cell_type": "code",
   "execution_count": 126,
   "id": "4f94b515",
   "metadata": {},
   "outputs": [
    {
     "name": "stdout",
     "output_type": "stream",
     "text": [
      "Cross-validation scores: [0.71875    0.4375     0.625      0.6875     0.6875     0.75\n",
      " 0.65625    0.5625     0.61290323 0.5483871 ]\n",
      "Average score: 0.6286290322580645\n"
     ]
    }
   ],
   "source": [
    "#Cross Validation for random forest model using accurracy\n",
    "kf = KFold(n_splits=10, shuffle=True, random_state=42)\n",
    "scores = cross_val_score(rfclassifier, X_activity, y_activity, cv=kf, scoring='accuracy')\n",
    "\n",
    "print(\"Cross-validation scores:\", scores)\n",
    "print(\"Average score:\",np.mean(scores))"
   ]
  },
  {
   "cell_type": "code",
   "execution_count": 127,
   "id": "bd781348",
   "metadata": {},
   "outputs": [
    {
     "name": "stdout",
     "output_type": "stream",
     "text": [
      "Cross-validation scores: [0.75317693 0.38026316 0.41396825 0.52535497 0.5084527  0.53636364\n",
      " 0.36835749 0.5111336  0.5311943  0.37591575]\n",
      "Average score: 0.49041807899491047\n"
     ]
    }
   ],
   "source": [
    "#Cross Validation for random forest model using f1 macro\n",
    "kf = KFold(n_splits=10, shuffle=True, random_state=42)\n",
    "scores = cross_val_score(rfclassifier, X_activity, y_activity, cv=kf, scoring='f1_macro')\n",
    "\n",
    "print(\"Cross-validation scores:\", scores)\n",
    "print(\"Average score:\",np.mean(scores))"
   ]
  },
  {
   "cell_type": "code",
   "execution_count": 128,
   "id": "8fa51e08",
   "metadata": {},
   "outputs": [
    {
     "name": "stdout",
     "output_type": "stream",
     "text": [
      "Cross-validation scores: [0.6875     0.5625     0.65625    0.65625    0.65625    0.78125\n",
      " 0.71875    0.53125    0.67741935 0.58064516]\n",
      "Average score: 0.6508064516129033\n"
     ]
    }
   ],
   "source": [
    "#Cross Validation for Gradient Boosting model using accurracy\n",
    "kf = KFold(n_splits=10, shuffle=True, random_state=42)\n",
    "scores = cross_val_score(gbclassifier, X_activity, y_activity, cv=kf, scoring='accuracy')\n",
    "\n",
    "print(\"Cross-validation scores:\", scores)\n",
    "print(\"Average score:\",np.mean(scores))"
   ]
  },
  {
   "cell_type": "code",
   "execution_count": 129,
   "id": "06c7d772",
   "metadata": {},
   "outputs": [
    {
     "name": "stdout",
     "output_type": "stream",
     "text": [
      "Cross-validation scores: [0.76465517 0.55451389 0.65909091 0.50372807 0.5462963  0.70365818\n",
      " 0.54824561 0.6060054  0.59206349 0.53676471]\n",
      "Average score: 0.6015021730878262\n"
     ]
    }
   ],
   "source": [
    "#Cross Validation for Gradient Boosting model using f1 macro\n",
    "kf = KFold(n_splits=10, shuffle=True, random_state=42)\n",
    "scores = cross_val_score(gbclassifier, X_activity, y_activity, cv=kf, scoring='f1_macro')\n",
    "\n",
    "print(\"Cross-validation scores:\", scores)\n",
    "print(\"Average score:\",np.mean(scores))"
   ]
  },
  {
   "cell_type": "raw",
   "id": "677556e9",
   "metadata": {},
   "source": [
    "The Gradient Boosting model performed better than Random Forest as assessed on both f1 and accuracy score. I will use the GB Model from now on."
   ]
  },
  {
   "cell_type": "markdown",
   "id": "2288a02c",
   "metadata": {},
   "source": [
    "### Feature Reduction "
   ]
  },
  {
   "cell_type": "code",
   "execution_count": 135,
   "id": "4b90987c",
   "metadata": {},
   "outputs": [],
   "source": [
    "X_train, X_test, y_train, y_test = train_test_split(X_activity, y_activity, test_size=0.3)"
   ]
  },
  {
   "cell_type": "code",
   "execution_count": 136,
   "id": "e57dd28f",
   "metadata": {},
   "outputs": [],
   "source": [
    "X_features_df = activity_level_df.drop(columns=['Date_Weekly', 'TotalSleepRecords_Weekly', 'LoggedActivitiesDistance_Weekly', 'WeekStartDate', 'Date', 'TotalSleepRecords', 'SedentaryActiveDistance', 'Id', 'TotalTimeInBed_Weekly', 'TotalMinutesAsleep_Weekly', 'TotalMinutesAsleep','sleep_category','TotalTimeInBed'])\n",
    "X_features = X_features_df.columns"
   ]
  },
  {
   "cell_type": "code",
   "execution_count": 137,
   "id": "0640385e",
   "metadata": {},
   "outputs": [
    {
     "name": "stdout",
     "output_type": "stream",
     "text": [
      "Feature: SedentaryMinutes, Importance: 0.3279846730997384\n",
      "Feature: Calories, Importance: 0.07942739226981325\n",
      "Feature: LightlyActiveMinutes, Importance: 0.06454992848253728\n",
      "Feature: LightActiveDistance, Importance: 0.06453393256469127\n",
      "Feature: VeryActiveMinutes_Weekly, Importance: 0.053503076353493044\n",
      "Feature: TotalDistance, Importance: 0.04964790517286269\n",
      "Feature: FairlyActiveMinutes_Weekly, Importance: 0.04641433866992947\n",
      "Feature: TotalSteps, Importance: 0.039562087944876534\n",
      "Feature: SedentaryMinutes_Weekly, Importance: 0.03362108707018443\n",
      "Feature: FairlyActiveMinutes, Importance: 0.03283182614064885\n",
      "Feature: Calories_Weekly, Importance: 0.03279635882756592\n",
      "Feature: ModeratelyActiveDistance, Importance: 0.03178842275195445\n",
      "Feature: ModeratelyActiveDistance_Weekly, Importance: 0.02982041827335817\n",
      "Feature: LightActiveDistance_Weekly, Importance: 0.02526969615986168\n",
      "Feature: TotalDistance_Weekly, Importance: 0.02493053840321976\n",
      "Feature: LightlyActiveMinutes_Weekly, Importance: 0.021457308097049668\n",
      "Feature: VeryActiveMinutes, Importance: 0.02100905967450286\n",
      "Feature: TotalSteps_Weekly, Importance: 0.009199514685202019\n",
      "Feature: LoggedActivitiesDistance, Importance: 0.009042470456961058\n",
      "Feature: SedentaryActiveDistance_Weekly, Importance: 0.0026099649015492474\n"
     ]
    }
   ],
   "source": [
    "gb_classifier = GradientBoostingClassifier()\n",
    "gb_classifier.fit(X_train, y_train)\n",
    "\n",
    "# Extract feature importances\n",
    "feature_importances = gb_classifier.feature_importances_\n",
    "\n",
    "# Assuming you have a list of feature names corresponding to the columns in X\n",
    "feature_names = X_features\n",
    "\n",
    "# Combine feature names and their importance scores\n",
    "features_and_importance = zip(feature_names, feature_importances)\n",
    "features_and_importance = sorted(features_and_importance, key=lambda x: x[1], reverse=True)\n",
    "\n",
    "# Display the feature importances\n",
    "for feature, importance in features_and_importance:\n",
    "    print(f\"Feature: {feature}, Importance: {importance}\")"
   ]
  },
  {
   "cell_type": "code",
   "execution_count": 143,
   "id": "3231821e",
   "metadata": {},
   "outputs": [],
   "source": [
    "features_ordered = []\n",
    "for name, value in features_and_importance:\n",
    "    features_ordered.append(name)\n",
    "    "
   ]
  },
  {
   "cell_type": "code",
   "execution_count": 144,
   "id": "da4a3c08",
   "metadata": {},
   "outputs": [
    {
     "data": {
      "text/plain": [
       "['SedentaryMinutes',\n",
       " 'Calories',\n",
       " 'LightlyActiveMinutes',\n",
       " 'LightActiveDistance',\n",
       " 'VeryActiveMinutes_Weekly',\n",
       " 'TotalDistance',\n",
       " 'FairlyActiveMinutes_Weekly',\n",
       " 'TotalSteps',\n",
       " 'SedentaryMinutes_Weekly',\n",
       " 'FairlyActiveMinutes',\n",
       " 'Calories_Weekly',\n",
       " 'ModeratelyActiveDistance',\n",
       " 'ModeratelyActiveDistance_Weekly',\n",
       " 'LightActiveDistance_Weekly',\n",
       " 'TotalDistance_Weekly',\n",
       " 'LightlyActiveMinutes_Weekly',\n",
       " 'VeryActiveMinutes',\n",
       " 'TotalSteps_Weekly',\n",
       " 'LoggedActivitiesDistance',\n",
       " 'SedentaryActiveDistance_Weekly']"
      ]
     },
     "execution_count": 144,
     "metadata": {},
     "output_type": "execute_result"
    }
   ],
   "source": [
    "features_ordered"
   ]
  },
  {
   "cell_type": "code",
   "execution_count": 149,
   "id": "04d9c491",
   "metadata": {},
   "outputs": [
    {
     "name": "stdout",
     "output_type": "stream",
     "text": [
      "First 1 features: 0.4287\n",
      "First 2 features: 0.4759\n",
      "First 3 features: 0.4862\n",
      "First 4 features: 0.4992\n",
      "First 5 features: 0.4918\n",
      "First 6 features: 0.5797\n",
      "First 7 features: 0.5561\n",
      "First 8 features: 0.5687\n",
      "First 9 features: 0.5768\n",
      "First 10 features: 0.5442\n",
      "First 11 features: 0.5683\n",
      "First 12 features: 0.5360\n",
      "First 13 features: 0.5443\n",
      "First 14 features: 0.5421\n",
      "First 15 features: 0.5041\n",
      "First 16 features: 0.4848\n",
      "First 17 features: 0.5125\n",
      "First 18 features: 0.5238\n",
      "First 19 features: 0.5301\n",
      "First 20 features: 0.4914\n"
     ]
    }
   ],
   "source": [
    "cv_scores = {}\n",
    "\n",
    "for i in range(1, len(features_ordered) + 1):\n",
    "    # Select the first i features\n",
    "    subset_features = features_ordered[:i]\n",
    "    X_subset = X_features_df[subset_features]\n",
    "\n",
    "    # Perform cross-validation\n",
    "    scores = cross_val_score(gb_classifier, X_subset, y_activity, cv=10, scoring='f1_macro')  \n",
    "    cv_scores[f'First {i} features'] = scores.mean()\n",
    "\n",
    "# Display the scores\n",
    "for subset, score in cv_scores.items():\n",
    "    print(f\"{subset}: {score:.4f}\")\n"
   ]
  },
  {
   "cell_type": "code",
   "execution_count": 150,
   "id": "8ea80537",
   "metadata": {},
   "outputs": [
    {
     "name": "stdout",
     "output_type": "stream",
     "text": [
      "First 1 features: 0.4973\n",
      "First 2 features: 0.5193\n",
      "First 3 features: 0.5602\n",
      "First 4 features: 0.5569\n",
      "First 5 features: 0.5660\n",
      "First 6 features: 0.6257\n",
      "First 7 features: 0.6007\n",
      "First 8 features: 0.6009\n",
      "First 9 features: 0.5977\n",
      "First 10 features: 0.5821\n",
      "First 11 features: 0.5726\n",
      "First 12 features: 0.5728\n",
      "First 13 features: 0.5697\n",
      "First 14 features: 0.5696\n",
      "First 15 features: 0.5378\n",
      "First 16 features: 0.5414\n",
      "First 17 features: 0.5726\n",
      "First 18 features: 0.5664\n",
      "First 19 features: 0.5539\n",
      "First 20 features: 0.5413\n"
     ]
    }
   ],
   "source": [
    "cv_scores = {}\n",
    "\n",
    "for i in range(1, len(features_ordered) + 1):\n",
    "    # Select the first i features\n",
    "    subset_features = features_ordered[:i]\n",
    "    X_subset = X_features_df[subset_features]\n",
    "\n",
    "    # Perform cross-validation\n",
    "    scores = cross_val_score(gb_classifier, X_subset, y_activity, cv=10, scoring='accuracy')  \n",
    "    cv_scores[f'First {i} features'] = scores.mean()\n",
    "\n",
    "# Display the scores\n",
    "for subset, score in cv_scores.items():\n",
    "    print(f\"{subset}: {score:.4f}\")"
   ]
  },
  {
   "cell_type": "raw",
   "id": "c683673c",
   "metadata": {},
   "source": [
    "It seems that the first 6 features extract the most insights from the data."
   ]
  },
  {
   "cell_type": "code",
   "execution_count": 151,
   "id": "f4afe458",
   "metadata": {},
   "outputs": [],
   "source": [
    "best_features = features_ordered[:6]"
   ]
  },
  {
   "cell_type": "code",
   "execution_count": 152,
   "id": "abd4b33e",
   "metadata": {},
   "outputs": [
    {
     "data": {
      "text/plain": [
       "['SedentaryMinutes',\n",
       " 'Calories',\n",
       " 'LightlyActiveMinutes',\n",
       " 'LightActiveDistance',\n",
       " 'VeryActiveMinutes_Weekly',\n",
       " 'TotalDistance']"
      ]
     },
     "execution_count": 152,
     "metadata": {},
     "output_type": "execute_result"
    }
   ],
   "source": [
    "best_features"
   ]
  },
  {
   "cell_type": "code",
   "execution_count": 155,
   "id": "10c6f55f",
   "metadata": {},
   "outputs": [],
   "source": [
    "X_activity = np.array(X_features_df[best_features])\n",
    "y_activity = activity_level_df['sleep_category'].values"
   ]
  },
  {
   "cell_type": "code",
   "execution_count": 160,
   "id": "2daf42f4",
   "metadata": {},
   "outputs": [
    {
     "name": "stdout",
     "output_type": "stream",
     "text": [
      "Cross-validation scores: [0.48418264 0.54301471 0.46151026 0.50574713 0.73232323 0.75219298\n",
      " 0.67302632 0.58297268 0.53672904 0.52109073]\n",
      "Average score: 0.579278972069887\n"
     ]
    }
   ],
   "source": [
    "kf = KFold(n_splits=10, shuffle=True, random_state=42)\n",
    "scores = cross_val_score(gbclassifier, X_activity, y_activity, cv=kf, scoring='f1_macro')\n",
    "\n",
    "print(\"Cross-validation scores:\", scores)\n",
    "print(\"Average score:\",np.mean(scores))"
   ]
  },
  {
   "cell_type": "code",
   "execution_count": 161,
   "id": "aab3698a",
   "metadata": {},
   "outputs": [
    {
     "name": "stdout",
     "output_type": "stream",
     "text": [
      "Cross-validation scores: [0.6875     0.59375    0.59375    0.65625    0.8125     0.78125\n",
      " 0.8125     0.59375    0.58064516 0.58064516]\n",
      "Average score: 0.6692540322580646\n"
     ]
    }
   ],
   "source": [
    "kf = KFold(n_splits=10, shuffle=True, random_state=42)\n",
    "scores = cross_val_score(gbclassifier, X_activity, y_activity, cv=kf, scoring='accuracy')\n",
    "\n",
    "print(\"Cross-validation scores:\", scores)\n",
    "print(\"Average score:\",np.mean(scores))"
   ]
  },
  {
   "cell_type": "raw",
   "id": "99940d4a",
   "metadata": {},
   "source": [
    "Reduced features are still producing simimlar performance. I will tune the hyperparameters using the best 6 features"
   ]
  },
  {
   "cell_type": "markdown",
   "id": "e42a00b7",
   "metadata": {},
   "source": [
    "### Hyperparameter Tuning "
   ]
  },
  {
   "cell_type": "code",
   "execution_count": 173,
   "id": "13e17ac8",
   "metadata": {},
   "outputs": [
    {
     "name": "stdout",
     "output_type": "stream",
     "text": [
      "Fitting 10 folds for each of 200 candidates, totalling 2000 fits\n",
      "Best params: {'n_estimators': 50, 'min_samples_split': 6, 'min_samples_leaf': 3, 'max_features': None, 'max_depth': 4, 'learning_rate': 0.05}\n",
      "Best score: 0.5974228242162856\n"
     ]
    }
   ],
   "source": [
    "param_grid = {\n",
    "    'n_estimators': [50, 100, 150, 200],\n",
    "    'learning_rate': [0.05, 0.1, 0.15, 0.2],\n",
    "    'max_depth': [3, 4, 5, 6],\n",
    "    'min_samples_split': [2, 4, 6],\n",
    "    'min_samples_leaf': [1, 2, 3],\n",
    "    'max_features': ['sqrt', 'log2', None]\n",
    "}\n",
    "\n",
    "random_search = RandomizedSearchCV(\n",
    "    estimator=gbclassifier, \n",
    "    param_distributions=param_grid, \n",
    "    n_iter=200,        \n",
    "    cv=10,                \n",
    "    verbose=2,          \n",
    "    random_state=42,     \n",
    "    n_jobs=-1,\n",
    "    scoring = 'f1_macro'\n",
    "    \n",
    ")\n",
    "\n",
    "\n",
    "random_search.fit(X_activity, y_activity)\n",
    "\n",
    "# Best parameters and model\n",
    "best_params = random_search.best_params_\n",
    "best_model = random_search.best_estimator_\n",
    "best_score = random_search.best_score_\n",
    "\n",
    "print('Best params:',best_params)\n",
    "print('Best score:', best_score)"
   ]
  },
  {
   "cell_type": "code",
   "execution_count": 163,
   "id": "140e7aba",
   "metadata": {},
   "outputs": [
    {
     "name": "stdout",
     "output_type": "stream",
     "text": [
      "Fitting 5 folds for each of 200 candidates, totalling 1000 fits\n",
      "Best params: {'n_estimators': 30, 'min_samples_split': 4, 'min_samples_leaf': 4, 'max_features': None, 'max_depth': 4, 'learning_rate': 0.3}\n",
      "Best score: 0.5229793156814819\n"
     ]
    }
   ],
   "source": [
    "param_grid = {\n",
    "    'n_estimators': [30, 40, 50, 60, 70],  # Centered around 50\n",
    "    'learning_rate': [0.1, 0.15, 0.2, 0.25, 0.3],  # Centered around 0.2\n",
    "    'max_depth': [2, 3, 4, 5],  # Centered around 3\n",
    "    'min_samples_split': [2, 4, 6, 8],  # Centered around 2\n",
    "    'min_samples_leaf': [1, 2, 3, 4],  # Centered around 2\n",
    "    'max_features': ['sqrt', 'log2', None]  # Including 'sqrt' and other common options\n",
    "}\n",
    "\n",
    "random_search = RandomizedSearchCV(\n",
    "    estimator=gbclassifier, \n",
    "    param_distributions=param_grid, \n",
    "    n_iter=200,        \n",
    "    cv=10,                \n",
    "    verbose=2,          \n",
    "    random_state=42,     \n",
    "    n_jobs=-1,\n",
    "    scoring = 'f1_macro'\n",
    "    \n",
    ")\n",
    "\n",
    "\n",
    "random_search.fit(X_activity, y_activity)\n",
    "\n",
    "# Best parameters and model\n",
    "best_params = random_search.best_params_\n",
    "best_model = random_search.best_estimator_\n",
    "best_score = random_search.best_score_\n",
    "\n",
    "print('Best params:',best_params)\n",
    "print('Best score:', best_score)"
   ]
  },
  {
   "cell_type": "code",
   "execution_count": null,
   "id": "98126d3b",
   "metadata": {},
   "outputs": [],
   "source": []
  },
  {
   "cell_type": "code",
   "execution_count": 164,
   "id": "8af57b7c",
   "metadata": {},
   "outputs": [],
   "source": [
    "X_train, X_test, y_train, y_test = train_test_split(X_activity, y_activity, test_size=0.3)\n"
   ]
  },
  {
   "cell_type": "code",
   "execution_count": 165,
   "id": "2259446c",
   "metadata": {},
   "outputs": [],
   "source": [
    "smote = SMOTE()\n",
    "X_train_resampled, y_train_resampled = smote.fit_resample(X_train, y_train)"
   ]
  },
  {
   "cell_type": "code",
   "execution_count": 166,
   "id": "eb6e80a3",
   "metadata": {},
   "outputs": [
    {
     "data": {
      "text/plain": [
       "108"
      ]
     },
     "execution_count": 166,
     "metadata": {},
     "output_type": "execute_result"
    }
   ],
   "source": [
    "(y_train_resampled == 0).sum()"
   ]
  },
  {
   "cell_type": "code",
   "execution_count": 167,
   "id": "65b8c28a",
   "metadata": {},
   "outputs": [
    {
     "data": {
      "text/html": [
       "<style>#sk-container-id-5 {color: black;}#sk-container-id-5 pre{padding: 0;}#sk-container-id-5 div.sk-toggleable {background-color: white;}#sk-container-id-5 label.sk-toggleable__label {cursor: pointer;display: block;width: 100%;margin-bottom: 0;padding: 0.3em;box-sizing: border-box;text-align: center;}#sk-container-id-5 label.sk-toggleable__label-arrow:before {content: \"▸\";float: left;margin-right: 0.25em;color: #696969;}#sk-container-id-5 label.sk-toggleable__label-arrow:hover:before {color: black;}#sk-container-id-5 div.sk-estimator:hover label.sk-toggleable__label-arrow:before {color: black;}#sk-container-id-5 div.sk-toggleable__content {max-height: 0;max-width: 0;overflow: hidden;text-align: left;background-color: #f0f8ff;}#sk-container-id-5 div.sk-toggleable__content pre {margin: 0.2em;color: black;border-radius: 0.25em;background-color: #f0f8ff;}#sk-container-id-5 input.sk-toggleable__control:checked~div.sk-toggleable__content {max-height: 200px;max-width: 100%;overflow: auto;}#sk-container-id-5 input.sk-toggleable__control:checked~label.sk-toggleable__label-arrow:before {content: \"▾\";}#sk-container-id-5 div.sk-estimator input.sk-toggleable__control:checked~label.sk-toggleable__label {background-color: #d4ebff;}#sk-container-id-5 div.sk-label input.sk-toggleable__control:checked~label.sk-toggleable__label {background-color: #d4ebff;}#sk-container-id-5 input.sk-hidden--visually {border: 0;clip: rect(1px 1px 1px 1px);clip: rect(1px, 1px, 1px, 1px);height: 1px;margin: -1px;overflow: hidden;padding: 0;position: absolute;width: 1px;}#sk-container-id-5 div.sk-estimator {font-family: monospace;background-color: #f0f8ff;border: 1px dotted black;border-radius: 0.25em;box-sizing: border-box;margin-bottom: 0.5em;}#sk-container-id-5 div.sk-estimator:hover {background-color: #d4ebff;}#sk-container-id-5 div.sk-parallel-item::after {content: \"\";width: 100%;border-bottom: 1px solid gray;flex-grow: 1;}#sk-container-id-5 div.sk-label:hover label.sk-toggleable__label {background-color: #d4ebff;}#sk-container-id-5 div.sk-serial::before {content: \"\";position: absolute;border-left: 1px solid gray;box-sizing: border-box;top: 0;bottom: 0;left: 50%;z-index: 0;}#sk-container-id-5 div.sk-serial {display: flex;flex-direction: column;align-items: center;background-color: white;padding-right: 0.2em;padding-left: 0.2em;position: relative;}#sk-container-id-5 div.sk-item {position: relative;z-index: 1;}#sk-container-id-5 div.sk-parallel {display: flex;align-items: stretch;justify-content: center;background-color: white;position: relative;}#sk-container-id-5 div.sk-item::before, #sk-container-id-5 div.sk-parallel-item::before {content: \"\";position: absolute;border-left: 1px solid gray;box-sizing: border-box;top: 0;bottom: 0;left: 50%;z-index: -1;}#sk-container-id-5 div.sk-parallel-item {display: flex;flex-direction: column;z-index: 1;position: relative;background-color: white;}#sk-container-id-5 div.sk-parallel-item:first-child::after {align-self: flex-end;width: 50%;}#sk-container-id-5 div.sk-parallel-item:last-child::after {align-self: flex-start;width: 50%;}#sk-container-id-5 div.sk-parallel-item:only-child::after {width: 0;}#sk-container-id-5 div.sk-dashed-wrapped {border: 1px dashed gray;margin: 0 0.4em 0.5em 0.4em;box-sizing: border-box;padding-bottom: 0.4em;background-color: white;}#sk-container-id-5 div.sk-label label {font-family: monospace;font-weight: bold;display: inline-block;line-height: 1.2em;}#sk-container-id-5 div.sk-label-container {text-align: center;}#sk-container-id-5 div.sk-container {/* jupyter's `normalize.less` sets `[hidden] { display: none; }` but bootstrap.min.css set `[hidden] { display: none !important; }` so we also need the `!important` here to be able to override the default hidden behavior on the sphinx rendered scikit-learn.org. See: https://github.com/scikit-learn/scikit-learn/issues/21755 */display: inline-block !important;position: relative;}#sk-container-id-5 div.sk-text-repr-fallback {display: none;}</style><div id=\"sk-container-id-5\" class=\"sk-top-container\"><div class=\"sk-text-repr-fallback\"><pre>GradientBoostingClassifier()</pre><b>In a Jupyter environment, please rerun this cell to show the HTML representation or trust the notebook. <br />On GitHub, the HTML representation is unable to render, please try loading this page with nbviewer.org.</b></div><div class=\"sk-container\" hidden><div class=\"sk-item\"><div class=\"sk-estimator sk-toggleable\"><input class=\"sk-toggleable__control sk-hidden--visually\" id=\"sk-estimator-id-5\" type=\"checkbox\" checked><label for=\"sk-estimator-id-5\" class=\"sk-toggleable__label sk-toggleable__label-arrow\">GradientBoostingClassifier</label><div class=\"sk-toggleable__content\"><pre>GradientBoostingClassifier()</pre></div></div></div></div></div>"
      ],
      "text/plain": [
       "GradientBoostingClassifier()"
      ]
     },
     "execution_count": 167,
     "metadata": {},
     "output_type": "execute_result"
    }
   ],
   "source": [
    "gbclassifier.fit(X_train_resampled,y_train_resampled)\n"
   ]
  },
  {
   "cell_type": "code",
   "execution_count": 168,
   "id": "58bc07e9",
   "metadata": {},
   "outputs": [
    {
     "name": "stdout",
     "output_type": "stream",
     "text": [
      "              precision    recall  f1-score   support\n",
      "\n",
      "           0       1.00      1.00      1.00         3\n",
      "           1       0.53      0.53      0.53        17\n",
      "           2       0.66      0.59      0.62        46\n",
      "           3       0.69      0.80      0.74        30\n",
      "\n",
      "    accuracy                           0.66        96\n",
      "   macro avg       0.72      0.73      0.72        96\n",
      "weighted avg       0.65      0.66      0.65        96\n",
      "\n"
     ]
    }
   ],
   "source": [
    "y_preds = gbclassifier.predict(X_test)\n",
    "print(classification_report(y_test,y_preds))"
   ]
  },
  {
   "cell_type": "code",
   "execution_count": 169,
   "id": "8e2b64b1",
   "metadata": {},
   "outputs": [
    {
     "name": "stdout",
     "output_type": "stream",
     "text": [
      "              precision    recall  f1-score   support\n",
      "\n",
      "           0       1.00      0.67      0.80         3\n",
      "           1       0.54      0.41      0.47        17\n",
      "           2       0.63      0.70      0.66        46\n",
      "           3       0.70      0.70      0.70        30\n",
      "\n",
      "    accuracy                           0.65        96\n",
      "   macro avg       0.72      0.62      0.66        96\n",
      "weighted avg       0.65      0.65      0.64        96\n",
      "\n"
     ]
    }
   ],
   "source": [
    "gbclassifier.fit(X_train,y_train)\n",
    "\n",
    "y_preds = gbclassifier.predict(X_test)\n",
    "print(classification_report(y_test,y_preds))"
   ]
  },
  {
   "cell_type": "code",
   "execution_count": 171,
   "id": "4e6aac6e",
   "metadata": {},
   "outputs": [
    {
     "name": "stdout",
     "output_type": "stream",
     "text": [
      "              precision    recall  f1-score   support\n",
      "\n",
      "           0       1.00      0.67      0.80         3\n",
      "           1       0.60      0.53      0.56        17\n",
      "           2       0.69      0.67      0.68        46\n",
      "           3       0.68      0.77      0.72        30\n",
      "\n",
      "    accuracy                           0.68        96\n",
      "   macro avg       0.74      0.66      0.69        96\n",
      "weighted avg       0.68      0.68      0.68        96\n",
      "\n"
     ]
    }
   ],
   "source": [
    "rfclassifier.fit(X_train_resampled,y_train_resampled)\n",
    "y_preds = rfclassifier.predict(X_test)\n",
    "print(classification_report(y_test,y_preds))"
   ]
  },
  {
   "cell_type": "code",
   "execution_count": null,
   "id": "a8772fbb",
   "metadata": {},
   "outputs": [],
   "source": [
    "rfclassifier"
   ]
  },
  {
   "cell_type": "code",
   "execution_count": 174,
   "id": "33ecc2db",
   "metadata": {},
   "outputs": [
    {
     "name": "stdout",
     "output_type": "stream",
     "text": [
      "Cross-validation scores: [0.83928571 0.82800512 0.8173454  0.8        0.83142348 0.8139881\n",
      " 0.7272076  0.79588998 0.81808971 0.73214286]\n",
      "Average score: 0.8003377953782955\n"
     ]
    }
   ],
   "source": [
    "kf = KFold(n_splits=10, shuffle=True, random_state=42)\n",
    "scores = cross_val_score(rfclassifier, X_train_resampled,y_train_resampled, cv=kf, scoring='f1_macro')\n",
    "\n",
    "print(\"Cross-validation scores:\", scores)\n",
    "print(\"Average score:\",np.mean(scores))"
   ]
  },
  {
   "cell_type": "code",
   "execution_count": 175,
   "id": "4c9df5fc",
   "metadata": {},
   "outputs": [
    {
     "name": "stdout",
     "output_type": "stream",
     "text": [
      "Cross-validation scores: [0.88636364 0.81818182 0.81395349 0.88372093 0.81395349 0.88372093\n",
      " 0.74418605 0.8372093  0.81395349 0.74418605]\n",
      "Average score: 0.8239429175475687\n"
     ]
    }
   ],
   "source": [
    "kf = KFold(n_splits=10, shuffle=True, random_state=42)\n",
    "scores = cross_val_score(rfclassifier, X_train_resampled,y_train_resampled, cv=kf, scoring='accuracy')\n",
    "\n",
    "print(\"Cross-validation scores:\", scores)\n",
    "print(\"Average score:\",np.mean(scores))"
   ]
  },
  {
   "cell_type": "code",
   "execution_count": 176,
   "id": "2f5e3537",
   "metadata": {},
   "outputs": [
    {
     "name": "stdout",
     "output_type": "stream",
     "text": [
      "Fitting 10 folds for each of 200 candidates, totalling 2000 fits\n",
      "Best params: {'n_estimators': 200, 'min_samples_split': 5, 'min_samples_leaf': 1, 'max_features': None, 'max_depth': 20, 'bootstrap': True}\n",
      "Best score: 0.8414037440439042\n"
     ]
    }
   ],
   "source": [
    "param_grid = {\n",
    "    'n_estimators': [100, 200, 300, 400, 500],\n",
    "    'max_depth': [5, 10, 15, 20, 25],\n",
    "    'min_samples_split': [2, 5, 10, 15],\n",
    "    'min_samples_leaf': [1, 2, 4, 8],\n",
    "    'max_features': ['sqrt', 'log2', None],\n",
    "    'bootstrap': [True, False]\n",
    "}\n",
    "\n",
    "\n",
    "\n",
    "\n",
    "random_search = RandomizedSearchCV(\n",
    "    estimator=rfclassifier, \n",
    "    param_distributions=param_grid, \n",
    "    n_iter=200,        \n",
    "    cv=10,                \n",
    "    verbose=2,          \n",
    "    random_state=42,     \n",
    "    n_jobs=-1,\n",
    "    scoring = 'f1_macro'\n",
    "    \n",
    ")\n",
    "\n",
    "\n",
    "random_search.fit(X_train_resampled,y_train_resampled)\n",
    "\n",
    "# Best parameters and model\n",
    "best_params = random_search.best_params_\n",
    "best_model = random_search.best_estimator_\n",
    "best_score = random_search.best_score_\n",
    "\n",
    "print('Best params:',best_params)\n",
    "print('Best score:', best_score)"
   ]
  },
  {
   "cell_type": "code",
   "execution_count": 177,
   "id": "bd1433e9",
   "metadata": {},
   "outputs": [
    {
     "name": "stdout",
     "output_type": "stream",
     "text": [
      "Fitting 10 folds for each of 200 candidates, totalling 2000 fits\n",
      "Best params: {'n_estimators': 200, 'min_samples_split': 3, 'min_samples_leaf': 1, 'max_features': None, 'max_depth': 19, 'bootstrap': True}\n",
      "Best score: 0.8432393931392788\n"
     ]
    }
   ],
   "source": [
    "param_grid_tight = {\n",
    "    'n_estimators': [175, 185, 195, 200, 205, 215, 225],\n",
    "    'max_depth': [18, 19, 20, 21, 22],\n",
    "    'min_samples_split': [3, 4, 5, 6, 7],\n",
    "    'min_samples_leaf': [1, 2, 3],\n",
    "    'max_features': [None, 'sqrt'],\n",
    "    'bootstrap': [True]\n",
    "}\n",
    "\n",
    "\n",
    "random_search = RandomizedSearchCV(\n",
    "    estimator=rfclassifier, \n",
    "    param_distributions=param_grid_tight, \n",
    "    n_iter=200,        \n",
    "    cv=10,                \n",
    "    verbose=2,          \n",
    "    random_state=42,     \n",
    "    n_jobs=-1,\n",
    "    scoring = 'f1_macro'\n",
    "    \n",
    ")\n",
    "\n",
    "\n",
    "random_search.fit(X_train_resampled,y_train_resampled)\n",
    "\n",
    "# Best parameters and model\n",
    "best_params = random_search.best_params_\n",
    "best_model = random_search.best_estimator_\n",
    "best_score = random_search.best_score_\n",
    "\n",
    "print('Best params:',best_params)\n",
    "print('Best score:', best_score)"
   ]
  },
  {
   "cell_type": "code",
   "execution_count": 178,
   "id": "813752d9",
   "metadata": {},
   "outputs": [
    {
     "name": "stdout",
     "output_type": "stream",
     "text": [
      "Fitting 10 folds for each of 72 candidates, totalling 720 fits\n",
      "Best parameters: {'bootstrap': True, 'max_depth': 18, 'max_features': None, 'min_samples_leaf': 1, 'min_samples_split': 2, 'n_estimators': 205}\n",
      "Best score: 0.8403805496828752\n"
     ]
    }
   ],
   "source": [
    "rfclassifier = RandomForestClassifier(random_state=42)\n",
    "\n",
    "# Define the parameter grid\n",
    "param_grid_centered = {\n",
    "    'n_estimators': [190, 195, 200, 205],\n",
    "    'max_depth': [18, 19, 20],\n",
    "    'min_samples_split': [2, 3, 4],\n",
    "    'min_samples_leaf': [1],\n",
    "    'max_features': [None, 'sqrt'],\n",
    "    'bootstrap': [True]\n",
    "}\n",
    "\n",
    "# Perform Grid Search with cross-validation\n",
    "grid_search = GridSearchCV(estimator=rfclassifier, param_grid=param_grid_centered, cv=10, scoring='accuracy', n_jobs=-1, verbose=2)\n",
    "grid_search.fit(X_train_resampled, y_train_resampled)\n",
    "\n",
    "# Print the best parameters and best score\n",
    "best_params = grid_search.best_params_\n",
    "best_score = grid_search.best_score_\n",
    "print('Best parameters:', best_params)\n",
    "print('Best score:', best_score)"
   ]
  },
  {
   "cell_type": "code",
   "execution_count": 179,
   "id": "c7c32647",
   "metadata": {},
   "outputs": [
    {
     "name": "stdout",
     "output_type": "stream",
     "text": [
      "              precision    recall  f1-score   support\n",
      "\n",
      "           0       1.00      0.67      0.80         3\n",
      "           1       0.55      0.65      0.59        17\n",
      "           2       0.69      0.59      0.64        46\n",
      "           3       0.66      0.77      0.71        30\n",
      "\n",
      "    accuracy                           0.66        96\n",
      "   macro avg       0.72      0.67      0.68        96\n",
      "weighted avg       0.67      0.66      0.66        96\n",
      "\n"
     ]
    }
   ],
   "source": [
    "best_model.fit(X_train_resampled,y_train_resampled)\n",
    "y_preds = best_model.predict(X_test)\n",
    "\n",
    "print(classification_report(y_test,y_preds))"
   ]
  },
  {
   "cell_type": "raw",
   "id": "1cafe9cf",
   "metadata": {},
   "source": [
    "Each client will have a reccomended range for each feature depending on historical data based on their age and fitness level. These values will be passed into the model and then a projected increase of sleep score from 0-4 will be displayed if the client followed the reccomendations. "
   ]
  },
  {
   "cell_type": "code",
   "execution_count": null,
   "id": "599bb993",
   "metadata": {},
   "outputs": [],
   "source": []
  }
 ],
 "metadata": {
  "kernelspec": {
   "display_name": "Python 3 (ipykernel)",
   "language": "python",
   "name": "python3"
  },
  "language_info": {
   "codemirror_mode": {
    "name": "ipython",
    "version": 3
   },
   "file_extension": ".py",
   "mimetype": "text/x-python",
   "name": "python",
   "nbconvert_exporter": "python",
   "pygments_lexer": "ipython3",
   "version": "3.11.4"
  }
 },
 "nbformat": 4,
 "nbformat_minor": 5
}
