{
 "cells": [
  {
   "cell_type": "code",
   "execution_count": 1,
   "id": "c67c9430",
   "metadata": {},
   "outputs": [],
   "source": [
    "import pandas as pd\n",
    "from joblib import load\n",
    "import numpy as np\n",
    "from sklearn.preprocessing import MinMaxScaler\n",
    "from sklearn.model_selection import train_test_split\n",
    "from sklearn.metrics import mean_squared_error\n",
    "from sklearn.metrics import mean_absolute_error\n",
    "from sklearn.metrics import r2_score\n",
    "from sklearn.model_selection import cross_val_score\n",
    "from sklearn.model_selection import KFold\n",
    "from sklearn.ensemble import GradientBoostingClassifier, GradientBoostingRegressor, RandomForestClassifier, RandomForestRegressor\n",
    "from sklearn.linear_model import LinearRegression\n",
    "from scipy.stats import randint as sp_randint\n",
    "from scipy.stats import uniform\n",
    "from sklearn.model_selection import RandomizedSearchCV\n",
    "from sklearn.pipeline import Pipeline"
   ]
  },
  {
   "cell_type": "markdown",
   "id": "63abd6b7",
   "metadata": {},
   "source": [
    "# Activity Level Model"
   ]
  },
  {
   "cell_type": "markdown",
   "id": "d01c62d7",
   "metadata": {},
   "source": [
    "### Model predicts total time in bed which was shown to highly correlate with sleep quality scores from other dataframes. The goal is to offer tailored suggestions to help maximize sleep time based on a few features that influence time in bed the most"
   ]
  },
  {
   "cell_type": "code",
   "execution_count": 2,
   "id": "941186e1",
   "metadata": {},
   "outputs": [],
   "source": [
    "activity_level_model = load(\"Models&Metrics/Activity_level_model/Activity_level_model.joblib\")\n",
    "activity_level_df = load(\"Models&Metrics/Activity_level_model/DataFrame.joblib\")\n",
    "activity_level_model_performance = load(\"Models&Metrics/Activity_level_model/model_performance_metrics.joblib\")\n",
    "activity_level_best_params = load(\"Models&Metrics/Activity_level_model/best_params.joblib\")\n",
    "\n",
    "X_train_activity = load(\"Models&Metrics/Activity_level_model/X_train_data.joblib\")\n",
    "X_test_activity = load(\"Models&Metrics/Activity_level_model/X_test_data.joblib\")\n",
    "y_train_activity = load(\"Models&Metrics/Activity_level_model/y_train_data.joblib\")\n",
    "y_test_activity = load(\"Models&Metrics/Activity_level_model/y_test_data.joblib\")\n"
   ]
  },
  {
   "cell_type": "code",
   "execution_count": 3,
   "id": "6d192320",
   "metadata": {},
   "outputs": [
    {
     "data": {
      "text/plain": [
       "{'r2': 0.5310757695984683, 'mse': 5621.473239782222}"
      ]
     },
     "execution_count": 3,
     "metadata": {},
     "output_type": "execute_result"
    }
   ],
   "source": [
    "activity_level_model_performance"
   ]
  },
  {
   "cell_type": "code",
   "execution_count": 4,
   "id": "fcfd0fd8",
   "metadata": {},
   "outputs": [
    {
     "data": {
      "text/plain": [
       "{'learning_rate': 0.1,\n",
       " 'max_depth': 3,\n",
       " 'max_features': 'sqrt',\n",
       " 'min_samples_leaf': 1,\n",
       " 'min_samples_split': 2,\n",
       " 'n_estimators': 100,\n",
       " 'subsample': 1.0}"
      ]
     },
     "execution_count": 4,
     "metadata": {},
     "output_type": "execute_result"
    }
   ],
   "source": [
    "activity_level_best_params"
   ]
  },
  {
   "cell_type": "code",
   "execution_count": 5,
   "id": "b5414c90",
   "metadata": {},
   "outputs": [
    {
     "data": {
      "text/html": [
       "<style>#sk-container-id-1 {color: black;}#sk-container-id-1 pre{padding: 0;}#sk-container-id-1 div.sk-toggleable {background-color: white;}#sk-container-id-1 label.sk-toggleable__label {cursor: pointer;display: block;width: 100%;margin-bottom: 0;padding: 0.3em;box-sizing: border-box;text-align: center;}#sk-container-id-1 label.sk-toggleable__label-arrow:before {content: \"▸\";float: left;margin-right: 0.25em;color: #696969;}#sk-container-id-1 label.sk-toggleable__label-arrow:hover:before {color: black;}#sk-container-id-1 div.sk-estimator:hover label.sk-toggleable__label-arrow:before {color: black;}#sk-container-id-1 div.sk-toggleable__content {max-height: 0;max-width: 0;overflow: hidden;text-align: left;background-color: #f0f8ff;}#sk-container-id-1 div.sk-toggleable__content pre {margin: 0.2em;color: black;border-radius: 0.25em;background-color: #f0f8ff;}#sk-container-id-1 input.sk-toggleable__control:checked~div.sk-toggleable__content {max-height: 200px;max-width: 100%;overflow: auto;}#sk-container-id-1 input.sk-toggleable__control:checked~label.sk-toggleable__label-arrow:before {content: \"▾\";}#sk-container-id-1 div.sk-estimator input.sk-toggleable__control:checked~label.sk-toggleable__label {background-color: #d4ebff;}#sk-container-id-1 div.sk-label input.sk-toggleable__control:checked~label.sk-toggleable__label {background-color: #d4ebff;}#sk-container-id-1 input.sk-hidden--visually {border: 0;clip: rect(1px 1px 1px 1px);clip: rect(1px, 1px, 1px, 1px);height: 1px;margin: -1px;overflow: hidden;padding: 0;position: absolute;width: 1px;}#sk-container-id-1 div.sk-estimator {font-family: monospace;background-color: #f0f8ff;border: 1px dotted black;border-radius: 0.25em;box-sizing: border-box;margin-bottom: 0.5em;}#sk-container-id-1 div.sk-estimator:hover {background-color: #d4ebff;}#sk-container-id-1 div.sk-parallel-item::after {content: \"\";width: 100%;border-bottom: 1px solid gray;flex-grow: 1;}#sk-container-id-1 div.sk-label:hover label.sk-toggleable__label {background-color: #d4ebff;}#sk-container-id-1 div.sk-serial::before {content: \"\";position: absolute;border-left: 1px solid gray;box-sizing: border-box;top: 0;bottom: 0;left: 50%;z-index: 0;}#sk-container-id-1 div.sk-serial {display: flex;flex-direction: column;align-items: center;background-color: white;padding-right: 0.2em;padding-left: 0.2em;position: relative;}#sk-container-id-1 div.sk-item {position: relative;z-index: 1;}#sk-container-id-1 div.sk-parallel {display: flex;align-items: stretch;justify-content: center;background-color: white;position: relative;}#sk-container-id-1 div.sk-item::before, #sk-container-id-1 div.sk-parallel-item::before {content: \"\";position: absolute;border-left: 1px solid gray;box-sizing: border-box;top: 0;bottom: 0;left: 50%;z-index: -1;}#sk-container-id-1 div.sk-parallel-item {display: flex;flex-direction: column;z-index: 1;position: relative;background-color: white;}#sk-container-id-1 div.sk-parallel-item:first-child::after {align-self: flex-end;width: 50%;}#sk-container-id-1 div.sk-parallel-item:last-child::after {align-self: flex-start;width: 50%;}#sk-container-id-1 div.sk-parallel-item:only-child::after {width: 0;}#sk-container-id-1 div.sk-dashed-wrapped {border: 1px dashed gray;margin: 0 0.4em 0.5em 0.4em;box-sizing: border-box;padding-bottom: 0.4em;background-color: white;}#sk-container-id-1 div.sk-label label {font-family: monospace;font-weight: bold;display: inline-block;line-height: 1.2em;}#sk-container-id-1 div.sk-label-container {text-align: center;}#sk-container-id-1 div.sk-container {/* jupyter's `normalize.less` sets `[hidden] { display: none; }` but bootstrap.min.css set `[hidden] { display: none !important; }` so we also need the `!important` here to be able to override the default hidden behavior on the sphinx rendered scikit-learn.org. See: https://github.com/scikit-learn/scikit-learn/issues/21755 */display: inline-block !important;position: relative;}#sk-container-id-1 div.sk-text-repr-fallback {display: none;}</style><div id=\"sk-container-id-1\" class=\"sk-top-container\"><div class=\"sk-text-repr-fallback\"><pre>GradientBoostingRegressor(max_features=&#x27;sqrt&#x27;)</pre><b>In a Jupyter environment, please rerun this cell to show the HTML representation or trust the notebook. <br />On GitHub, the HTML representation is unable to render, please try loading this page with nbviewer.org.</b></div><div class=\"sk-container\" hidden><div class=\"sk-item\"><div class=\"sk-estimator sk-toggleable\"><input class=\"sk-toggleable__control sk-hidden--visually\" id=\"sk-estimator-id-1\" type=\"checkbox\" checked><label for=\"sk-estimator-id-1\" class=\"sk-toggleable__label sk-toggleable__label-arrow\">GradientBoostingRegressor</label><div class=\"sk-toggleable__content\"><pre>GradientBoostingRegressor(max_features=&#x27;sqrt&#x27;)</pre></div></div></div></div></div>"
      ],
      "text/plain": [
       "GradientBoostingRegressor(max_features='sqrt')"
      ]
     },
     "execution_count": 5,
     "metadata": {},
     "output_type": "execute_result"
    }
   ],
   "source": [
    "activity_level_model"
   ]
  },
  {
   "cell_type": "markdown",
   "id": "80d76538",
   "metadata": {},
   "source": [
    "### Activity Model Training"
   ]
  },
  {
   "cell_type": "code",
   "execution_count": 6,
   "id": "9209828c",
   "metadata": {},
   "outputs": [],
   "source": [
    "#New X and y data for the activity model\n",
    "X_activity = np.array(activity_level_df.drop(['Id','TotalTimeInBed','TotalMinutesAsleep','Date','Date_Weekly','TotalSleepRecords_Weekly','WeekStartDate','LoggedActivitiesDistance','SedentaryActiveDistance_Weekly'],axis=1))\n",
    "y_activity = activity_level_df['TotalMinutesAsleep'].values"
   ]
  },
  {
   "cell_type": "markdown",
   "id": "62bb838f",
   "metadata": {},
   "source": [
    "### Checking Old Model for Overfitting "
   ]
  },
  {
   "cell_type": "code",
   "execution_count": 7,
   "id": "69a48962",
   "metadata": {},
   "outputs": [
    {
     "name": "stdout",
     "output_type": "stream",
     "text": [
      "Test Data Mean Squared Error: 5621.473239782222\n",
      "Test Data R-squared: 0.5310757695984683\n",
      "Test Data RMSE: 74.97648457871456\n",
      "\n",
      "Train Data Mean Squared Error: 595.0929144233256\n",
      "Train Data R-squared: 0.9411042890788174\n",
      "Train Data RMSE: 24.394526320945968\n"
     ]
    }
   ],
   "source": [
    "y_pred_activity = activity_level_model.predict(X_test_activity)\n",
    "\n",
    "mse = mean_squared_error(y_test_activity, y_pred_activity)\n",
    "print(f\"Test Data Mean Squared Error: {mse}\")\n",
    "\n",
    "\n",
    "r2 = r2_score(y_test_activity, y_pred_activity)\n",
    "print(f\"Test Data R-squared: {r2}\")\n",
    "\n",
    "rmse = np.sqrt(mean_squared_error(y_test_activity, y_pred_activity))\n",
    "print(f\"Test Data RMSE: {rmse}\")\n",
    "\n",
    "\n",
    "print('')\n",
    "\n",
    "#Predicting on Train data to check for overfitting. \n",
    "y_pred_activity_train = activity_level_model.predict(X_train_activity)\n",
    "\n",
    "mse = mean_squared_error(y_train_activity, y_pred_activity_train)\n",
    "print(f\"Train Data Mean Squared Error: {mse}\")\n",
    "\n",
    "\n",
    "r2 = r2_score(y_train_activity, y_pred_activity_train)\n",
    "print(f\"Train Data R-squared: {r2}\")\n",
    "\n",
    "rmse = np.sqrt(mean_squared_error(y_train_activity, y_pred_activity_train))\n",
    "print(f\"Train Data RMSE: {rmse}\")"
   ]
  },
  {
   "cell_type": "code",
   "execution_count": null,
   "id": "6f54cc55",
   "metadata": {},
   "outputs": [],
   "source": [
    "#The model is overfitting. I will make some changes to account for this"
   ]
  },
  {
   "cell_type": "code",
   "execution_count": 12,
   "id": "9be2a791",
   "metadata": {},
   "outputs": [],
   "source": [
    "#For cross validating my data to see how model predicts on new data\n",
    "kf = KFold(n_splits=10, shuffle=True, random_state=42)"
   ]
  },
  {
   "cell_type": "code",
   "execution_count": 13,
   "id": "06a48468",
   "metadata": {},
   "outputs": [
    {
     "name": "stdout",
     "output_type": "stream",
     "text": [
      "Cross-validation scores: [0.59566524 0.60513756 0.6213535  0.69811999 0.15731987 0.66649949\n",
      " 0.47523868 0.61021057 0.52435637 0.58111099]\n",
      "Average score: 0.5535012252354347\n"
     ]
    }
   ],
   "source": [
    "#The regressor seems to perform better\n",
    "#I will scale the data for each fold in my cross validation\n",
    "pipeline = Pipeline([\n",
    "    ('scale', MinMaxScaler()), \n",
    "    ('model', GradientBoostingRegressor())\n",
    "])\n",
    "\n",
    "scores = cross_val_score(pipeline, X_activity, y_activity, cv=kf, scoring='r2')\n",
    "\n",
    "print(\"Cross-validation scores:\", scores)\n",
    "print(\"Average score:\",np.mean(scores))"
   ]
  },
  {
   "cell_type": "code",
   "execution_count": 14,
   "id": "570367e0",
   "metadata": {},
   "outputs": [],
   "source": [
    "activity_features = activity_level_df.drop(['Id','TotalTimeInBed','TotalMinutesAsleep','Date','Date_Weekly','TotalSleepRecords_Weekly','WeekStartDate','LoggedActivitiesDistance','SedentaryActiveDistance_Weekly'],axis=1).columns"
   ]
  },
  {
   "cell_type": "code",
   "execution_count": 15,
   "id": "c50adb43",
   "metadata": {},
   "outputs": [
    {
     "data": {
      "text/plain": [
       "Index(['TotalSteps', 'TotalDistance', 'ModeratelyActiveDistance',\n",
       "       'LightActiveDistance', 'SedentaryActiveDistance', 'VeryActiveMinutes',\n",
       "       'FairlyActiveMinutes', 'LightlyActiveMinutes', 'SedentaryMinutes',\n",
       "       'Calories', 'TotalSleepRecords', 'TotalSteps_Weekly',\n",
       "       'TotalDistance_Weekly', 'LoggedActivitiesDistance_Weekly',\n",
       "       'ModeratelyActiveDistance_Weekly', 'LightActiveDistance_Weekly',\n",
       "       'VeryActiveMinutes_Weekly', 'FairlyActiveMinutes_Weekly',\n",
       "       'LightlyActiveMinutes_Weekly', 'SedentaryMinutes_Weekly',\n",
       "       'Calories_Weekly', 'TotalMinutesAsleep_Weekly',\n",
       "       'TotalTimeInBed_Weekly'],\n",
       "      dtype='object')"
      ]
     },
     "execution_count": 15,
     "metadata": {},
     "output_type": "execute_result"
    }
   ],
   "source": [
    "activity_features"
   ]
  },
  {
   "cell_type": "markdown",
   "id": "1494db09",
   "metadata": {},
   "source": [
    "### Extracting Feature Importance "
   ]
  },
  {
   "cell_type": "code",
   "execution_count": 17,
   "id": "957f278f",
   "metadata": {},
   "outputs": [],
   "source": [
    "# I will use the base gbregressor model to give me an idea of feature importance since the model performs relatively well\n",
    "gbregressor = GradientBoostingRegressor()\n",
    "\n",
    "#This is the train test data from my old model. It is already scaled\n",
    "gbregressor.fit(X_train_activity,y_train_activity)\n",
    "\n",
    "y_pred_activity = gbregressor.predict(X_test_activity)"
   ]
  },
  {
   "cell_type": "code",
   "execution_count": 18,
   "id": "9dded05b",
   "metadata": {},
   "outputs": [
    {
     "name": "stdout",
     "output_type": "stream",
     "text": [
      "Test Data Mean Squared Error: 4452.429939482879\n",
      "Test Data R-squared: 0.6285933964759687\n",
      "Test Data RMSE: 66.72653100141561\n",
      "\n",
      "Train Data Mean Squared Error: 595.0929144233256\n",
      "Train Data R-squared: 0.9411042890788174\n",
      "Train Data RMSE: 24.394526320945968\n"
     ]
    }
   ],
   "source": [
    "mse = mean_squared_error(y_test_activity, y_pred_activity)\n",
    "print(f\"Test Data Mean Squared Error: {mse}\")\n",
    "\n",
    "\n",
    "r2 = r2_score(y_test_activity, y_pred_activity)\n",
    "print(f\"Test Data R-squared: {r2}\")\n",
    "\n",
    "rmse = np.sqrt(mean_squared_error(y_test_activity, y_pred_activity))\n",
    "print(f\"Test Data RMSE: {rmse}\")\n",
    "\n",
    "\n",
    "print('')\n",
    "\n",
    "#Predicting on Train data to check for overfitting. \n",
    "y_pred_activity_train = activity_level_model.predict(X_train_activity)\n",
    "\n",
    "mse = mean_squared_error(y_train_activity, y_pred_activity_train)\n",
    "print(f\"Train Data Mean Squared Error: {mse}\")\n",
    "\n",
    "\n",
    "r2 = r2_score(y_train_activity, y_pred_activity_train)\n",
    "print(f\"Train Data R-squared: {r2}\")\n",
    "\n",
    "rmse = np.sqrt(mean_squared_error(y_train_activity, y_pred_activity_train))\n",
    "print(f\"Train Data RMSE: {rmse}\")"
   ]
  },
  {
   "cell_type": "code",
   "execution_count": 45,
   "id": "7b751bd4",
   "metadata": {},
   "outputs": [],
   "source": [
    "#The baseline gradient boosting regressor model is also overfitting on the data as shown by the results\n",
    "#First I will try reducing the amount of features to see if this helps."
   ]
  },
  {
   "cell_type": "code",
   "execution_count": 19,
   "id": "6b680fed",
   "metadata": {},
   "outputs": [
    {
     "name": "stdout",
     "output_type": "stream",
     "text": [
      "[('TotalSteps', 0.04041015431929438), ('TotalDistance', 0.052056799435062626), ('ModeratelyActiveDistance', 0.005352427088609136), ('LightActiveDistance', 0.05425142317148306), ('SedentaryActiveDistance', 0.0), ('VeryActiveMinutes', 0.011817606015406669), ('FairlyActiveMinutes', 0.009536160952731704), ('LightlyActiveMinutes', 0.07831586707525716), ('SedentaryMinutes', 0.45464616858081114), ('Calories', 0.04135557980631767), ('TotalSleepRecords', 0.0033653952514380147), ('TotalSteps_Weekly', 0.005607874900978438), ('TotalDistance_Weekly', 0.003918239633403149), ('LoggedActivitiesDistance_Weekly', 0.00028070530438100344), ('ModeratelyActiveDistance_Weekly', 0.01968815386639604), ('LightActiveDistance_Weekly', 0.019504629128351568), ('VeryActiveMinutes_Weekly', 0.0), ('FairlyActiveMinutes_Weekly', 0.0016485779555629981), ('LightlyActiveMinutes_Weekly', 0.0031358090513688786), ('SedentaryMinutes_Weekly', 0.006928137972493682), ('Calories_Weekly', 0.0010052351641696496), ('TotalMinutesAsleep_Weekly', 0.03439450909452881), ('TotalTimeInBed_Weekly', 0.1376890783753877)]\n"
     ]
    }
   ],
   "source": [
    "#Extracting feature importance for each feature\n",
    "feature_importances = gbregressor.feature_importances_\n",
    "feature_importances_activity =list(zip(activity_features,feature_importances))\n",
    "print(feature_importances_activity)"
   ]
  },
  {
   "cell_type": "code",
   "execution_count": 20,
   "id": "6268d27b",
   "metadata": {},
   "outputs": [
    {
     "name": "stdout",
     "output_type": "stream",
     "text": [
      "SedentaryMinutes: 0.45464616858081114\n",
      "TotalTimeInBed_Weekly: 0.1376890783753877\n",
      "LightlyActiveMinutes: 0.07831586707525716\n",
      "LightActiveDistance: 0.05425142317148306\n",
      "TotalDistance: 0.052056799435062626\n",
      "Calories: 0.04135557980631767\n",
      "TotalSteps: 0.04041015431929438\n",
      "TotalMinutesAsleep_Weekly: 0.03439450909452881\n",
      "ModeratelyActiveDistance_Weekly: 0.01968815386639604\n",
      "LightActiveDistance_Weekly: 0.019504629128351568\n",
      "VeryActiveMinutes: 0.011817606015406669\n",
      "FairlyActiveMinutes: 0.009536160952731704\n",
      "SedentaryMinutes_Weekly: 0.006928137972493682\n",
      "TotalSteps_Weekly: 0.005607874900978438\n",
      "ModeratelyActiveDistance: 0.005352427088609136\n",
      "TotalDistance_Weekly: 0.003918239633403149\n",
      "TotalSleepRecords: 0.0033653952514380147\n",
      "LightlyActiveMinutes_Weekly: 0.0031358090513688786\n",
      "FairlyActiveMinutes_Weekly: 0.0016485779555629981\n",
      "Calories_Weekly: 0.0010052351641696496\n",
      "LoggedActivitiesDistance_Weekly: 0.00028070530438100344\n",
      "SedentaryActiveDistance: 0.0\n",
      "VeryActiveMinutes_Weekly: 0.0\n"
     ]
    }
   ],
   "source": [
    "# Sort the list by the second element of each tuple\n",
    "sorted_feature_importances = sorted(feature_importances_activity, key=lambda x: x[1],reverse=True)\n",
    "features_list = []\n",
    "# Print the sorted list\n",
    "for feature, importance in sorted_feature_importances:\n",
    "    print(f\"{feature}: {importance}\")\n",
    "    features_list.append(feature)\n",
    "    \n",
    "#The most important features are in the beginning and the least important towards the end."
   ]
  },
  {
   "cell_type": "markdown",
   "id": "b96d8bef",
   "metadata": {},
   "source": [
    "### Feature Reduction"
   ]
  },
  {
   "cell_type": "code",
   "execution_count": 22,
   "id": "e3934bfc",
   "metadata": {},
   "outputs": [
    {
     "name": "stdout",
     "output_type": "stream",
     "text": [
      "Best R² score: 0.620802374994224\n",
      "Features for best score: ['SedentaryMinutes', 'TotalTimeInBed_Weekly', 'LightlyActiveMinutes', 'LightActiveDistance', 'TotalDistance', 'Calories', 'TotalSteps', 'TotalMinutesAsleep_Weekly', 'ModeratelyActiveDistance_Weekly']\n"
     ]
    }
   ],
   "source": [
    "best_score = float('-inf')\n",
    "best_features = None\n",
    "\n",
    "for x in range(len(features_list)):\n",
    "    # Create a new numpy array with the selected features\n",
    "    X_subset = np.array(activity_level_df[features_list[:len(features_list) - x]])\n",
    "\n",
    "    # Initialize the Pipeline for scaling and Gradient Boosting Regressor\n",
    "    pipeline = Pipeline([\n",
    "    ('scale', MinMaxScaler()), \n",
    "    ('model', GradientBoostingRegressor())])\n",
    "\n",
    "    # Perform cross-validation\n",
    "    kf = KFold(n_splits=10, shuffle=True, random_state=42)\n",
    "    scores = cross_val_score(pipeline, X_subset, y_activity, cv=kf, scoring='r2')\n",
    "    average_score = np.mean(scores)\n",
    "    # Perform cross-validation\n",
    "\n",
    "\n",
    "    # Update the best score and corresponding feature set\n",
    "    if average_score > best_score:\n",
    "        best_score = average_score\n",
    "        best_features = features_list[:len(features_list) - x]\n",
    "\n",
    "# Print the best score and corresponding features\n",
    "print(f\"Best R² score: {best_score}\")\n",
    "print(f\"Features for best score: {best_features}\")\n"
   ]
  },
  {
   "cell_type": "code",
   "execution_count": 23,
   "id": "d3ab566c",
   "metadata": {},
   "outputs": [],
   "source": [
    "X_activity_reduced = np.array(activity_level_df[best_features])\n",
    "y_activity = activity_level_df['TotalMinutesAsleep'].values"
   ]
  },
  {
   "cell_type": "code",
   "execution_count": 37,
   "id": "3268bdd9",
   "metadata": {},
   "outputs": [
    {
     "data": {
      "text/plain": [
       "318"
      ]
     },
     "execution_count": 37,
     "metadata": {},
     "output_type": "execute_result"
    }
   ],
   "source": [
    "len(X_activity_reduced)"
   ]
  },
  {
   "cell_type": "code",
   "execution_count": 38,
   "id": "6c1443c9",
   "metadata": {},
   "outputs": [
    {
     "data": {
      "text/plain": [
       "318"
      ]
     },
     "execution_count": 38,
     "metadata": {},
     "output_type": "execute_result"
    }
   ],
   "source": [
    "len(y_activity)"
   ]
  },
  {
   "cell_type": "code",
   "execution_count": 24,
   "id": "b38179c6",
   "metadata": {},
   "outputs": [
    {
     "name": "stdout",
     "output_type": "stream",
     "text": [
      "Average r2 score: 0.612904818625591\n",
      "\n",
      "All scores: [0.60639298 0.56677026 0.65096195 0.71131772 0.30616421 0.67463523\n",
      " 0.67338943 0.6249873  0.56963121 0.74479788]\n"
     ]
    }
   ],
   "source": [
    "gbregressor = GradientBoostingRegressor()\n",
    "scores = cross_val_score(gbregressor, X_activity_reduced, y_activity, cv=kf, scoring='r2')\n",
    "print(f\"Average r2 score: {np.mean(scores)}\")\n",
    "print('')\n",
    "print(f\"All scores: {scores}\")"
   ]
  },
  {
   "cell_type": "code",
   "execution_count": 48,
   "id": "c67f09a0",
   "metadata": {},
   "outputs": [],
   "source": [
    "#Creating train test data based on the reduced features\n",
    "X_train_activity_final,X_test_activity_final, y_train_activity_final, y_test_activity_final = train_test_split(X_activity_reduced,y_activity,test_size=.3,random_state=1)"
   ]
  },
  {
   "cell_type": "code",
   "execution_count": 53,
   "id": "8328cfdb",
   "metadata": {},
   "outputs": [],
   "source": [
    "#Scaling the training data\n",
    "scaler = MinMaxScaler()\n",
    "\n",
    "# Fit the scaler on the training data and transform it\n",
    "X_train_activity_final_scaled = scaler.fit_transform(X_train_activity_final)\n",
    "\n",
    "# Transform the test data using the same scaler\n",
    "X_test_activity_final_scaled = scaler.transform(X_test_activity_final)\n"
   ]
  },
  {
   "cell_type": "code",
   "execution_count": 54,
   "id": "d5099101",
   "metadata": {},
   "outputs": [
    {
     "data": {
      "text/html": [
       "<style>#sk-container-id-7 {color: black;}#sk-container-id-7 pre{padding: 0;}#sk-container-id-7 div.sk-toggleable {background-color: white;}#sk-container-id-7 label.sk-toggleable__label {cursor: pointer;display: block;width: 100%;margin-bottom: 0;padding: 0.3em;box-sizing: border-box;text-align: center;}#sk-container-id-7 label.sk-toggleable__label-arrow:before {content: \"▸\";float: left;margin-right: 0.25em;color: #696969;}#sk-container-id-7 label.sk-toggleable__label-arrow:hover:before {color: black;}#sk-container-id-7 div.sk-estimator:hover label.sk-toggleable__label-arrow:before {color: black;}#sk-container-id-7 div.sk-toggleable__content {max-height: 0;max-width: 0;overflow: hidden;text-align: left;background-color: #f0f8ff;}#sk-container-id-7 div.sk-toggleable__content pre {margin: 0.2em;color: black;border-radius: 0.25em;background-color: #f0f8ff;}#sk-container-id-7 input.sk-toggleable__control:checked~div.sk-toggleable__content {max-height: 200px;max-width: 100%;overflow: auto;}#sk-container-id-7 input.sk-toggleable__control:checked~label.sk-toggleable__label-arrow:before {content: \"▾\";}#sk-container-id-7 div.sk-estimator input.sk-toggleable__control:checked~label.sk-toggleable__label {background-color: #d4ebff;}#sk-container-id-7 div.sk-label input.sk-toggleable__control:checked~label.sk-toggleable__label {background-color: #d4ebff;}#sk-container-id-7 input.sk-hidden--visually {border: 0;clip: rect(1px 1px 1px 1px);clip: rect(1px, 1px, 1px, 1px);height: 1px;margin: -1px;overflow: hidden;padding: 0;position: absolute;width: 1px;}#sk-container-id-7 div.sk-estimator {font-family: monospace;background-color: #f0f8ff;border: 1px dotted black;border-radius: 0.25em;box-sizing: border-box;margin-bottom: 0.5em;}#sk-container-id-7 div.sk-estimator:hover {background-color: #d4ebff;}#sk-container-id-7 div.sk-parallel-item::after {content: \"\";width: 100%;border-bottom: 1px solid gray;flex-grow: 1;}#sk-container-id-7 div.sk-label:hover label.sk-toggleable__label {background-color: #d4ebff;}#sk-container-id-7 div.sk-serial::before {content: \"\";position: absolute;border-left: 1px solid gray;box-sizing: border-box;top: 0;bottom: 0;left: 50%;z-index: 0;}#sk-container-id-7 div.sk-serial {display: flex;flex-direction: column;align-items: center;background-color: white;padding-right: 0.2em;padding-left: 0.2em;position: relative;}#sk-container-id-7 div.sk-item {position: relative;z-index: 1;}#sk-container-id-7 div.sk-parallel {display: flex;align-items: stretch;justify-content: center;background-color: white;position: relative;}#sk-container-id-7 div.sk-item::before, #sk-container-id-7 div.sk-parallel-item::before {content: \"\";position: absolute;border-left: 1px solid gray;box-sizing: border-box;top: 0;bottom: 0;left: 50%;z-index: -1;}#sk-container-id-7 div.sk-parallel-item {display: flex;flex-direction: column;z-index: 1;position: relative;background-color: white;}#sk-container-id-7 div.sk-parallel-item:first-child::after {align-self: flex-end;width: 50%;}#sk-container-id-7 div.sk-parallel-item:last-child::after {align-self: flex-start;width: 50%;}#sk-container-id-7 div.sk-parallel-item:only-child::after {width: 0;}#sk-container-id-7 div.sk-dashed-wrapped {border: 1px dashed gray;margin: 0 0.4em 0.5em 0.4em;box-sizing: border-box;padding-bottom: 0.4em;background-color: white;}#sk-container-id-7 div.sk-label label {font-family: monospace;font-weight: bold;display: inline-block;line-height: 1.2em;}#sk-container-id-7 div.sk-label-container {text-align: center;}#sk-container-id-7 div.sk-container {/* jupyter's `normalize.less` sets `[hidden] { display: none; }` but bootstrap.min.css set `[hidden] { display: none !important; }` so we also need the `!important` here to be able to override the default hidden behavior on the sphinx rendered scikit-learn.org. See: https://github.com/scikit-learn/scikit-learn/issues/21755 */display: inline-block !important;position: relative;}#sk-container-id-7 div.sk-text-repr-fallback {display: none;}</style><div id=\"sk-container-id-7\" class=\"sk-top-container\"><div class=\"sk-text-repr-fallback\"><pre>GradientBoostingRegressor()</pre><b>In a Jupyter environment, please rerun this cell to show the HTML representation or trust the notebook. <br />On GitHub, the HTML representation is unable to render, please try loading this page with nbviewer.org.</b></div><div class=\"sk-container\" hidden><div class=\"sk-item\"><div class=\"sk-estimator sk-toggleable\"><input class=\"sk-toggleable__control sk-hidden--visually\" id=\"sk-estimator-id-7\" type=\"checkbox\" checked><label for=\"sk-estimator-id-7\" class=\"sk-toggleable__label sk-toggleable__label-arrow\">GradientBoostingRegressor</label><div class=\"sk-toggleable__content\"><pre>GradientBoostingRegressor()</pre></div></div></div></div></div>"
      ],
      "text/plain": [
       "GradientBoostingRegressor()"
      ]
     },
     "execution_count": 54,
     "metadata": {},
     "output_type": "execute_result"
    }
   ],
   "source": [
    "# Testing a new model trained on the reduced features\n",
    "gbregressor2 = GradientBoostingRegressor()\n",
    "gbregressor2.fit(X_train_activity_final_scaled, y_train_activity_final)\n",
    "\n"
   ]
  },
  {
   "cell_type": "code",
   "execution_count": 57,
   "id": "fb3ddfe0",
   "metadata": {},
   "outputs": [
    {
     "name": "stdout",
     "output_type": "stream",
     "text": [
      "Test Data Mean Squared Error: 4465.047225903163\n",
      "Test Data R-squared: 0.5090746281133764\n",
      "Test Data RMSE: 66.82100886624777\n",
      "\n",
      "Train Data Mean Squared Error: 17183.20254947683\n",
      "Train Data R-squared: 0.9588570762004199\n",
      "Train Data RMSE: 21.608564149426982\n"
     ]
    }
   ],
   "source": [
    "y_pred_activity = gbregressor2.predict(X_test_activity_final_scaled)\n",
    "\n",
    "mse = mean_squared_error(y_test_activity_final, y_pred_activity)\n",
    "print(f\"Test Data Mean Squared Error: {mse}\")\n",
    "\n",
    "\n",
    "r2 = r2_score(y_test_activity_final, y_pred_activity)\n",
    "print(f\"Test Data R-squared: {r2}\")\n",
    "\n",
    "rmse = np.sqrt(mean_squared_error(y_test_activity_final, y_pred_activity))\n",
    "print(f\"Test Data RMSE: {rmse}\")\n",
    "\n",
    "\n",
    "print('')\n",
    "\n",
    "#Predicting on Train data to check for overfitting. \n",
    "y_pred_activity_train = gbregressor2.predict(X_train_activity_final_scaled)\n",
    "\n",
    "mse = mean_squared_error(y_train_activity, y_pred_activity_train)\n",
    "print(f\"Train Data Mean Squared Error: {mse}\")\n",
    "\n",
    "\n",
    "r2 = r2_score(y_train_activity_final, y_pred_activity_train)\n",
    "print(f\"Train Data R-squared: {r2}\")\n",
    "\n",
    "rmse = np.sqrt(mean_squared_error(y_train_activity_final, y_pred_activity_train))\n",
    "print(f\"Train Data RMSE: {rmse}\")"
   ]
  },
  {
   "cell_type": "code",
   "execution_count": null,
   "id": "b2b4530a",
   "metadata": {},
   "outputs": [],
   "source": [
    "#The model is performing very well on the train data and Ok on the test data\n",
    "#This model is still overfitting on the data\n",
    "#I will tune hyperparameters to weaken the model and help it to generalize better."
   ]
  },
  {
   "cell_type": "markdown",
   "id": "17ed9385",
   "metadata": {},
   "source": [
    "### Hyperparameter Tuning"
   ]
  },
  {
   "cell_type": "raw",
   "id": "eb7c6400",
   "metadata": {},
   "source": [
    "Standard GBoostRegressor Hypers\n",
    "\n",
    "n_estimators: 100\n",
    "learning_rate: 0.1\n",
    "max_depth: 3\n",
    "min_samples_split: 2\n",
    "min_samples_leaf: 1\n",
    "subsample: 1.0\n",
    "max_features: None"
   ]
  },
  {
   "cell_type": "code",
   "execution_count": 58,
   "id": "0da892ae",
   "metadata": {},
   "outputs": [],
   "source": [
    "# Parameter grid for RandomizedSearchCV\n",
    "param_grid = {\n",
    "    'n_estimators': sp_randint(50, 150),  # fewer trees, range between 50 and 150\n",
    "    'learning_rate': uniform(0.01, 0.1),  # lower learning rate, between 0.01 and 0.1\n",
    "    'max_depth': sp_randint(1, 4),  # shallower trees, depths from 1 to 3\n",
    "    'min_samples_split': sp_randint(2, 10),  # higher min samples for a split, between 2 and 10\n",
    "    'min_samples_leaf': sp_randint(1, 5),  # higher min samples in a leaf, between 1 and 5\n",
    "    'subsample': uniform(0.5, 0.5),  # subsampling of the training data, between 0.5 and 1.0\n",
    "    'max_features': ['sqrt', 'log2', None] + [0.5, 0.75]  # number of features for best split\n",
    "}\n",
    "\n"
   ]
  },
  {
   "cell_type": "code",
   "execution_count": 59,
   "id": "e9bf6e18",
   "metadata": {},
   "outputs": [],
   "source": [
    "random_search = RandomizedSearchCV(gbregressor2, param_distributions=param_grid, \n",
    "                                   n_iter=500, cv=10, scoring='r2', random_state=42, n_jobs=-1)"
   ]
  },
  {
   "cell_type": "code",
   "execution_count": 62,
   "id": "4dcbef0f",
   "metadata": {},
   "outputs": [
    {
     "name": "stdout",
     "output_type": "stream",
     "text": [
      "Best Parameters: {'learning_rate': 0.06123637775457907, 'max_depth': 2, 'max_features': 0.5, 'min_samples_leaf': 1, 'min_samples_split': 4, 'n_estimators': 135, 'subsample': 0.6313378212993259}\n",
      "Best Score: 0.6137403563118582\n"
     ]
    }
   ],
   "source": [
    "random_search.fit(X_train_activity_final_scaled,y_train_activity_final)\n"
   ]
  },
  {
   "cell_type": "code",
   "execution_count": 63,
   "id": "f5a657c1",
   "metadata": {},
   "outputs": [
    {
     "name": "stdout",
     "output_type": "stream",
     "text": [
      "Best Parameters: {'learning_rate': 0.06123637775457907, 'max_depth': 2, 'max_features': 0.5, 'min_samples_leaf': 1, 'min_samples_split': 4, 'n_estimators': 135, 'subsample': 0.6313378212993259}\n",
      "Best Score: 0.6137403563118582\n"
     ]
    }
   ],
   "source": [
    "print(\"Best Parameters:\", random_search.best_params_)\n",
    "print(\"Best Score:\", random_search.best_score_)\n"
   ]
  },
  {
   "cell_type": "code",
   "execution_count": null,
   "id": "8d0c09fc",
   "metadata": {},
   "outputs": [],
   "source": [
    "#The random Search helped boost the r2 score on validation data. \n",
    "#Next I will tune the model further to see if I can get even better performance."
   ]
  },
  {
   "cell_type": "markdown",
   "id": "acfcc384",
   "metadata": {},
   "source": [
    "# Stress Level Model"
   ]
  },
  {
   "cell_type": "markdown",
   "id": "7003ecf8",
   "metadata": {},
   "source": [
    "### Model predicts sleep score and the goal is to choose the features that most heavily influence sleep score and offer custom reccomendations"
   ]
  },
  {
   "cell_type": "code",
   "execution_count": 55,
   "id": "e7812318",
   "metadata": {},
   "outputs": [],
   "source": [
    "stress_level_model = load(\"Models&Metrics/Stress_level_model/stress_level_model.joblib\")\n",
    "stress_level_df = load(\"Models&Metrics/Stress_level_model/DataFrame.joblib\")\n",
    "stress_level_model_performance = load(\"Models&Metrics/Stress_level_model/stress_level_model_performance.joblib\")\n",
    "\n",
    "\n",
    "X_train_stress = load(\"Models&Metrics/Stress_level_model/X_train_data.joblib\")\n",
    "X_test_stress = load(\"Models&Metrics/Stress_level_model/X_test_data.joblib\")\n",
    "y_train_stress = load(\"Models&Metrics/Stress_level_model/y_train_data.joblib\")\n",
    "y_test_stress = load(\"Models&Metrics/Stress_level_model/y_test_data.joblib\")"
   ]
  },
  {
   "cell_type": "code",
   "execution_count": 56,
   "id": "22e63508",
   "metadata": {},
   "outputs": [
    {
     "data": {
      "text/html": [
       "<style>#sk-container-id-6 {color: black;}#sk-container-id-6 pre{padding: 0;}#sk-container-id-6 div.sk-toggleable {background-color: white;}#sk-container-id-6 label.sk-toggleable__label {cursor: pointer;display: block;width: 100%;margin-bottom: 0;padding: 0.3em;box-sizing: border-box;text-align: center;}#sk-container-id-6 label.sk-toggleable__label-arrow:before {content: \"▸\";float: left;margin-right: 0.25em;color: #696969;}#sk-container-id-6 label.sk-toggleable__label-arrow:hover:before {color: black;}#sk-container-id-6 div.sk-estimator:hover label.sk-toggleable__label-arrow:before {color: black;}#sk-container-id-6 div.sk-toggleable__content {max-height: 0;max-width: 0;overflow: hidden;text-align: left;background-color: #f0f8ff;}#sk-container-id-6 div.sk-toggleable__content pre {margin: 0.2em;color: black;border-radius: 0.25em;background-color: #f0f8ff;}#sk-container-id-6 input.sk-toggleable__control:checked~div.sk-toggleable__content {max-height: 200px;max-width: 100%;overflow: auto;}#sk-container-id-6 input.sk-toggleable__control:checked~label.sk-toggleable__label-arrow:before {content: \"▾\";}#sk-container-id-6 div.sk-estimator input.sk-toggleable__control:checked~label.sk-toggleable__label {background-color: #d4ebff;}#sk-container-id-6 div.sk-label input.sk-toggleable__control:checked~label.sk-toggleable__label {background-color: #d4ebff;}#sk-container-id-6 input.sk-hidden--visually {border: 0;clip: rect(1px 1px 1px 1px);clip: rect(1px, 1px, 1px, 1px);height: 1px;margin: -1px;overflow: hidden;padding: 0;position: absolute;width: 1px;}#sk-container-id-6 div.sk-estimator {font-family: monospace;background-color: #f0f8ff;border: 1px dotted black;border-radius: 0.25em;box-sizing: border-box;margin-bottom: 0.5em;}#sk-container-id-6 div.sk-estimator:hover {background-color: #d4ebff;}#sk-container-id-6 div.sk-parallel-item::after {content: \"\";width: 100%;border-bottom: 1px solid gray;flex-grow: 1;}#sk-container-id-6 div.sk-label:hover label.sk-toggleable__label {background-color: #d4ebff;}#sk-container-id-6 div.sk-serial::before {content: \"\";position: absolute;border-left: 1px solid gray;box-sizing: border-box;top: 0;bottom: 0;left: 50%;z-index: 0;}#sk-container-id-6 div.sk-serial {display: flex;flex-direction: column;align-items: center;background-color: white;padding-right: 0.2em;padding-left: 0.2em;position: relative;}#sk-container-id-6 div.sk-item {position: relative;z-index: 1;}#sk-container-id-6 div.sk-parallel {display: flex;align-items: stretch;justify-content: center;background-color: white;position: relative;}#sk-container-id-6 div.sk-item::before, #sk-container-id-6 div.sk-parallel-item::before {content: \"\";position: absolute;border-left: 1px solid gray;box-sizing: border-box;top: 0;bottom: 0;left: 50%;z-index: -1;}#sk-container-id-6 div.sk-parallel-item {display: flex;flex-direction: column;z-index: 1;position: relative;background-color: white;}#sk-container-id-6 div.sk-parallel-item:first-child::after {align-self: flex-end;width: 50%;}#sk-container-id-6 div.sk-parallel-item:last-child::after {align-self: flex-start;width: 50%;}#sk-container-id-6 div.sk-parallel-item:only-child::after {width: 0;}#sk-container-id-6 div.sk-dashed-wrapped {border: 1px dashed gray;margin: 0 0.4em 0.5em 0.4em;box-sizing: border-box;padding-bottom: 0.4em;background-color: white;}#sk-container-id-6 div.sk-label label {font-family: monospace;font-weight: bold;display: inline-block;line-height: 1.2em;}#sk-container-id-6 div.sk-label-container {text-align: center;}#sk-container-id-6 div.sk-container {/* jupyter's `normalize.less` sets `[hidden] { display: none; }` but bootstrap.min.css set `[hidden] { display: none !important; }` so we also need the `!important` here to be able to override the default hidden behavior on the sphinx rendered scikit-learn.org. See: https://github.com/scikit-learn/scikit-learn/issues/21755 */display: inline-block !important;position: relative;}#sk-container-id-6 div.sk-text-repr-fallback {display: none;}</style><div id=\"sk-container-id-6\" class=\"sk-top-container\"><div class=\"sk-text-repr-fallback\"><pre>RandomForestRegressor()</pre><b>In a Jupyter environment, please rerun this cell to show the HTML representation or trust the notebook. <br />On GitHub, the HTML representation is unable to render, please try loading this page with nbviewer.org.</b></div><div class=\"sk-container\" hidden><div class=\"sk-item\"><div class=\"sk-estimator sk-toggleable\"><input class=\"sk-toggleable__control sk-hidden--visually\" id=\"sk-estimator-id-6\" type=\"checkbox\" checked><label for=\"sk-estimator-id-6\" class=\"sk-toggleable__label sk-toggleable__label-arrow\">RandomForestRegressor</label><div class=\"sk-toggleable__content\"><pre>RandomForestRegressor()</pre></div></div></div></div></div>"
      ],
      "text/plain": [
       "RandomForestRegressor()"
      ]
     },
     "execution_count": 56,
     "metadata": {},
     "output_type": "execute_result"
    }
   ],
   "source": [
    "stress_level_model"
   ]
  },
  {
   "cell_type": "code",
   "execution_count": 57,
   "id": "f1746fc1",
   "metadata": {},
   "outputs": [
    {
     "data": {
      "text/plain": [
       "{'R-squared': 0.9842510191454558,\n",
       " 'Mean Squared Error': 0.024677391255205624,\n",
       " 'RMSE': 0.15709039198883432}"
      ]
     },
     "execution_count": 57,
     "metadata": {},
     "output_type": "execute_result"
    }
   ],
   "source": [
    "stress_level_model_performance"
   ]
  },
  {
   "cell_type": "code",
   "execution_count": 58,
   "id": "6ca0c09a",
   "metadata": {},
   "outputs": [
    {
     "data": {
      "text/html": [
       "<div>\n",
       "<style scoped>\n",
       "    .dataframe tbody tr th:only-of-type {\n",
       "        vertical-align: middle;\n",
       "    }\n",
       "\n",
       "    .dataframe tbody tr th {\n",
       "        vertical-align: top;\n",
       "    }\n",
       "\n",
       "    .dataframe thead th {\n",
       "        text-align: right;\n",
       "    }\n",
       "</style>\n",
       "<table border=\"1\" class=\"dataframe\">\n",
       "  <thead>\n",
       "    <tr style=\"text-align: right;\">\n",
       "      <th></th>\n",
       "      <th>Person ID</th>\n",
       "      <th>Gender</th>\n",
       "      <th>Age</th>\n",
       "      <th>Sleep Duration</th>\n",
       "      <th>Quality of Sleep</th>\n",
       "      <th>Physical Activity Level</th>\n",
       "      <th>Stress Level</th>\n",
       "      <th>BMI Category</th>\n",
       "      <th>Blood Pressure</th>\n",
       "      <th>Heart Rate</th>\n",
       "      <th>...</th>\n",
       "      <th>Occupation_Manager</th>\n",
       "      <th>Occupation_Nurse</th>\n",
       "      <th>Occupation_Sales Representative</th>\n",
       "      <th>Occupation_Salesperson</th>\n",
       "      <th>Occupation_Scientist</th>\n",
       "      <th>Occupation_Software Engineer</th>\n",
       "      <th>Occupation_Teacher</th>\n",
       "      <th>Sleep Disorder_Insomnia</th>\n",
       "      <th>Sleep Disorder_None</th>\n",
       "      <th>Sleep Disorder_Sleep Apnea</th>\n",
       "    </tr>\n",
       "  </thead>\n",
       "  <tbody>\n",
       "    <tr>\n",
       "      <th>0</th>\n",
       "      <td>1</td>\n",
       "      <td>1</td>\n",
       "      <td>27</td>\n",
       "      <td>6.1</td>\n",
       "      <td>6</td>\n",
       "      <td>42</td>\n",
       "      <td>6</td>\n",
       "      <td>1</td>\n",
       "      <td>126/83</td>\n",
       "      <td>77</td>\n",
       "      <td>...</td>\n",
       "      <td>0</td>\n",
       "      <td>0</td>\n",
       "      <td>0</td>\n",
       "      <td>0</td>\n",
       "      <td>0</td>\n",
       "      <td>1</td>\n",
       "      <td>0</td>\n",
       "      <td>0</td>\n",
       "      <td>1</td>\n",
       "      <td>0</td>\n",
       "    </tr>\n",
       "    <tr>\n",
       "      <th>1</th>\n",
       "      <td>2</td>\n",
       "      <td>1</td>\n",
       "      <td>28</td>\n",
       "      <td>6.2</td>\n",
       "      <td>6</td>\n",
       "      <td>60</td>\n",
       "      <td>8</td>\n",
       "      <td>0</td>\n",
       "      <td>125/80</td>\n",
       "      <td>75</td>\n",
       "      <td>...</td>\n",
       "      <td>0</td>\n",
       "      <td>0</td>\n",
       "      <td>0</td>\n",
       "      <td>0</td>\n",
       "      <td>0</td>\n",
       "      <td>0</td>\n",
       "      <td>0</td>\n",
       "      <td>0</td>\n",
       "      <td>1</td>\n",
       "      <td>0</td>\n",
       "    </tr>\n",
       "    <tr>\n",
       "      <th>2</th>\n",
       "      <td>3</td>\n",
       "      <td>1</td>\n",
       "      <td>28</td>\n",
       "      <td>6.2</td>\n",
       "      <td>6</td>\n",
       "      <td>60</td>\n",
       "      <td>8</td>\n",
       "      <td>0</td>\n",
       "      <td>125/80</td>\n",
       "      <td>75</td>\n",
       "      <td>...</td>\n",
       "      <td>0</td>\n",
       "      <td>0</td>\n",
       "      <td>0</td>\n",
       "      <td>0</td>\n",
       "      <td>0</td>\n",
       "      <td>0</td>\n",
       "      <td>0</td>\n",
       "      <td>0</td>\n",
       "      <td>1</td>\n",
       "      <td>0</td>\n",
       "    </tr>\n",
       "    <tr>\n",
       "      <th>3</th>\n",
       "      <td>4</td>\n",
       "      <td>1</td>\n",
       "      <td>28</td>\n",
       "      <td>5.9</td>\n",
       "      <td>4</td>\n",
       "      <td>30</td>\n",
       "      <td>8</td>\n",
       "      <td>2</td>\n",
       "      <td>140/90</td>\n",
       "      <td>85</td>\n",
       "      <td>...</td>\n",
       "      <td>0</td>\n",
       "      <td>0</td>\n",
       "      <td>1</td>\n",
       "      <td>0</td>\n",
       "      <td>0</td>\n",
       "      <td>0</td>\n",
       "      <td>0</td>\n",
       "      <td>0</td>\n",
       "      <td>0</td>\n",
       "      <td>1</td>\n",
       "    </tr>\n",
       "    <tr>\n",
       "      <th>4</th>\n",
       "      <td>5</td>\n",
       "      <td>1</td>\n",
       "      <td>28</td>\n",
       "      <td>5.9</td>\n",
       "      <td>4</td>\n",
       "      <td>30</td>\n",
       "      <td>8</td>\n",
       "      <td>2</td>\n",
       "      <td>140/90</td>\n",
       "      <td>85</td>\n",
       "      <td>...</td>\n",
       "      <td>0</td>\n",
       "      <td>0</td>\n",
       "      <td>1</td>\n",
       "      <td>0</td>\n",
       "      <td>0</td>\n",
       "      <td>0</td>\n",
       "      <td>0</td>\n",
       "      <td>0</td>\n",
       "      <td>0</td>\n",
       "      <td>1</td>\n",
       "    </tr>\n",
       "    <tr>\n",
       "      <th>...</th>\n",
       "      <td>...</td>\n",
       "      <td>...</td>\n",
       "      <td>...</td>\n",
       "      <td>...</td>\n",
       "      <td>...</td>\n",
       "      <td>...</td>\n",
       "      <td>...</td>\n",
       "      <td>...</td>\n",
       "      <td>...</td>\n",
       "      <td>...</td>\n",
       "      <td>...</td>\n",
       "      <td>...</td>\n",
       "      <td>...</td>\n",
       "      <td>...</td>\n",
       "      <td>...</td>\n",
       "      <td>...</td>\n",
       "      <td>...</td>\n",
       "      <td>...</td>\n",
       "      <td>...</td>\n",
       "      <td>...</td>\n",
       "      <td>...</td>\n",
       "    </tr>\n",
       "    <tr>\n",
       "      <th>369</th>\n",
       "      <td>370</td>\n",
       "      <td>0</td>\n",
       "      <td>59</td>\n",
       "      <td>8.1</td>\n",
       "      <td>9</td>\n",
       "      <td>75</td>\n",
       "      <td>3</td>\n",
       "      <td>1</td>\n",
       "      <td>140/95</td>\n",
       "      <td>68</td>\n",
       "      <td>...</td>\n",
       "      <td>0</td>\n",
       "      <td>1</td>\n",
       "      <td>0</td>\n",
       "      <td>0</td>\n",
       "      <td>0</td>\n",
       "      <td>0</td>\n",
       "      <td>0</td>\n",
       "      <td>0</td>\n",
       "      <td>0</td>\n",
       "      <td>1</td>\n",
       "    </tr>\n",
       "    <tr>\n",
       "      <th>370</th>\n",
       "      <td>371</td>\n",
       "      <td>0</td>\n",
       "      <td>59</td>\n",
       "      <td>8.0</td>\n",
       "      <td>9</td>\n",
       "      <td>75</td>\n",
       "      <td>3</td>\n",
       "      <td>1</td>\n",
       "      <td>140/95</td>\n",
       "      <td>68</td>\n",
       "      <td>...</td>\n",
       "      <td>0</td>\n",
       "      <td>1</td>\n",
       "      <td>0</td>\n",
       "      <td>0</td>\n",
       "      <td>0</td>\n",
       "      <td>0</td>\n",
       "      <td>0</td>\n",
       "      <td>0</td>\n",
       "      <td>0</td>\n",
       "      <td>1</td>\n",
       "    </tr>\n",
       "    <tr>\n",
       "      <th>371</th>\n",
       "      <td>372</td>\n",
       "      <td>0</td>\n",
       "      <td>59</td>\n",
       "      <td>8.1</td>\n",
       "      <td>9</td>\n",
       "      <td>75</td>\n",
       "      <td>3</td>\n",
       "      <td>1</td>\n",
       "      <td>140/95</td>\n",
       "      <td>68</td>\n",
       "      <td>...</td>\n",
       "      <td>0</td>\n",
       "      <td>1</td>\n",
       "      <td>0</td>\n",
       "      <td>0</td>\n",
       "      <td>0</td>\n",
       "      <td>0</td>\n",
       "      <td>0</td>\n",
       "      <td>0</td>\n",
       "      <td>0</td>\n",
       "      <td>1</td>\n",
       "    </tr>\n",
       "    <tr>\n",
       "      <th>372</th>\n",
       "      <td>373</td>\n",
       "      <td>0</td>\n",
       "      <td>59</td>\n",
       "      <td>8.1</td>\n",
       "      <td>9</td>\n",
       "      <td>75</td>\n",
       "      <td>3</td>\n",
       "      <td>1</td>\n",
       "      <td>140/95</td>\n",
       "      <td>68</td>\n",
       "      <td>...</td>\n",
       "      <td>0</td>\n",
       "      <td>1</td>\n",
       "      <td>0</td>\n",
       "      <td>0</td>\n",
       "      <td>0</td>\n",
       "      <td>0</td>\n",
       "      <td>0</td>\n",
       "      <td>0</td>\n",
       "      <td>0</td>\n",
       "      <td>1</td>\n",
       "    </tr>\n",
       "    <tr>\n",
       "      <th>373</th>\n",
       "      <td>374</td>\n",
       "      <td>0</td>\n",
       "      <td>59</td>\n",
       "      <td>8.1</td>\n",
       "      <td>9</td>\n",
       "      <td>75</td>\n",
       "      <td>3</td>\n",
       "      <td>1</td>\n",
       "      <td>140/95</td>\n",
       "      <td>68</td>\n",
       "      <td>...</td>\n",
       "      <td>0</td>\n",
       "      <td>1</td>\n",
       "      <td>0</td>\n",
       "      <td>0</td>\n",
       "      <td>0</td>\n",
       "      <td>0</td>\n",
       "      <td>0</td>\n",
       "      <td>0</td>\n",
       "      <td>0</td>\n",
       "      <td>1</td>\n",
       "    </tr>\n",
       "  </tbody>\n",
       "</table>\n",
       "<p>374 rows × 27 columns</p>\n",
       "</div>"
      ],
      "text/plain": [
       "     Person ID  Gender  Age  Sleep Duration  Quality of Sleep  \\\n",
       "0            1       1   27             6.1                 6   \n",
       "1            2       1   28             6.2                 6   \n",
       "2            3       1   28             6.2                 6   \n",
       "3            4       1   28             5.9                 4   \n",
       "4            5       1   28             5.9                 4   \n",
       "..         ...     ...  ...             ...               ...   \n",
       "369        370       0   59             8.1                 9   \n",
       "370        371       0   59             8.0                 9   \n",
       "371        372       0   59             8.1                 9   \n",
       "372        373       0   59             8.1                 9   \n",
       "373        374       0   59             8.1                 9   \n",
       "\n",
       "     Physical Activity Level  Stress Level  BMI Category Blood Pressure  \\\n",
       "0                         42             6             1         126/83   \n",
       "1                         60             8             0         125/80   \n",
       "2                         60             8             0         125/80   \n",
       "3                         30             8             2         140/90   \n",
       "4                         30             8             2         140/90   \n",
       "..                       ...           ...           ...            ...   \n",
       "369                       75             3             1         140/95   \n",
       "370                       75             3             1         140/95   \n",
       "371                       75             3             1         140/95   \n",
       "372                       75             3             1         140/95   \n",
       "373                       75             3             1         140/95   \n",
       "\n",
       "     Heart Rate  ...  Occupation_Manager Occupation_Nurse  \\\n",
       "0            77  ...                   0                0   \n",
       "1            75  ...                   0                0   \n",
       "2            75  ...                   0                0   \n",
       "3            85  ...                   0                0   \n",
       "4            85  ...                   0                0   \n",
       "..          ...  ...                 ...              ...   \n",
       "369          68  ...                   0                1   \n",
       "370          68  ...                   0                1   \n",
       "371          68  ...                   0                1   \n",
       "372          68  ...                   0                1   \n",
       "373          68  ...                   0                1   \n",
       "\n",
       "    Occupation_Sales Representative  Occupation_Salesperson  \\\n",
       "0                                 0                       0   \n",
       "1                                 0                       0   \n",
       "2                                 0                       0   \n",
       "3                                 1                       0   \n",
       "4                                 1                       0   \n",
       "..                              ...                     ...   \n",
       "369                               0                       0   \n",
       "370                               0                       0   \n",
       "371                               0                       0   \n",
       "372                               0                       0   \n",
       "373                               0                       0   \n",
       "\n",
       "     Occupation_Scientist  Occupation_Software Engineer  Occupation_Teacher  \\\n",
       "0                       0                             1                   0   \n",
       "1                       0                             0                   0   \n",
       "2                       0                             0                   0   \n",
       "3                       0                             0                   0   \n",
       "4                       0                             0                   0   \n",
       "..                    ...                           ...                 ...   \n",
       "369                     0                             0                   0   \n",
       "370                     0                             0                   0   \n",
       "371                     0                             0                   0   \n",
       "372                     0                             0                   0   \n",
       "373                     0                             0                   0   \n",
       "\n",
       "     Sleep Disorder_Insomnia  Sleep Disorder_None  Sleep Disorder_Sleep Apnea  \n",
       "0                          0                    1                           0  \n",
       "1                          0                    1                           0  \n",
       "2                          0                    1                           0  \n",
       "3                          0                    0                           1  \n",
       "4                          0                    0                           1  \n",
       "..                       ...                  ...                         ...  \n",
       "369                        0                    0                           1  \n",
       "370                        0                    0                           1  \n",
       "371                        0                    0                           1  \n",
       "372                        0                    0                           1  \n",
       "373                        0                    0                           1  \n",
       "\n",
       "[374 rows x 27 columns]"
      ]
     },
     "execution_count": 58,
     "metadata": {},
     "output_type": "execute_result"
    }
   ],
   "source": [
    "stress_level_df"
   ]
  },
  {
   "cell_type": "code",
   "execution_count": 62,
   "id": "c21d08a0",
   "metadata": {},
   "outputs": [],
   "source": [
    "X_stress = np.array(stress_level_df[['Heart Rate','Physical Activity Level','Stress Level']])\n",
    "y_stress = np.array(stress_level_df['Quality of Sleep'])\n",
    "\n",
    "X_train_stress, X_test_stress, y_train_stress, y_test_stress = train_test_split(X_stress,y_stress,test_size=0.3, random_state=42)"
   ]
  },
  {
   "cell_type": "code",
   "execution_count": 63,
   "id": "3620defa",
   "metadata": {},
   "outputs": [],
   "source": [
    "scaler = MinMaxScaler()\n",
    "X_train_stress_scaled = scaler.fit_transform(X_train_stress)\n",
    "X_test_stress_scaled = scaler.transform(X_test_stress)"
   ]
  },
  {
   "cell_type": "code",
   "execution_count": 67,
   "id": "b99eb9db",
   "metadata": {},
   "outputs": [
    {
     "name": "stdout",
     "output_type": "stream",
     "text": [
      "Mean Squared Error: 0.023711742041799638\n",
      "R-squared: 0.9848672913768622\n",
      "RMSE: 0.15398617483982008\n"
     ]
    }
   ],
   "source": [
    "stress_level_model.fit(X_train_stress_scaled,y_train_stress)\n",
    "y_pred_stress = stress_level_model.predict(X_test_stress_scaled)\n",
    "\n",
    "mse = mean_squared_error(y_test_stress, y_pred_stress)\n",
    "print(f\"Mean Squared Error: {mse}\")\n",
    "\n",
    "\n",
    "r2 = r2_score(y_test_stress, y_pred_stress)\n",
    "print(f\"R-squared: {r2}\")\n",
    "\n",
    "rmse = np.sqrt(mean_squared_error(y_test_stress, y_pred_stress))\n",
    "print(f\"RMSE: {rmse}\")"
   ]
  },
  {
   "cell_type": "code",
   "execution_count": 76,
   "id": "973893bd",
   "metadata": {},
   "outputs": [
    {
     "name": "stdout",
     "output_type": "stream",
     "text": [
      "0.21486986809852904\n",
      "0.32515476866065857\n",
      "0.41573970964154905\n"
     ]
    }
   ],
   "source": [
    "print(np.std(X_train_stress_scaled[0]))\n",
    "print(np.std(X_train_stress_scaled[1]))\n",
    "print(np.std(X_train_stress_scaled[2]))"
   ]
  },
  {
   "cell_type": "code",
   "execution_count": 77,
   "id": "c1fcc8b9",
   "metadata": {},
   "outputs": [
    {
     "name": "stdout",
     "output_type": "stream",
     "text": [
      "0.75\n",
      "0.75\n",
      "1.0\n"
     ]
    }
   ],
   "source": [
    "print(np.max(X_train_stress_scaled[0]))\n",
    "print(np.max(X_train_stress_scaled[1]))\n",
    "print(np.max(X_train_stress_scaled[2]))"
   ]
  },
  {
   "cell_type": "code",
   "execution_count": 78,
   "id": "9ae9d254",
   "metadata": {},
   "outputs": [
    {
     "name": "stdout",
     "output_type": "stream",
     "text": [
      "0.23809523809523814\n",
      "0.0\n",
      "0.0\n"
     ]
    }
   ],
   "source": [
    "print(np.min(X_train_stress_scaled[0]))\n",
    "print(np.min(X_train_stress_scaled[1]))\n",
    "print(np.min(X_train_stress_scaled[2]))"
   ]
  },
  {
   "cell_type": "code",
   "execution_count": 87,
   "id": "1b23c70b",
   "metadata": {},
   "outputs": [],
   "source": [
    "heart_rate_grid = np.arange(.24,.75,.06)\n",
    "activitylvl_grid = np.arange(0,.75,.06)\n",
    "stresslvl_grid = np.arange(0,1,.06)"
   ]
  },
  {
   "cell_type": "code",
   "execution_count": 91,
   "id": "d6d1677d",
   "metadata": {},
   "outputs": [
    {
     "name": "stdout",
     "output_type": "stream",
     "text": [
      "Best score:[8.86]\n",
      "best_combination:(0.3, 0.72, 0.12)\n",
      "real_feature_vals:[[71.3 73.2  3.6]]\n"
     ]
    }
   ],
   "source": [
    "best_score = 0  \n",
    "best_combination = None\n",
    "for heart in heart_rate_grid:\n",
    "    for act in activitylvl_grid:\n",
    "        for stress in stresslvl_grid:\n",
    "            y_pred = stress_level_model.predict([[heart,act,stress]])\n",
    "            if y_pred > best_score:\n",
    "                best_score = y_pred\n",
    "                best_combination = (heart, act, stress)\n",
    "\n",
    "print(f\"Best score:{best_score}\")  \n",
    "print(f\"best_combination:{best_combination}\")\n",
    "\n",
    "real_feature_vals = scaler.inverse_transform([list(best_combination)])\n",
    "print(f\"real_feature_vals:{real_feature_vals}\")"
   ]
  },
  {
   "cell_type": "code",
   "execution_count": 74,
   "id": "7453a6cb",
   "metadata": {},
   "outputs": [
    {
     "data": {
      "text/plain": [
       "array([[0.23809524, 0.75      , 0.6       ],\n",
       "       [0.14285714, 0.75      , 0.        ],\n",
       "       [0.33333333, 0.        , 1.        ],\n",
       "       [0.33333333, 0.41666667, 0.6       ],\n",
       "       [0.71428571, 0.16666667, 0.8       ],\n",
       "       [0.33333333, 0.25      , 0.8       ],\n",
       "       [0.14285714, 0.5       , 0.2       ],\n",
       "       [0.47619048, 1.        , 1.        ],\n",
       "       [0.14285714, 0.5       , 0.2       ],\n",
       "       [0.14285714, 0.75      , 0.        ],\n",
       "       [0.61904762, 0.08333333, 0.8       ],\n",
       "       [0.33333333, 0.        , 1.        ],\n",
       "       [0.14285714, 0.5       , 0.4       ],\n",
       "       [0.23809524, 1.        , 0.4       ],\n",
       "       [0.33333333, 0.41666667, 0.6       ],\n",
       "       [0.33333333, 0.41666667, 0.6       ],\n",
       "       [0.14285714, 0.5       , 0.4       ],\n",
       "       [0.        , 0.        , 0.        ],\n",
       "       [0.23809524, 1.        , 0.4       ],\n",
       "       [0.23809524, 0.75      , 0.6       ],\n",
       "       [0.14285714, 0.5       , 0.4       ],\n",
       "       [0.47619048, 0.33333333, 0.6       ],\n",
       "       [0.80952381, 0.16666667, 0.8       ],\n",
       "       [0.47619048, 1.        , 1.        ],\n",
       "       [0.        , 0.25      , 0.2       ],\n",
       "       [0.23809524, 0.        , 1.        ],\n",
       "       [0.33333333, 0.25      , 0.8       ],\n",
       "       [0.42857143, 0.08333333, 0.8       ],\n",
       "       [0.76190476, 0.03333333, 1.        ],\n",
       "       [0.23809524, 1.        , 0.4       ],\n",
       "       [0.47619048, 1.        , 1.        ],\n",
       "       [0.33333333, 0.25      , 0.8       ],\n",
       "       [0.47619048, 1.        , 1.        ],\n",
       "       [0.14285714, 0.75      , 0.        ],\n",
       "       [0.        , 0.        , 0.        ],\n",
       "       [0.71428571, 0.16666667, 0.8       ],\n",
       "       [0.19047619, 0.28333333, 0.8       ],\n",
       "       [0.23809524, 0.5       , 0.4       ],\n",
       "       [0.52380952, 0.33333333, 0.6       ],\n",
       "       [0.14285714, 0.75      , 0.        ],\n",
       "       [0.14285714, 0.5       , 0.2       ],\n",
       "       [0.14285714, 0.5       , 0.2       ],\n",
       "       [0.47619048, 1.        , 1.        ],\n",
       "       [0.14285714, 0.5       , 0.2       ],\n",
       "       [0.        , 0.        , 0.        ],\n",
       "       [0.52380952, 0.33333333, 0.6       ],\n",
       "       [0.23809524, 0.75      , 0.6       ],\n",
       "       [0.23809524, 0.75      , 0.6       ],\n",
       "       [0.14285714, 0.5       , 0.4       ],\n",
       "       [0.14285714, 0.5       , 0.2       ],\n",
       "       [0.33333333, 0.        , 1.        ],\n",
       "       [0.23809524, 1.        , 0.4       ],\n",
       "       [0.33333333, 0.25      , 0.8       ],\n",
       "       [0.47619048, 1.        , 1.        ],\n",
       "       [0.23809524, 1.        , 0.4       ],\n",
       "       [0.23809524, 0.5       , 0.2       ],\n",
       "       [0.14285714, 0.5       , 0.4       ],\n",
       "       [0.23809524, 1.        , 0.4       ],\n",
       "       [0.        , 0.5       , 0.2       ],\n",
       "       [0.14285714, 0.75      , 0.        ],\n",
       "       [0.23809524, 1.        , 0.4       ],\n",
       "       [0.        , 0.        , 0.        ],\n",
       "       [0.33333333, 0.25      , 0.8       ],\n",
       "       [0.47619048, 1.        , 1.        ],\n",
       "       [0.14285714, 0.75      , 0.        ],\n",
       "       [0.        , 0.25      , 0.2       ],\n",
       "       [0.47619048, 1.        , 1.        ],\n",
       "       [0.        , 0.25      , 0.2       ],\n",
       "       [0.14285714, 0.5       , 0.4       ],\n",
       "       [0.23809524, 0.75      , 0.6       ],\n",
       "       [0.23809524, 0.75      , 0.6       ],\n",
       "       [0.        , 0.25      , 0.2       ],\n",
       "       [0.61904762, 0.25      , 0.8       ],\n",
       "       [0.47619048, 1.        , 1.        ],\n",
       "       [0.14285714, 0.5       , 0.2       ],\n",
       "       [0.23809524, 1.        , 0.4       ],\n",
       "       [0.33333333, 0.25      , 0.8       ],\n",
       "       [0.        , 0.25      , 0.2       ],\n",
       "       [0.14285714, 0.5       , 0.2       ],\n",
       "       [0.14285714, 0.75      , 0.        ],\n",
       "       [0.14285714, 0.75      , 0.        ],\n",
       "       [0.85714286, 0.58333333, 0.4       ],\n",
       "       [0.        , 0.        , 0.        ],\n",
       "       [0.14285714, 1.        , 0.4       ],\n",
       "       [0.        , 0.25      , 0.2       ],\n",
       "       [0.14285714, 0.5       , 0.2       ],\n",
       "       [0.14285714, 0.5       , 0.4       ],\n",
       "       [0.33333333, 0.25      , 0.8       ],\n",
       "       [0.33333333, 0.25      , 0.8       ],\n",
       "       [0.14285714, 0.75      , 0.        ],\n",
       "       [0.47619048, 0.5       , 1.        ],\n",
       "       [0.47619048, 1.        , 1.        ],\n",
       "       [0.14285714, 0.5       , 0.2       ],\n",
       "       [0.23809524, 1.        , 0.4       ],\n",
       "       [0.23809524, 1.        , 0.4       ],\n",
       "       [0.23809524, 0.75      , 0.6       ],\n",
       "       [0.14285714, 0.5       , 0.2       ],\n",
       "       [0.47619048, 1.        , 1.        ],\n",
       "       [0.47619048, 1.        , 1.        ],\n",
       "       [0.        , 0.        , 0.        ],\n",
       "       [0.14285714, 0.5       , 0.2       ],\n",
       "       [0.33333333, 0.        , 1.        ],\n",
       "       [0.        , 0.        , 0.        ],\n",
       "       [0.23809524, 0.75      , 0.6       ],\n",
       "       [0.23809524, 0.16666667, 0.4       ],\n",
       "       [0.33333333, 0.25      , 0.8       ],\n",
       "       [0.14285714, 0.66666667, 0.2       ],\n",
       "       [0.33333333, 0.25      , 0.8       ],\n",
       "       [0.        , 0.        , 0.        ],\n",
       "       [0.14285714, 0.5       , 0.2       ],\n",
       "       [0.61904762, 0.25      , 0.8       ],\n",
       "       [0.47619048, 1.        , 1.        ],\n",
       "       [0.23809524, 0.75      , 0.6       ],\n",
       "       [0.        , 1.        , 0.        ],\n",
       "       [0.33333333, 0.        , 1.        ],\n",
       "       [0.47619048, 1.        , 1.        ],\n",
       "       [0.14285714, 0.5       , 0.2       ],\n",
       "       [0.        , 0.25      , 0.2       ],\n",
       "       [0.33333333, 0.        , 1.        ],\n",
       "       [0.14285714, 0.5       , 0.4       ],\n",
       "       [0.23809524, 0.        , 1.        ],\n",
       "       [0.33333333, 0.        , 1.        ],\n",
       "       [0.23809524, 0.75      , 0.6       ],\n",
       "       [0.23809524, 1.        , 0.4       ],\n",
       "       [0.14285714, 0.5       , 0.2       ],\n",
       "       [0.        , 0.        , 0.        ],\n",
       "       [0.61904762, 0.25      , 0.8       ],\n",
       "       [0.0952381 , 0.83333333, 0.        ],\n",
       "       [0.        , 0.25      , 0.2       ],\n",
       "       [0.33333333, 0.25      , 0.8       ],\n",
       "       [0.14285714, 0.5       , 0.4       ],\n",
       "       [0.33333333, 0.25      , 0.8       ],\n",
       "       [0.23809524, 0.25      , 0.        ],\n",
       "       [0.        , 0.25      , 0.2       ],\n",
       "       [1.        , 0.91666667, 0.        ],\n",
       "       [0.14285714, 0.5       , 0.2       ],\n",
       "       [0.47619048, 1.        , 1.        ],\n",
       "       [0.23809524, 1.        , 0.4       ],\n",
       "       [0.14285714, 0.75      , 0.2       ],\n",
       "       [0.14285714, 0.5       , 0.2       ],\n",
       "       [0.23809524, 0.75      , 0.6       ],\n",
       "       [0.        , 0.5       , 0.2       ],\n",
       "       [0.47619048, 1.        , 1.        ],\n",
       "       [0.23809524, 1.        , 0.4       ],\n",
       "       [0.        , 0.25      , 0.2       ],\n",
       "       [0.14285714, 0.75      , 0.        ],\n",
       "       [0.95238095, 0.        , 1.        ],\n",
       "       [0.        , 0.25      , 0.2       ],\n",
       "       [0.        , 0.        , 0.        ],\n",
       "       [0.14285714, 0.5       , 0.2       ],\n",
       "       [0.        , 0.25      , 0.2       ],\n",
       "       [0.        , 0.        , 0.        ],\n",
       "       [0.23809524, 1.        , 0.4       ],\n",
       "       [0.23809524, 1.        , 0.4       ],\n",
       "       [0.14285714, 0.5       , 0.2       ],\n",
       "       [0.23809524, 1.        , 0.4       ],\n",
       "       [0.33333333, 0.        , 1.        ],\n",
       "       [0.23809524, 0.75      , 0.6       ],\n",
       "       [0.19047619, 0.75      , 0.2       ],\n",
       "       [0.47619048, 1.        , 1.        ],\n",
       "       [0.33333333, 0.25      , 0.8       ],\n",
       "       [0.        , 0.        , 0.        ],\n",
       "       [0.23809524, 0.75      , 0.6       ],\n",
       "       [0.47619048, 1.        , 1.        ],\n",
       "       [0.        , 0.25      , 0.2       ],\n",
       "       [0.        , 0.25      , 0.2       ],\n",
       "       [0.38095238, 0.41666667, 0.6       ],\n",
       "       [0.        , 0.        , 0.        ],\n",
       "       [0.14285714, 0.5       , 0.2       ],\n",
       "       [0.33333333, 0.        , 1.        ],\n",
       "       [0.14285714, 0.5       , 0.4       ],\n",
       "       [0.14285714, 0.5       , 0.4       ],\n",
       "       [0.23809524, 0.75      , 0.6       ],\n",
       "       [0.33333333, 0.        , 1.        ],\n",
       "       [0.23809524, 0.        , 1.        ],\n",
       "       [0.14285714, 0.5       , 0.4       ],\n",
       "       [0.23809524, 0.75      , 0.6       ],\n",
       "       [0.        , 1.        , 0.        ],\n",
       "       [0.        , 0.        , 0.        ],\n",
       "       [0.23809524, 1.        , 0.4       ],\n",
       "       [0.        , 0.        , 0.        ],\n",
       "       [0.        , 0.        , 0.        ],\n",
       "       [0.33333333, 0.25      , 0.8       ],\n",
       "       [0.23809524, 1.        , 0.4       ],\n",
       "       [0.23809524, 1.        , 0.4       ],\n",
       "       [0.47619048, 1.        , 1.        ],\n",
       "       [0.33333333, 0.75      , 0.2       ],\n",
       "       [0.        , 0.        , 0.6       ],\n",
       "       [0.14285714, 0.75      , 0.        ],\n",
       "       [0.33333333, 0.75      , 0.2       ],\n",
       "       [0.47619048, 1.        , 1.        ],\n",
       "       [0.47619048, 1.        , 1.        ],\n",
       "       [0.23809524, 1.        , 0.4       ],\n",
       "       [0.38095238, 0.41666667, 0.6       ],\n",
       "       [0.23809524, 0.75      , 0.6       ],\n",
       "       [0.23809524, 1.        , 0.4       ],\n",
       "       [0.        , 0.25      , 0.2       ],\n",
       "       [0.33333333, 0.25      , 0.8       ],\n",
       "       [0.        , 0.25      , 0.2       ],\n",
       "       [0.42857143, 0.08333333, 0.8       ],\n",
       "       [0.23809524, 0.75      , 0.6       ],\n",
       "       [0.47619048, 0.5       , 1.        ],\n",
       "       [0.23809524, 0.75      , 0.6       ],\n",
       "       [0.76190476, 0.03333333, 1.        ],\n",
       "       [0.23809524, 1.        , 0.4       ],\n",
       "       [0.23809524, 0.75      , 0.6       ],\n",
       "       [0.47619048, 0.41666667, 0.4       ],\n",
       "       [0.        , 0.5       , 0.2       ],\n",
       "       [0.33333333, 0.        , 1.        ],\n",
       "       [0.85714286, 0.58333333, 0.4       ],\n",
       "       [0.33333333, 0.25      , 0.8       ],\n",
       "       [0.23809524, 0.        , 1.        ],\n",
       "       [0.        , 0.        , 0.        ],\n",
       "       [0.        , 0.5       , 0.2       ],\n",
       "       [0.47619048, 1.        , 1.        ],\n",
       "       [0.33333333, 0.66666667, 0.6       ],\n",
       "       [0.        , 0.        , 0.        ],\n",
       "       [0.14285714, 0.75      , 0.        ],\n",
       "       [0.14285714, 0.5       , 0.4       ],\n",
       "       [0.33333333, 0.25      , 0.8       ],\n",
       "       [0.14285714, 0.75      , 0.        ],\n",
       "       [0.        , 0.        , 0.        ],\n",
       "       [0.        , 0.25      , 0.2       ],\n",
       "       [0.33333333, 0.        , 1.        ],\n",
       "       [0.23809524, 0.25      , 0.        ],\n",
       "       [0.23809524, 1.        , 0.4       ],\n",
       "       [0.33333333, 0.25      , 0.8       ],\n",
       "       [0.14285714, 0.75      , 0.        ],\n",
       "       [0.33333333, 0.25      , 0.8       ],\n",
       "       [0.23809524, 1.        , 0.4       ],\n",
       "       [0.33333333, 0.        , 1.        ],\n",
       "       [0.23809524, 0.75      , 0.6       ],\n",
       "       [0.14285714, 0.75      , 0.        ],\n",
       "       [0.33333333, 0.25      , 0.8       ],\n",
       "       [0.        , 0.25      , 0.2       ],\n",
       "       [0.23809524, 0.75      , 0.6       ],\n",
       "       [0.        , 0.        , 0.        ],\n",
       "       [0.14285714, 0.5       , 0.4       ],\n",
       "       [1.        , 0.91666667, 0.        ],\n",
       "       [0.33333333, 0.25      , 0.8       ],\n",
       "       [0.47619048, 1.        , 1.        ],\n",
       "       [0.14285714, 0.75      , 0.        ],\n",
       "       [0.        , 0.25      , 0.2       ],\n",
       "       [0.33333333, 0.25      , 0.8       ],\n",
       "       [0.0952381 , 0.83333333, 0.        ],\n",
       "       [0.14285714, 0.5       , 0.2       ],\n",
       "       [0.14285714, 0.5       , 0.4       ],\n",
       "       [0.14285714, 0.75      , 0.        ],\n",
       "       [0.14285714, 0.5       , 0.2       ],\n",
       "       [0.        , 0.5       , 0.2       ],\n",
       "       [0.        , 0.        , 0.        ],\n",
       "       [0.23809524, 1.        , 0.4       ],\n",
       "       [0.14285714, 0.5       , 0.2       ],\n",
       "       [0.14285714, 0.75      , 0.        ],\n",
       "       [0.23809524, 0.75      , 0.6       ],\n",
       "       [0.        , 0.25      , 0.2       ],\n",
       "       [0.33333333, 0.        , 1.        ],\n",
       "       [0.57142857, 0.2       , 0.6       ],\n",
       "       [0.47619048, 1.        , 1.        ],\n",
       "       [0.14285714, 0.75      , 0.        ],\n",
       "       [0.14285714, 0.5       , 0.2       ]])"
      ]
     },
     "execution_count": 74,
     "metadata": {},
     "output_type": "execute_result"
    }
   ],
   "source": [
    "X_train_stress_scaled"
   ]
  },
  {
   "cell_type": "code",
   "execution_count": 75,
   "id": "6e921ae1",
   "metadata": {},
   "outputs": [
    {
     "name": "stdout",
     "output_type": "stream",
     "text": [
      "[[70.00000004 75.          6.        ]]\n"
     ]
    }
   ],
   "source": [
    "\n"
   ]
  },
  {
   "cell_type": "raw",
   "id": "b9263510",
   "metadata": {},
   "source": [
    "Physical activity, Stress level and Heart rate capture 98% of the variance of the data. Perhaps another model that predicts stress could offer more insights"
   ]
  },
  {
   "cell_type": "markdown",
   "id": "70f000f8",
   "metadata": {},
   "source": [
    "# Bedtimes Model"
   ]
  },
  {
   "cell_type": "markdown",
   "id": "e5ce8246",
   "metadata": {},
   "source": [
    "# This model also predicts for sleep score but the goal here is to find the ideal sleep and wake time to maximize sleep score"
   ]
  },
  {
   "cell_type": "code",
   "execution_count": 26,
   "id": "0b0199ea",
   "metadata": {},
   "outputs": [],
   "source": [
    "bedtime_model = load(\"Models&Metrics/bedtimes_model/bedtimes_model.joblib\")\n",
    "bedtime_df = load(\"Models&Metrics/bedtimes_model/DataFrame\")\n",
    "bedtime_model_performance = load(\"Models&Metrics/bedtimes_model/bedtimes_model_performance.joblib\")\n",
    "bedtime_best_params = load(\"Models&Metrics/bedtimes_model/bedtimes_model_best_params.joblib\")\n",
    "\n",
    "X_train_bedtime = load(\"Models&Metrics/bedtimes_model/X_train_data.joblib\")\n",
    "X_test_bedtime = load(\"Models&Metrics/bedtimes_model/X_test_data.joblib\")\n",
    "y_train_bedtime = load(\"Models&Metrics/bedtimes_model/y_train_data.joblib\")\n",
    "y_test_bedtime = load(\"Models&Metrics/bedtimes_model/y_test_data.joblib\")"
   ]
  },
  {
   "cell_type": "code",
   "execution_count": 17,
   "id": "fe5267af",
   "metadata": {},
   "outputs": [
    {
     "data": {
      "text/html": [
       "<style>#sk-container-id-4 {color: black;}#sk-container-id-4 pre{padding: 0;}#sk-container-id-4 div.sk-toggleable {background-color: white;}#sk-container-id-4 label.sk-toggleable__label {cursor: pointer;display: block;width: 100%;margin-bottom: 0;padding: 0.3em;box-sizing: border-box;text-align: center;}#sk-container-id-4 label.sk-toggleable__label-arrow:before {content: \"▸\";float: left;margin-right: 0.25em;color: #696969;}#sk-container-id-4 label.sk-toggleable__label-arrow:hover:before {color: black;}#sk-container-id-4 div.sk-estimator:hover label.sk-toggleable__label-arrow:before {color: black;}#sk-container-id-4 div.sk-toggleable__content {max-height: 0;max-width: 0;overflow: hidden;text-align: left;background-color: #f0f8ff;}#sk-container-id-4 div.sk-toggleable__content pre {margin: 0.2em;color: black;border-radius: 0.25em;background-color: #f0f8ff;}#sk-container-id-4 input.sk-toggleable__control:checked~div.sk-toggleable__content {max-height: 200px;max-width: 100%;overflow: auto;}#sk-container-id-4 input.sk-toggleable__control:checked~label.sk-toggleable__label-arrow:before {content: \"▾\";}#sk-container-id-4 div.sk-estimator input.sk-toggleable__control:checked~label.sk-toggleable__label {background-color: #d4ebff;}#sk-container-id-4 div.sk-label input.sk-toggleable__control:checked~label.sk-toggleable__label {background-color: #d4ebff;}#sk-container-id-4 input.sk-hidden--visually {border: 0;clip: rect(1px 1px 1px 1px);clip: rect(1px, 1px, 1px, 1px);height: 1px;margin: -1px;overflow: hidden;padding: 0;position: absolute;width: 1px;}#sk-container-id-4 div.sk-estimator {font-family: monospace;background-color: #f0f8ff;border: 1px dotted black;border-radius: 0.25em;box-sizing: border-box;margin-bottom: 0.5em;}#sk-container-id-4 div.sk-estimator:hover {background-color: #d4ebff;}#sk-container-id-4 div.sk-parallel-item::after {content: \"\";width: 100%;border-bottom: 1px solid gray;flex-grow: 1;}#sk-container-id-4 div.sk-label:hover label.sk-toggleable__label {background-color: #d4ebff;}#sk-container-id-4 div.sk-serial::before {content: \"\";position: absolute;border-left: 1px solid gray;box-sizing: border-box;top: 0;bottom: 0;left: 50%;z-index: 0;}#sk-container-id-4 div.sk-serial {display: flex;flex-direction: column;align-items: center;background-color: white;padding-right: 0.2em;padding-left: 0.2em;position: relative;}#sk-container-id-4 div.sk-item {position: relative;z-index: 1;}#sk-container-id-4 div.sk-parallel {display: flex;align-items: stretch;justify-content: center;background-color: white;position: relative;}#sk-container-id-4 div.sk-item::before, #sk-container-id-4 div.sk-parallel-item::before {content: \"\";position: absolute;border-left: 1px solid gray;box-sizing: border-box;top: 0;bottom: 0;left: 50%;z-index: -1;}#sk-container-id-4 div.sk-parallel-item {display: flex;flex-direction: column;z-index: 1;position: relative;background-color: white;}#sk-container-id-4 div.sk-parallel-item:first-child::after {align-self: flex-end;width: 50%;}#sk-container-id-4 div.sk-parallel-item:last-child::after {align-self: flex-start;width: 50%;}#sk-container-id-4 div.sk-parallel-item:only-child::after {width: 0;}#sk-container-id-4 div.sk-dashed-wrapped {border: 1px dashed gray;margin: 0 0.4em 0.5em 0.4em;box-sizing: border-box;padding-bottom: 0.4em;background-color: white;}#sk-container-id-4 div.sk-label label {font-family: monospace;font-weight: bold;display: inline-block;line-height: 1.2em;}#sk-container-id-4 div.sk-label-container {text-align: center;}#sk-container-id-4 div.sk-container {/* jupyter's `normalize.less` sets `[hidden] { display: none; }` but bootstrap.min.css set `[hidden] { display: none !important; }` so we also need the `!important` here to be able to override the default hidden behavior on the sphinx rendered scikit-learn.org. See: https://github.com/scikit-learn/scikit-learn/issues/21755 */display: inline-block !important;position: relative;}#sk-container-id-4 div.sk-text-repr-fallback {display: none;}</style><div id=\"sk-container-id-4\" class=\"sk-top-container\"><div class=\"sk-text-repr-fallback\"><pre>GradientBoostingRegressor(learning_rate=0.01, max_depth=6, max_features=&#x27;sqrt&#x27;,\n",
       "                          min_samples_leaf=3, min_samples_split=6,\n",
       "                          n_estimators=416, subsample=0.94)</pre><b>In a Jupyter environment, please rerun this cell to show the HTML representation or trust the notebook. <br />On GitHub, the HTML representation is unable to render, please try loading this page with nbviewer.org.</b></div><div class=\"sk-container\" hidden><div class=\"sk-item\"><div class=\"sk-estimator sk-toggleable\"><input class=\"sk-toggleable__control sk-hidden--visually\" id=\"sk-estimator-id-4\" type=\"checkbox\" checked><label for=\"sk-estimator-id-4\" class=\"sk-toggleable__label sk-toggleable__label-arrow\">GradientBoostingRegressor</label><div class=\"sk-toggleable__content\"><pre>GradientBoostingRegressor(learning_rate=0.01, max_depth=6, max_features=&#x27;sqrt&#x27;,\n",
       "                          min_samples_leaf=3, min_samples_split=6,\n",
       "                          n_estimators=416, subsample=0.94)</pre></div></div></div></div></div>"
      ],
      "text/plain": [
       "GradientBoostingRegressor(learning_rate=0.01, max_depth=6, max_features='sqrt',\n",
       "                          min_samples_leaf=3, min_samples_split=6,\n",
       "                          n_estimators=416, subsample=0.94)"
      ]
     },
     "execution_count": 17,
     "metadata": {},
     "output_type": "execute_result"
    }
   ],
   "source": [
    "bedtime_model"
   ]
  },
  {
   "cell_type": "code",
   "execution_count": 18,
   "id": "afc0685d",
   "metadata": {},
   "outputs": [
    {
     "data": {
      "text/plain": [
       "{'Mean Squared Error': 94.81575590138179,\n",
       " 'R-squared': 0.6188748741651136,\n",
       " 'RMSE': 9.73733823492754}"
      ]
     },
     "execution_count": 18,
     "metadata": {},
     "output_type": "execute_result"
    }
   ],
   "source": [
    "bedtime_model_performance"
   ]
  },
  {
   "cell_type": "code",
   "execution_count": 19,
   "id": "996ab47a",
   "metadata": {},
   "outputs": [
    {
     "data": {
      "text/plain": [
       "{'learning_rate': 0.01,\n",
       " 'max_depth': 6,\n",
       " 'max_features': 'sqrt',\n",
       " 'min_samples_leaf': 3,\n",
       " 'min_samples_split': 6,\n",
       " 'n_estimators': 416,\n",
       " 'subsample': 0.94}"
      ]
     },
     "execution_count": 19,
     "metadata": {},
     "output_type": "execute_result"
    }
   ],
   "source": [
    "bedtime_best_params"
   ]
  },
  {
   "cell_type": "code",
   "execution_count": 20,
   "id": "e9b3361e",
   "metadata": {},
   "outputs": [
    {
     "data": {
      "text/html": [
       "<div>\n",
       "<style scoped>\n",
       "    .dataframe tbody tr th:only-of-type {\n",
       "        vertical-align: middle;\n",
       "    }\n",
       "\n",
       "    .dataframe tbody tr th {\n",
       "        vertical-align: top;\n",
       "    }\n",
       "\n",
       "    .dataframe thead th {\n",
       "        text-align: right;\n",
       "    }\n",
       "</style>\n",
       "<table border=\"1\" class=\"dataframe\">\n",
       "  <thead>\n",
       "    <tr style=\"text-align: right;\">\n",
       "      <th></th>\n",
       "      <th>Start</th>\n",
       "      <th>End</th>\n",
       "      <th>Sleep quality</th>\n",
       "      <th>Time in bed</th>\n",
       "      <th>Activity (steps)</th>\n",
       "      <th>None</th>\n",
       "      <th>Stressful day</th>\n",
       "      <th>Drank coffee</th>\n",
       "      <th>Drank tea</th>\n",
       "      <th>Ate late</th>\n",
       "      <th>Worked out</th>\n",
       "    </tr>\n",
       "  </thead>\n",
       "  <tbody>\n",
       "    <tr>\n",
       "      <th>0</th>\n",
       "      <td>1377</td>\n",
       "      <td>450</td>\n",
       "      <td>100</td>\n",
       "      <td>512</td>\n",
       "      <td>0</td>\n",
       "      <td>1</td>\n",
       "      <td>0</td>\n",
       "      <td>0</td>\n",
       "      <td>0</td>\n",
       "      <td>0</td>\n",
       "      <td>0</td>\n",
       "    </tr>\n",
       "    <tr>\n",
       "      <th>1</th>\n",
       "      <td>1277</td>\n",
       "      <td>1293</td>\n",
       "      <td>3</td>\n",
       "      <td>16</td>\n",
       "      <td>0</td>\n",
       "      <td>0</td>\n",
       "      <td>1</td>\n",
       "      <td>0</td>\n",
       "      <td>0</td>\n",
       "      <td>0</td>\n",
       "      <td>0</td>\n",
       "    </tr>\n",
       "    <tr>\n",
       "      <th>2</th>\n",
       "      <td>1362</td>\n",
       "      <td>433</td>\n",
       "      <td>98</td>\n",
       "      <td>510</td>\n",
       "      <td>0</td>\n",
       "      <td>1</td>\n",
       "      <td>0</td>\n",
       "      <td>0</td>\n",
       "      <td>0</td>\n",
       "      <td>0</td>\n",
       "      <td>0</td>\n",
       "    </tr>\n",
       "    <tr>\n",
       "      <th>3</th>\n",
       "      <td>1351</td>\n",
       "      <td>363</td>\n",
       "      <td>65</td>\n",
       "      <td>452</td>\n",
       "      <td>0</td>\n",
       "      <td>1</td>\n",
       "      <td>0</td>\n",
       "      <td>0</td>\n",
       "      <td>0</td>\n",
       "      <td>0</td>\n",
       "      <td>0</td>\n",
       "    </tr>\n",
       "    <tr>\n",
       "      <th>4</th>\n",
       "      <td>1332</td>\n",
       "      <td>296</td>\n",
       "      <td>72</td>\n",
       "      <td>404</td>\n",
       "      <td>0</td>\n",
       "      <td>0</td>\n",
       "      <td>0</td>\n",
       "      <td>1</td>\n",
       "      <td>1</td>\n",
       "      <td>0</td>\n",
       "      <td>0</td>\n",
       "    </tr>\n",
       "    <tr>\n",
       "      <th>...</th>\n",
       "      <td>...</td>\n",
       "      <td>...</td>\n",
       "      <td>...</td>\n",
       "      <td>...</td>\n",
       "      <td>...</td>\n",
       "      <td>...</td>\n",
       "      <td>...</td>\n",
       "      <td>...</td>\n",
       "      <td>...</td>\n",
       "      <td>...</td>\n",
       "      <td>...</td>\n",
       "    </tr>\n",
       "    <tr>\n",
       "      <th>882</th>\n",
       "      <td>1314</td>\n",
       "      <td>422</td>\n",
       "      <td>91</td>\n",
       "      <td>548</td>\n",
       "      <td>56</td>\n",
       "      <td>1</td>\n",
       "      <td>0</td>\n",
       "      <td>0</td>\n",
       "      <td>0</td>\n",
       "      <td>0</td>\n",
       "      <td>0</td>\n",
       "    </tr>\n",
       "    <tr>\n",
       "      <th>883</th>\n",
       "      <td>1429</td>\n",
       "      <td>420</td>\n",
       "      <td>81</td>\n",
       "      <td>431</td>\n",
       "      <td>64</td>\n",
       "      <td>1</td>\n",
       "      <td>0</td>\n",
       "      <td>0</td>\n",
       "      <td>0</td>\n",
       "      <td>0</td>\n",
       "      <td>0</td>\n",
       "    </tr>\n",
       "    <tr>\n",
       "      <th>884</th>\n",
       "      <td>1284</td>\n",
       "      <td>380</td>\n",
       "      <td>71</td>\n",
       "      <td>536</td>\n",
       "      <td>3316</td>\n",
       "      <td>1</td>\n",
       "      <td>0</td>\n",
       "      <td>0</td>\n",
       "      <td>0</td>\n",
       "      <td>0</td>\n",
       "      <td>0</td>\n",
       "    </tr>\n",
       "    <tr>\n",
       "      <th>885</th>\n",
       "      <td>1296</td>\n",
       "      <td>410</td>\n",
       "      <td>80</td>\n",
       "      <td>553</td>\n",
       "      <td>6555</td>\n",
       "      <td>1</td>\n",
       "      <td>0</td>\n",
       "      <td>0</td>\n",
       "      <td>0</td>\n",
       "      <td>0</td>\n",
       "      <td>0</td>\n",
       "    </tr>\n",
       "    <tr>\n",
       "      <th>886</th>\n",
       "      <td>1372</td>\n",
       "      <td>468</td>\n",
       "      <td>91</td>\n",
       "      <td>535</td>\n",
       "      <td>2291</td>\n",
       "      <td>1</td>\n",
       "      <td>0</td>\n",
       "      <td>0</td>\n",
       "      <td>0</td>\n",
       "      <td>0</td>\n",
       "      <td>0</td>\n",
       "    </tr>\n",
       "  </tbody>\n",
       "</table>\n",
       "<p>887 rows × 11 columns</p>\n",
       "</div>"
      ],
      "text/plain": [
       "     Start   End  Sleep quality  Time in bed  Activity (steps)  None  \\\n",
       "0     1377   450            100          512                 0     1   \n",
       "1     1277  1293              3           16                 0     0   \n",
       "2     1362   433             98          510                 0     1   \n",
       "3     1351   363             65          452                 0     1   \n",
       "4     1332   296             72          404                 0     0   \n",
       "..     ...   ...            ...          ...               ...   ...   \n",
       "882   1314   422             91          548                56     1   \n",
       "883   1429   420             81          431                64     1   \n",
       "884   1284   380             71          536              3316     1   \n",
       "885   1296   410             80          553              6555     1   \n",
       "886   1372   468             91          535              2291     1   \n",
       "\n",
       "     Stressful day  Drank coffee  Drank tea  Ate late  Worked out  \n",
       "0                0             0          0         0           0  \n",
       "1                1             0          0         0           0  \n",
       "2                0             0          0         0           0  \n",
       "3                0             0          0         0           0  \n",
       "4                0             1          1         0           0  \n",
       "..             ...           ...        ...       ...         ...  \n",
       "882              0             0          0         0           0  \n",
       "883              0             0          0         0           0  \n",
       "884              0             0          0         0           0  \n",
       "885              0             0          0         0           0  \n",
       "886              0             0          0         0           0  \n",
       "\n",
       "[887 rows x 11 columns]"
      ]
     },
     "execution_count": 20,
     "metadata": {},
     "output_type": "execute_result"
    }
   ],
   "source": [
    "bedtime_df"
   ]
  },
  {
   "cell_type": "raw",
   "id": "a32400fd",
   "metadata": {},
   "source": [
    "Im thinking of how the models could feed into eachother to provide better insights. The long term goal is to use these models as a baseline but have them be trained and evaluated on real client data. I would still like to improve model performance if possible."
   ]
  }
 ],
 "metadata": {
  "kernelspec": {
   "display_name": "Python 3 (ipykernel)",
   "language": "python",
   "name": "python3"
  },
  "language_info": {
   "codemirror_mode": {
    "name": "ipython",
    "version": 3
   },
   "file_extension": ".py",
   "mimetype": "text/x-python",
   "name": "python",
   "nbconvert_exporter": "python",
   "pygments_lexer": "ipython3",
   "version": "3.11.4"
  }
 },
 "nbformat": 4,
 "nbformat_minor": 5
}
